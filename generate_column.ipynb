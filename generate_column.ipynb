{
 "cells": [
  {
   "cell_type": "code",
   "execution_count": 33,
   "id": "567cb69c",
   "metadata": {},
   "outputs": [],
   "source": [
    "import pandas as pd\n",
    "import random\n",
    "from datetime import date"
   ]
  },
  {
   "cell_type": "code",
   "execution_count": 31,
   "id": "2eb0d17d",
   "metadata": {},
   "outputs": [],
   "source": [
    "def generate_number_doc():\n",
    "    \"\"\"\n",
    "    Функция для генерации случайного номера\n",
    "    \"\"\"\n",
    "    number = random.randint(99,999)\n",
    "    letter = random.choice(lst_letters)\n",
    "    return f'{number}-{letter}'\n",
    "\n",
    "def generate_random_date():\n",
    "    \"\"\"\n",
    "    Функция для генерации случайной даты\n",
    "    \"\"\"\n",
    "    start_dt = date.today().replace(day=1, month=1).toordinal()\n",
    "    end_dt = date.today().toordinal()\n",
    "    random_day = date.fromordinal(random.randint(start_dt, end_dt))\n",
    "\n",
    "    d = random_day.strftime('%d.%m.%Y')\n",
    "    return d"
   ]
  },
  {
   "cell_type": "code",
   "execution_count": 2,
   "id": "25d856fb",
   "metadata": {},
   "outputs": [],
   "source": [
    "df = pd.read_excel('data/Эксперты ВСР.xlsx')"
   ]
  },
  {
   "cell_type": "code",
   "execution_count": 3,
   "id": "c0ff9f16",
   "metadata": {},
   "outputs": [
    {
     "data": {
      "text/html": [
       "<div>\n",
       "<style scoped>\n",
       "    .dataframe tbody tr th:only-of-type {\n",
       "        vertical-align: middle;\n",
       "    }\n",
       "\n",
       "    .dataframe tbody tr th {\n",
       "        vertical-align: top;\n",
       "    }\n",
       "\n",
       "    .dataframe thead th {\n",
       "        text-align: right;\n",
       "    }\n",
       "</style>\n",
       "<table border=\"1\" class=\"dataframe\">\n",
       "  <thead>\n",
       "    <tr style=\"text-align: right;\">\n",
       "      <th></th>\n",
       "      <th>ФИО</th>\n",
       "      <th>Организация, город   Отметка о пролонгации свидетельства</th>\n",
       "      <th>Регион</th>\n",
       "      <th>№ свидетельства</th>\n",
       "      <th>Компетенция</th>\n",
       "      <th>Дата выдачи</th>\n",
       "      <th>Срок действия (лет)</th>\n",
       "      <th>Телефон</th>\n",
       "      <th>Имейл</th>\n",
       "    </tr>\n",
       "  </thead>\n",
       "  <tbody>\n",
       "    <tr>\n",
       "      <th>0</th>\n",
       "      <td>Мария Борисовна Степанова</td>\n",
       "      <td>(Пролонгировано)</td>\n",
       "      <td>Республика Бурятия</td>\n",
       "      <td>1849.0</td>\n",
       "      <td>Администрирование отеля</td>\n",
       "      <td>2019-05-06</td>\n",
       "      <td>2.0</td>\n",
       "      <td>7-902-169 44 30</td>\n",
       "      <td>stepanovam1244@gmail.com</td>\n",
       "    </tr>\n",
       "    <tr>\n",
       "      <th>1</th>\n",
       "      <td>Нина Алескандровна Сангадиева</td>\n",
       "      <td>ГАПОУ Республиканский базовый медицинский колл...</td>\n",
       "      <td>Республика Бурятия</td>\n",
       "      <td>7420.0</td>\n",
       "      <td>Медицинский и социальный уход</td>\n",
       "      <td>2019-05-28</td>\n",
       "      <td>2.0</td>\n",
       "      <td>890219673913</td>\n",
       "      <td>sanvsana17012014@mail.ru</td>\n",
       "    </tr>\n",
       "    <tr>\n",
       "      <th>2</th>\n",
       "      <td>Ольга Георгиевна  Задорожная</td>\n",
       "      <td>ГБПОУ Байкальский колледж туризма и сервиса</td>\n",
       "      <td>Республика Бурятия</td>\n",
       "      <td>7535.0</td>\n",
       "      <td>Поварское дело</td>\n",
       "      <td>2019-06-07</td>\n",
       "      <td>2.0</td>\n",
       "      <td>7-902-160 44 45</td>\n",
       "      <td>ozadorojnaja@gmail.com</td>\n",
       "    </tr>\n",
       "    <tr>\n",
       "      <th>3</th>\n",
       "      <td>Анна Вячеславовна  Воронцова</td>\n",
       "      <td>(Пролонгировано)</td>\n",
       "      <td>Республика Бурятия</td>\n",
       "      <td>2839.0</td>\n",
       "      <td>Кондитерское дело</td>\n",
       "      <td>2019-08-28</td>\n",
       "      <td>2.0</td>\n",
       "      <td>7-950-388 82 32</td>\n",
       "      <td>avoronzova.bttiet@gmail.com</td>\n",
       "    </tr>\n",
       "    <tr>\n",
       "      <th>4</th>\n",
       "      <td>Лариса Алексеевна   Цурикова</td>\n",
       "      <td>(Пролонгировано)</td>\n",
       "      <td>Республика Бурятия</td>\n",
       "      <td>3017.0</td>\n",
       "      <td>Туризм</td>\n",
       "      <td>2019-09-30</td>\n",
       "      <td>2.0</td>\n",
       "      <td>7-924-652 84 30</td>\n",
       "      <td>lcurikova.bttiet@gmail.com</td>\n",
       "    </tr>\n",
       "  </tbody>\n",
       "</table>\n",
       "</div>"
      ],
      "text/plain": [
       "                             ФИО  \\\n",
       "0      Мария Борисовна Степанова   \n",
       "1  Нина Алескандровна Сангадиева   \n",
       "2  Ольга Георгиевна  Задорожная    \n",
       "3   Анна Вячеславовна  Воронцова   \n",
       "4   Лариса Алексеевна   Цурикова   \n",
       "\n",
       "  Организация, город   Отметка о пролонгации свидетельства  \\\n",
       "0                                   (Пролонгировано)         \n",
       "1  ГАПОУ Республиканский базовый медицинский колл...         \n",
       "2        ГБПОУ Байкальский колледж туризма и сервиса         \n",
       "3                                   (Пролонгировано)         \n",
       "4                                   (Пролонгировано)         \n",
       "\n",
       "               Регион  № свидетельства                    Компетенция  \\\n",
       "0  Республика Бурятия           1849.0        Администрирование отеля   \n",
       "1  Республика Бурятия           7420.0  Медицинский и социальный уход   \n",
       "2  Республика Бурятия           7535.0                 Поварское дело   \n",
       "3  Республика Бурятия           2839.0              Кондитерское дело   \n",
       "4  Республика Бурятия           3017.0                         Туризм   \n",
       "\n",
       "  Дата выдачи  Срок действия (лет)           Телефон  \\\n",
       "0  2019-05-06                  2.0   7-902-169 44 30   \n",
       "1  2019-05-28                  2.0      890219673913   \n",
       "2  2019-06-07                  2.0   7-902-160 44 45   \n",
       "3  2019-08-28                  2.0   7-950-388 82 32   \n",
       "4  2019-09-30                  2.0   7-924-652 84 30   \n",
       "\n",
       "                         Имейл  \n",
       "0     stepanovam1244@gmail.com  \n",
       "1     sanvsana17012014@mail.ru  \n",
       "2       ozadorojnaja@gmail.com  \n",
       "3  avoronzova.bttiet@gmail.com  \n",
       "4   lcurikova.bttiet@gmail.com  "
      ]
     },
     "execution_count": 3,
     "metadata": {},
     "output_type": "execute_result"
    }
   ],
   "source": [
    "df.head()"
   ]
  },
  {
   "cell_type": "code",
   "execution_count": 6,
   "id": "a57bff90",
   "metadata": {},
   "outputs": [],
   "source": [
    "# Создаем небольшой датафрейм\n",
    "small_df = df.sample(n=30,ignore_index=True)"
   ]
  },
  {
   "cell_type": "code",
   "execution_count": 9,
   "id": "159c1a72",
   "metadata": {},
   "outputs": [],
   "source": [
    "lst_bool = ['Да','Нет']"
   ]
  },
  {
   "cell_type": "code",
   "execution_count": 12,
   "id": "703c79bc",
   "metadata": {},
   "outputs": [],
   "source": [
    "# Создаем последовательности рандомные\n",
    "lst_bilet = [random.choice(lst_bool) for i in range(small_df.shape[0])]\n",
    "lst_sod = [random.choice(lst_bool) for i in range(small_df.shape[0])]\n",
    "lst_copp = [random.choice(lst_bool) for i in range(small_df.shape[0])]"
   ]
  },
  {
   "cell_type": "code",
   "execution_count": 14,
   "id": "c652ddf1",
   "metadata": {},
   "outputs": [],
   "source": [
    "# Добавляем колонки\n",
    "small_df['Участие в Билет в Будущее'] = lst_bilet\n",
    "small_df['Содействие занятости'] = lst_sod\n",
    "small_df['Взаимодействие с ЦОПП'] = lst_copp"
   ]
  },
  {
   "cell_type": "code",
   "execution_count": 16,
   "id": "bc90c1b1",
   "metadata": {},
   "outputs": [],
   "source": [
    "small_df.to_excel('Обновленные данные ВСР.xlsx',index=False)"
   ]
  },
  {
   "cell_type": "code",
   "execution_count": 17,
   "id": "793a916a",
   "metadata": {},
   "outputs": [],
   "source": [
    "df = pd.read_excel('data/Список студентов ГАПОУ РРББК.xlsx')"
   ]
  },
  {
   "cell_type": "code",
   "execution_count": 18,
   "id": "504d5f8d",
   "metadata": {},
   "outputs": [],
   "source": [
    "small_df = pd.read_excel('data/Учебный статус студентов ГАПОУ РРРББК.xlsx')"
   ]
  },
  {
   "cell_type": "code",
   "execution_count": 38,
   "id": "715ef0af",
   "metadata": {},
   "outputs": [],
   "source": [
    "lst_status = ['Обучается','Закончил обучение','Отчислен за академическую неуспеваемость','Перевелся в другое уч.зав.','Академический отпуск',\n",
    "              'Декрет','Служба в РА']"
   ]
  },
  {
   "cell_type": "code",
   "execution_count": 23,
   "id": "bb8be862",
   "metadata": {},
   "outputs": [],
   "source": [
    "lst_letters = ['а','б','с','г','д','з','н']"
   ]
  },
  {
   "cell_type": "code",
   "execution_count": 39,
   "id": "16375259",
   "metadata": {},
   "outputs": [],
   "source": [
    "lst_s = [random.choice(lst_status) for i in range(small_df.shape[0])]\n",
    "small_df['Учебный статус'] = lst_s"
   ]
  },
  {
   "cell_type": "code",
   "execution_count": 40,
   "id": "530a9eba",
   "metadata": {},
   "outputs": [],
   "source": [
    "lst_number_doc = [generate_number_doc() for i in range(small_df.shape[0])]\n",
    "small_df['Номер приказа'] = lst_number_doc"
   ]
  },
  {
   "cell_type": "code",
   "execution_count": 41,
   "id": "21e0f472",
   "metadata": {},
   "outputs": [],
   "source": [
    "lst_date = [generate_random_date() for i in range(small_df.shape[0])]"
   ]
  },
  {
   "cell_type": "code",
   "execution_count": 42,
   "id": "010a2b77",
   "metadata": {},
   "outputs": [],
   "source": [
    "small_df['Дата приказа'] = lst_date"
   ]
  },
  {
   "cell_type": "code",
   "execution_count": 43,
   "id": "0902953d",
   "metadata": {},
   "outputs": [
    {
     "data": {
      "text/html": [
       "<div>\n",
       "<style scoped>\n",
       "    .dataframe tbody tr th:only-of-type {\n",
       "        vertical-align: middle;\n",
       "    }\n",
       "\n",
       "    .dataframe tbody tr th {\n",
       "        vertical-align: top;\n",
       "    }\n",
       "\n",
       "    .dataframe thead th {\n",
       "        text-align: right;\n",
       "    }\n",
       "</style>\n",
       "<table border=\"1\" class=\"dataframe\">\n",
       "  <thead>\n",
       "    <tr style=\"text-align: right;\">\n",
       "      <th></th>\n",
       "      <th>ФИО</th>\n",
       "      <th>Учебный статус</th>\n",
       "      <th>Номер приказа</th>\n",
       "      <th>Дата приказа</th>\n",
       "    </tr>\n",
       "  </thead>\n",
       "  <tbody>\n",
       "    <tr>\n",
       "      <th>0</th>\n",
       "      <td>Алехин Данила Прокопьевич</td>\n",
       "      <td>Закончил обучение</td>\n",
       "      <td>669-с</td>\n",
       "      <td>24.01.2023</td>\n",
       "    </tr>\n",
       "    <tr>\n",
       "      <th>1</th>\n",
       "      <td>Эсаулова Валерия Прокловна</td>\n",
       "      <td>Декрет</td>\n",
       "      <td>618-с</td>\n",
       "      <td>18.01.2023</td>\n",
       "    </tr>\n",
       "    <tr>\n",
       "      <th>2</th>\n",
       "      <td>Панин Гавриил Власович</td>\n",
       "      <td>Декрет</td>\n",
       "      <td>788-н</td>\n",
       "      <td>09.02.2023</td>\n",
       "    </tr>\n",
       "    <tr>\n",
       "      <th>3</th>\n",
       "      <td>Грибанов Константин Степанович</td>\n",
       "      <td>Служба в РА</td>\n",
       "      <td>374-д</td>\n",
       "      <td>17.01.2023</td>\n",
       "    </tr>\n",
       "    <tr>\n",
       "      <th>4</th>\n",
       "      <td>Мандрыко Трофим Леонидович</td>\n",
       "      <td>Закончил обучение</td>\n",
       "      <td>726-б</td>\n",
       "      <td>06.02.2023</td>\n",
       "    </tr>\n",
       "    <tr>\n",
       "      <th>...</th>\n",
       "      <td>...</td>\n",
       "      <td>...</td>\n",
       "      <td>...</td>\n",
       "      <td>...</td>\n",
       "    </tr>\n",
       "    <tr>\n",
       "      <th>433</th>\n",
       "      <td>Янзинова Ника Федоровна</td>\n",
       "      <td>Перевелся в другое уч.зав.</td>\n",
       "      <td>139-с</td>\n",
       "      <td>21.01.2023</td>\n",
       "    </tr>\n",
       "    <tr>\n",
       "      <th>434</th>\n",
       "      <td>Осинцев Максим Герасимович</td>\n",
       "      <td>Обучается</td>\n",
       "      <td>799-д</td>\n",
       "      <td>18.01.2023</td>\n",
       "    </tr>\n",
       "    <tr>\n",
       "      <th>435</th>\n",
       "      <td>Сергеева Пелагея Павловна</td>\n",
       "      <td>Закончил обучение</td>\n",
       "      <td>668-з</td>\n",
       "      <td>03.02.2023</td>\n",
       "    </tr>\n",
       "    <tr>\n",
       "      <th>436</th>\n",
       "      <td>Кожурова Анжела Евгеньевна</td>\n",
       "      <td>Академический отпуск</td>\n",
       "      <td>911-а</td>\n",
       "      <td>06.02.2023</td>\n",
       "    </tr>\n",
       "    <tr>\n",
       "      <th>437</th>\n",
       "      <td>Корчагин Гавриил Филиппович</td>\n",
       "      <td>Обучается</td>\n",
       "      <td>514-д</td>\n",
       "      <td>10.01.2023</td>\n",
       "    </tr>\n",
       "  </tbody>\n",
       "</table>\n",
       "<p>438 rows × 4 columns</p>\n",
       "</div>"
      ],
      "text/plain": [
       "                                ФИО              Учебный статус Номер приказа  \\\n",
       "0         Алехин Данила Прокопьевич           Закончил обучение         669-с   \n",
       "1        Эсаулова Валерия Прокловна                      Декрет         618-с   \n",
       "2            Панин Гавриил Власович                      Декрет         788-н   \n",
       "3    Грибанов Константин Степанович                 Служба в РА         374-д   \n",
       "4        Мандрыко Трофим Леонидович           Закончил обучение         726-б   \n",
       "..                              ...                         ...           ...   \n",
       "433         Янзинова Ника Федоровна  Перевелся в другое уч.зав.         139-с   \n",
       "434      Осинцев Максим Герасимович                   Обучается         799-д   \n",
       "435       Сергеева Пелагея Павловна           Закончил обучение         668-з   \n",
       "436      Кожурова Анжела Евгеньевна        Академический отпуск         911-а   \n",
       "437     Корчагин Гавриил Филиппович                   Обучается         514-д   \n",
       "\n",
       "    Дата приказа  \n",
       "0     24.01.2023  \n",
       "1     18.01.2023  \n",
       "2     09.02.2023  \n",
       "3     17.01.2023  \n",
       "4     06.02.2023  \n",
       "..           ...  \n",
       "433   21.01.2023  \n",
       "434   18.01.2023  \n",
       "435   03.02.2023  \n",
       "436   06.02.2023  \n",
       "437   10.01.2023  \n",
       "\n",
       "[438 rows x 4 columns]"
      ]
     },
     "execution_count": 43,
     "metadata": {},
     "output_type": "execute_result"
    }
   ],
   "source": [
    "small_df"
   ]
  },
  {
   "cell_type": "code",
   "execution_count": 44,
   "id": "d2466663",
   "metadata": {},
   "outputs": [],
   "source": [
    "small_df.to_excel('Учебный статус студентов.xlsx',index=False)"
   ]
  },
  {
   "cell_type": "code",
   "execution_count": null,
   "id": "59a661e9",
   "metadata": {},
   "outputs": [],
   "source": []
  }
 ],
 "metadata": {
  "kernelspec": {
   "display_name": "Python 3 (ipykernel)",
   "language": "python",
   "name": "python3"
  },
  "language_info": {
   "codemirror_mode": {
    "name": "ipython",
    "version": 3
   },
   "file_extension": ".py",
   "mimetype": "text/x-python",
   "name": "python",
   "nbconvert_exporter": "python",
   "pygments_lexer": "ipython3",
   "version": "3.9.13"
  }
 },
 "nbformat": 4,
 "nbformat_minor": 5
}
