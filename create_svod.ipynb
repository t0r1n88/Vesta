{
 "cells": [
  {
   "cell_type": "code",
   "execution_count": 50,
   "id": "43a01d1b",
   "metadata": {},
   "outputs": [
    {
     "data": {
      "text/plain": [
       "'\\nСкрипт для создания сводный таблиц по отчету\\n'"
      ]
     },
     "execution_count": 50,
     "metadata": {},
     "output_type": "execute_result"
    }
   ],
   "source": [
    "\"\"\"\n",
    "Скрипт для создания сводный таблиц по отчету\n",
    "\"\"\""
   ]
  },
  {
   "cell_type": "code",
   "execution_count": 51,
   "id": "0615ba3f",
   "metadata": {},
   "outputs": [],
   "source": [
    "import pandas as pd\n",
    "import openpyxl\n",
    "import numpy as np\n",
    "import re"
   ]
  },
  {
   "cell_type": "code",
   "execution_count": 72,
   "id": "df1b46a9",
   "metadata": {},
   "outputs": [],
   "source": [
    "str_column ='20,22' # колонки для сводной таблицы\n",
    "#str_column = 'fgg'\n",
    "str_target_column = '6' # целевая колонка"
   ]
  },
  {
   "cell_type": "code",
   "execution_count": 53,
   "id": "bd7b9fd8",
   "metadata": {},
   "outputs": [],
   "source": [
    "file_data = 'data/Сводная таблица/data.xlsx'\n",
    "sheet_name = 'Лист1'\n",
    "end_folder = 'data/Сводная таблица/result'"
   ]
  },
  {
   "cell_type": "code",
   "execution_count": null,
   "id": "6fefcf9d",
   "metadata": {},
   "outputs": [],
   "source": []
  },
  {
   "cell_type": "code",
   "execution_count": 54,
   "id": "300a4b59",
   "metadata": {},
   "outputs": [],
   "source": [
    "df = pd.read_excel(file_data,sheet_name=sheet_name,dtype=str)"
   ]
  },
  {
   "cell_type": "code",
   "execution_count": 55,
   "id": "2e3acf7d",
   "metadata": {},
   "outputs": [],
   "source": [
    "# обрабатываем список колонок по которым нужно группировать\n",
    "_lst_cols = re.findall(r'\\d+',str_column) # находим цифры\n",
    "if _lst_cols:\n",
    "    lst_number_cols =  list(map(int,_lst_cols))\n",
    "else:\n",
    "    print('Введите порядковые номера колонок в виде цифр')"
   ]
  },
  {
   "cell_type": "code",
   "execution_count": 56,
   "id": "c4799140",
   "metadata": {},
   "outputs": [
    {
     "data": {
      "text/plain": [
       "[20, 21, 22]"
      ]
     },
     "execution_count": 56,
     "metadata": {},
     "output_type": "execute_result"
    }
   ],
   "source": [
    "lst_number_cols"
   ]
  },
  {
   "cell_type": "code",
   "execution_count": 57,
   "id": "9803a9f6",
   "metadata": {},
   "outputs": [],
   "source": [
    "_target_col =re.search(r'\\d+',str_target_column)\n",
    "if _target_col:\n",
    "    target_number_column =  int(_target_col.group())\n",
    "else:\n",
    "    print('Введите порядковые номера колонок в виде цифр')"
   ]
  },
  {
   "cell_type": "code",
   "execution_count": 58,
   "id": "c83aeb09",
   "metadata": {},
   "outputs": [
    {
     "data": {
      "text/plain": [
       "2"
      ]
     },
     "execution_count": 58,
     "metadata": {},
     "output_type": "execute_result"
    }
   ],
   "source": [
    "target_number_column"
   ]
  },
  {
   "cell_type": "code",
   "execution_count": 59,
   "id": "c2da11ba",
   "metadata": {},
   "outputs": [],
   "source": [
    "lst_name_column = [] # список для хранения названий колонок сводной таблицы\n",
    "for value in lst_number_cols:\n",
    "    if value != 0:\n",
    "        lst_name_column.append(df.columns[value-1])\n",
    "        "
   ]
  },
  {
   "cell_type": "code",
   "execution_count": 60,
   "id": "bf26c85e",
   "metadata": {},
   "outputs": [
    {
     "data": {
      "text/plain": [
       "['Отделение', 'Группа', 'Направление_подготовки']"
      ]
     },
     "execution_count": 60,
     "metadata": {},
     "output_type": "execute_result"
    }
   ],
   "source": [
    "lst_name_column"
   ]
  },
  {
   "cell_type": "code",
   "execution_count": 61,
   "id": "e66bb995",
   "metadata": {},
   "outputs": [],
   "source": [
    "if target_number_column != 0: \n",
    "    target_name_column = df.columns[target_number_column-1]\n",
    "else:\n",
    "    print('Порядковые номера колонок начинаются с 1')"
   ]
  },
  {
   "cell_type": "code",
   "execution_count": 73,
   "id": "de82139b",
   "metadata": {},
   "outputs": [],
   "source": [
    "lst_func = ['sum','mean','median','max','min']"
   ]
  },
  {
   "cell_type": "code",
   "execution_count": null,
   "id": "fcd90085",
   "metadata": {},
   "outputs": [],
   "source": []
  },
  {
   "cell_type": "code",
   "execution_count": null,
   "id": "e57571ab",
   "metadata": {},
   "outputs": [],
   "source": []
  },
  {
   "cell_type": "code",
   "execution_count": null,
   "id": "241b7d6e",
   "metadata": {},
   "outputs": [],
   "source": []
  },
  {
   "cell_type": "code",
   "execution_count": null,
   "id": "8680e5b6",
   "metadata": {},
   "outputs": [],
   "source": []
  },
  {
   "cell_type": "code",
   "execution_count": 70,
   "id": "b04a6b06",
   "metadata": {},
   "outputs": [
    {
     "data": {
      "text/html": [
       "<div>\n",
       "<style scoped>\n",
       "    .dataframe tbody tr th:only-of-type {\n",
       "        vertical-align: middle;\n",
       "    }\n",
       "\n",
       "    .dataframe tbody tr th {\n",
       "        vertical-align: top;\n",
       "    }\n",
       "\n",
       "    .dataframe thead th {\n",
       "        text-align: right;\n",
       "    }\n",
       "</style>\n",
       "<table border=\"1\" class=\"dataframe\">\n",
       "  <thead>\n",
       "    <tr style=\"text-align: right;\">\n",
       "      <th></th>\n",
       "      <th></th>\n",
       "      <th></th>\n",
       "      <th>Фамилия</th>\n",
       "    </tr>\n",
       "    <tr>\n",
       "      <th>Отделение</th>\n",
       "      <th>Группа</th>\n",
       "      <th>Направление_подготовки</th>\n",
       "      <th></th>\n",
       "    </tr>\n",
       "  </thead>\n",
       "  <tbody>\n",
       "    <tr>\n",
       "      <th rowspan=\"5\" valign=\"top\">Отделение железнодорожного транспорта</th>\n",
       "      <th rowspan=\"5\" valign=\"top\">ДА-989</th>\n",
       "      <th>15.01.05 Сварщик (ручной и частично механизированной сварки (наплавки)</th>\n",
       "      <td>[Панин, Труш]</td>\n",
       "    </tr>\n",
       "    <tr>\n",
       "      <th>15.01.33 Токарь на станках с числовым программным управлением</th>\n",
       "      <td>[Дубинкин]</td>\n",
       "    </tr>\n",
       "    <tr>\n",
       "      <th>23.01.09 Машинист локомотива</th>\n",
       "      <td>[Алехин, Грибанов, Мандрыко, Соловаьева, Пасту...</td>\n",
       "    </tr>\n",
       "    <tr>\n",
       "      <th>23.01.10 Слесарь по обслуживанию и ремонту подвижного состава</th>\n",
       "      <td>[Янушевская, Ромазана, Лешев, Никулаичева]</td>\n",
       "    </tr>\n",
       "    <tr>\n",
       "      <th>23.02.06 Техническая эксплуатация подвижного состава железных дорог</th>\n",
       "      <td>[Эсаулова, Антонович]</td>\n",
       "    </tr>\n",
       "    <tr>\n",
       "      <th>...</th>\n",
       "      <th>...</th>\n",
       "      <th>...</th>\n",
       "      <td>...</td>\n",
       "    </tr>\n",
       "    <tr>\n",
       "      <th rowspan=\"5\" valign=\"top\">Отделение энергоснабжения</th>\n",
       "      <th rowspan=\"5\" valign=\"top\">ПЭ-344</th>\n",
       "      <th>23.01.09 Машинист локомотива</th>\n",
       "      <td>[Гавриков, Наполов]</td>\n",
       "    </tr>\n",
       "    <tr>\n",
       "      <th>23.01.10 Слесарь по обслуживанию и ремонту подвижного состава</th>\n",
       "      <td>[Фурикова, Русанова, Евлентьев, Ясева]</td>\n",
       "    </tr>\n",
       "    <tr>\n",
       "      <th>23.01.17 Мастер по ремонту и обслуживанию автомобилей</th>\n",
       "      <td>[Сизов, Дукачёв]</td>\n",
       "    </tr>\n",
       "    <tr>\n",
       "      <th>23.02.06 Техническая эксплуатация подвижного состава железных дорог</th>\n",
       "      <td>[Пивоваров, Толбугина]</td>\n",
       "    </tr>\n",
       "    <tr>\n",
       "      <th>23.02.07 Техническое обслуживание и ремонт двигателей, систем и агрегатов автомобилей</th>\n",
       "      <td>[Панькив, Кошельков]</td>\n",
       "    </tr>\n",
       "  </tbody>\n",
       "</table>\n",
       "<p>216 rows × 1 columns</p>\n",
       "</div>"
      ],
      "text/plain": [
       "                                                                                                                                           Фамилия\n",
       "Отделение                             Группа Направление_подготовки                                                                               \n",
       "Отделение железнодорожного транспорта ДА-989 15.01.05 Сварщик (ручной и частично механизиров...                                      [Панин, Труш]\n",
       "                                             15.01.33 Токарь на станках с числовым программн...                                         [Дубинкин]\n",
       "                                             23.01.09 Машинист локомотива                        [Алехин, Грибанов, Мандрыко, Соловаьева, Пасту...\n",
       "                                             23.01.10 Слесарь по обслуживанию и ремонту подв...         [Янушевская, Ромазана, Лешев, Никулаичева]\n",
       "                                             23.02.06 Техническая эксплуатация подвижного со...                              [Эсаулова, Антонович]\n",
       "...                                                                                                                                            ...\n",
       "Отделение энергоснабжения             ПЭ-344 23.01.09 Машинист локомотива                                                      [Гавриков, Наполов]\n",
       "                                             23.01.10 Слесарь по обслуживанию и ремонту подв...             [Фурикова, Русанова, Евлентьев, Ясева]\n",
       "                                             23.01.17 Мастер по ремонту и обслуживанию автом...                                   [Сизов, Дукачёв]\n",
       "                                             23.02.06 Техническая эксплуатация подвижного со...                             [Пивоваров, Толбугина]\n",
       "                                             23.02.07 Техническое обслуживание и ремонт двиг...                               [Панькив, Кошельков]\n",
       "\n",
       "[216 rows x 1 columns]"
      ]
     },
     "execution_count": 70,
     "metadata": {},
     "output_type": "execute_result"
    }
   ],
   "source": [
    "pd.pivot_table(df,\n",
    "              index=lst_name_column,\n",
    "\n",
    "              values=target_name_column, \n",
    "            \n",
    "              aggfunc=pd.unique)"
   ]
  },
  {
   "cell_type": "code",
   "execution_count": null,
   "id": "cbf004e5",
   "metadata": {},
   "outputs": [],
   "source": []
  },
  {
   "cell_type": "code",
   "execution_count": null,
   "id": "9ab26155",
   "metadata": {},
   "outputs": [],
   "source": []
  },
  {
   "cell_type": "code",
   "execution_count": 74,
   "id": "a04a66c0",
   "metadata": {},
   "outputs": [],
   "source": [
    "pd.pivot_table(df,\n",
    "              index=lst_name_column,\n",
    "\n",
    "              values=target_name_column, \n",
    "            \n",
    "              aggfunc=pd.unique).to_excel(f'{end_folder}/dsf.xlsx')"
   ]
  },
  {
   "cell_type": "code",
   "execution_count": null,
   "id": "d71dc25f",
   "metadata": {},
   "outputs": [],
   "source": []
  },
  {
   "cell_type": "code",
   "execution_count": null,
   "id": "d3894b42",
   "metadata": {},
   "outputs": [],
   "source": []
  },
  {
   "cell_type": "code",
   "execution_count": null,
   "id": "76904368",
   "metadata": {},
   "outputs": [],
   "source": []
  },
  {
   "cell_type": "code",
   "execution_count": null,
   "id": "423f4b5c",
   "metadata": {},
   "outputs": [],
   "source": []
  }
 ],
 "metadata": {
  "kernelspec": {
   "display_name": "Python 3 (ipykernel)",
   "language": "python",
   "name": "python3"
  },
  "language_info": {
   "codemirror_mode": {
    "name": "ipython",
    "version": 3
   },
   "file_extension": ".py",
   "mimetype": "text/x-python",
   "name": "python",
   "nbconvert_exporter": "python",
   "pygments_lexer": "ipython3",
   "version": "3.9.13"
  }
 },
 "nbformat": 4,
 "nbformat_minor": 5
}
