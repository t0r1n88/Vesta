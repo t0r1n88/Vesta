{
 "cells": [
  {
   "cell_type": "code",
   "execution_count": 451,
   "id": "cc3989ec",
   "metadata": {},
   "outputs": [
    {
     "data": {
      "text/plain": [
       "'\\nСкрипт для создания сводный таблиц по отчету\\n'"
      ]
     },
     "execution_count": 451,
     "metadata": {},
     "output_type": "execute_result"
    }
   ],
   "source": [
    "\"\"\"\n",
    "Скрипт для создания сводный таблиц по отчету\n",
    "\"\"\""
   ]
  },
  {
   "cell_type": "code",
   "execution_count": 452,
   "id": "438f178e",
   "metadata": {},
   "outputs": [],
   "source": [
    "import pandas as pd\n",
    "import openpyxl\n",
    "from openpyxl.utils.dataframe import dataframe_to_rows\n",
    "from openpyxl.utils import get_column_letter\n",
    "import numpy as np\n",
    "import re"
   ]
  },
  {
   "cell_type": "code",
   "execution_count": 453,
   "id": "c6a878df",
   "metadata": {},
   "outputs": [],
   "source": [
    "def foo(value):\n",
    "    d = (value.tolist())\n",
    "    return d\n",
    "    \n"
   ]
  },
  {
   "cell_type": "code",
   "execution_count": 454,
   "id": "48ae1fa5",
   "metadata": {},
   "outputs": [],
   "source": [
    "str_column ='20,22' # колонки для сводной таблицы\n",
    "#str_column = 'fgg'\n",
    "str_target_column = '6,15' # целевая колонка"
   ]
  },
  {
   "cell_type": "code",
   "execution_count": 455,
   "id": "b2f5d749",
   "metadata": {},
   "outputs": [],
   "source": [
    "file_data = 'data/Сводная таблица/data.xlsx'\n",
    "sheet_name = 'Лист1'\n",
    "end_folder = 'data/Сводная таблица/result'"
   ]
  },
  {
   "cell_type": "code",
   "execution_count": null,
   "id": "b0b5f14b",
   "metadata": {},
   "outputs": [],
   "source": []
  },
  {
   "cell_type": "code",
   "execution_count": 456,
   "id": "bf67bc62",
   "metadata": {},
   "outputs": [],
   "source": [
    "df = pd.read_excel(file_data,sheet_name=sheet_name)"
   ]
  },
  {
   "cell_type": "code",
   "execution_count": 457,
   "id": "a36ac3f8",
   "metadata": {},
   "outputs": [],
   "source": [
    "# обрабатываем список колонок по которым нужно группировать\n",
    "_lst_cols = re.findall(r'\\d+',str_column) # находим цифры\n",
    "if _lst_cols:\n",
    "    lst_number_cols =  list(map(int,_lst_cols))\n",
    "else:\n",
    "    print('Введите порядковые номера колонок в виде цифр')"
   ]
  },
  {
   "cell_type": "code",
   "execution_count": 458,
   "id": "66bf4cfd",
   "metadata": {},
   "outputs": [
    {
     "data": {
      "text/plain": [
       "[20, 22]"
      ]
     },
     "execution_count": 458,
     "metadata": {},
     "output_type": "execute_result"
    }
   ],
   "source": [
    "lst_number_cols"
   ]
  },
  {
   "cell_type": "code",
   "execution_count": 459,
   "id": "3e079ed1",
   "metadata": {},
   "outputs": [],
   "source": [
    "_target_col =re.findall(r'\\d+',str_target_column)\n",
    "if _target_col:\n",
    "    lst_target_number_column =  list(map(int,_target_col))\n",
    "else:\n",
    "    print('Введите порядковые номера колонок в виде цифр')"
   ]
  },
  {
   "cell_type": "code",
   "execution_count": 460,
   "id": "4142e007",
   "metadata": {},
   "outputs": [
    {
     "data": {
      "text/plain": [
       "[6, 15]"
      ]
     },
     "execution_count": 460,
     "metadata": {},
     "output_type": "execute_result"
    }
   ],
   "source": [
    "lst_target_number_column"
   ]
  },
  {
   "cell_type": "code",
   "execution_count": 461,
   "id": "60e32384",
   "metadata": {},
   "outputs": [],
   "source": [
    "lst_name_column = [] # список для хранения названий колонок сводной таблицы\n",
    "for value in lst_number_cols:\n",
    "    if value != 0:\n",
    "        lst_name_column.append(df.columns[value-1])\n",
    "        "
   ]
  },
  {
   "cell_type": "code",
   "execution_count": 462,
   "id": "3e681a46",
   "metadata": {},
   "outputs": [
    {
     "data": {
      "text/plain": [
       "['Образование', 'Группа']"
      ]
     },
     "execution_count": 462,
     "metadata": {},
     "output_type": "execute_result"
    }
   ],
   "source": [
    "lst_name_column"
   ]
  },
  {
   "cell_type": "code",
   "execution_count": 463,
   "id": "de7ec2c2",
   "metadata": {},
   "outputs": [],
   "source": [
    "lst_target_name_column = [] # список для хранения названий колонок сводной таблицы\n",
    "for value in lst_target_number_column:\n",
    "    if value != 0:\n",
    "        lst_target_name_column.append(df.columns[value-1])"
   ]
  },
  {
   "cell_type": "code",
   "execution_count": 464,
   "id": "93c1408b",
   "metadata": {},
   "outputs": [
    {
     "data": {
      "text/plain": [
       "['Средний балл', 'ИНН']"
      ]
     },
     "execution_count": 464,
     "metadata": {},
     "output_type": "execute_result"
    }
   ],
   "source": [
    "lst_target_name_column"
   ]
  },
  {
   "cell_type": "code",
   "execution_count": 465,
   "id": "835983ba",
   "metadata": {},
   "outputs": [],
   "source": [
    "\n",
    "dct_func = {'Сумма':'sum','Среднее':'mean','Медиана':'median','Минимум':'min','Максимум':'max','Количество':'count'}"
   ]
  },
  {
   "cell_type": "code",
   "execution_count": null,
   "id": "99a46e89",
   "metadata": {},
   "outputs": [],
   "source": []
  },
  {
   "cell_type": "code",
   "execution_count": null,
   "id": "0f604dfd",
   "metadata": {},
   "outputs": [],
   "source": []
  },
  {
   "cell_type": "code",
   "execution_count": 466,
   "id": "b45f51ca",
   "metadata": {},
   "outputs": [],
   "source": [
    "wb = openpyxl.Workbook() # создаем объект\n",
    "for idx,items in enumerate(dct_func.items()):\n",
    "    name_sheet,name_func = items # распаковываем\n",
    "    wb.create_sheet(title=name_sheet,index=idx) # создаем лист\n",
    "    \n",
    "    df[lst_target_name_column] = df[lst_target_name_column].applymap(lambda x: x if isinstance(x,(int,float)) else 0)\n",
    "    \n",
    "    temp_df =pd.pivot_table(df,\n",
    "              index=lst_name_column,\n",
    "              values=lst_target_name_column,             \n",
    "              aggfunc=name_func,\n",
    "                           fill_value=0)\n",
    "    temp_df = temp_df.reset_index()\n",
    "\n",
    "    \n",
    "    for row in dataframe_to_rows(temp_df,index=False,header=True):\n",
    "        wb[name_sheet].append(row)\n",
    "    for column in wb[name_sheet].columns:\n",
    "        max_length = 0\n",
    "        column_name = get_column_letter(column[0].column)\n",
    "        for cell in column:\n",
    "            try:\n",
    "                if len(str(cell.value)) > max_length:\n",
    "                    max_length = len(cell.value)\n",
    "            except:\n",
    "                pass\n",
    "        adjusted_width = (max_length + 2)\n",
    "        wb[name_sheet].column_dimensions[column_name].width = adjusted_width\n",
    "        \n",
    "del wb['Sheet']\n",
    "    \n",
    "\n"
   ]
  },
  {
   "cell_type": "code",
   "execution_count": 467,
   "id": "014064e0",
   "metadata": {},
   "outputs": [
    {
     "data": {
      "text/plain": [
       "['Сумма', 'Среднее', 'Медиана', 'Минимум', 'Максимум', 'Количество']"
      ]
     },
     "execution_count": 467,
     "metadata": {},
     "output_type": "execute_result"
    }
   ],
   "source": [
    "wb.sheetnames"
   ]
  },
  {
   "cell_type": "code",
   "execution_count": 468,
   "id": "62e01a39",
   "metadata": {},
   "outputs": [],
   "source": [
    "wb.save(f'{end_folder}/Тест.xlsx')"
   ]
  },
  {
   "cell_type": "code",
   "execution_count": null,
   "id": "d615347f",
   "metadata": {},
   "outputs": [],
   "source": []
  },
  {
   "cell_type": "code",
   "execution_count": null,
   "id": "537f0b39",
   "metadata": {},
   "outputs": [],
   "source": []
  },
  {
   "cell_type": "code",
   "execution_count": 469,
   "id": "199d5174",
   "metadata": {},
   "outputs": [
    {
     "data": {
      "text/html": [
       "<div>\n",
       "<style scoped>\n",
       "    .dataframe tbody tr th:only-of-type {\n",
       "        vertical-align: middle;\n",
       "    }\n",
       "\n",
       "    .dataframe tbody tr th {\n",
       "        vertical-align: top;\n",
       "    }\n",
       "\n",
       "    .dataframe thead th {\n",
       "        text-align: right;\n",
       "    }\n",
       "</style>\n",
       "<table border=\"1\" class=\"dataframe\">\n",
       "  <thead>\n",
       "    <tr style=\"text-align: right;\">\n",
       "      <th></th>\n",
       "      <th></th>\n",
       "      <th>Направление_подготовки</th>\n",
       "      <th>Фамилия</th>\n",
       "    </tr>\n",
       "    <tr>\n",
       "      <th>Образование</th>\n",
       "      <th>Группа</th>\n",
       "      <th></th>\n",
       "      <th></th>\n",
       "    </tr>\n",
       "  </thead>\n",
       "  <tbody>\n",
       "    <tr>\n",
       "      <th rowspan=\"50\" valign=\"top\">Основное общее</th>\n",
       "      <th>АГ-596</th>\n",
       "      <td>20</td>\n",
       "      <td>20</td>\n",
       "    </tr>\n",
       "    <tr>\n",
       "      <th>АД-393</th>\n",
       "      <td>20</td>\n",
       "      <td>20</td>\n",
       "    </tr>\n",
       "    <tr>\n",
       "      <th>АЛ-480</th>\n",
       "      <td>20</td>\n",
       "      <td>20</td>\n",
       "    </tr>\n",
       "    <tr>\n",
       "      <th>АП-380</th>\n",
       "      <td>20</td>\n",
       "      <td>20</td>\n",
       "    </tr>\n",
       "    <tr>\n",
       "      <th>АЯ-322</th>\n",
       "      <td>20</td>\n",
       "      <td>20</td>\n",
       "    </tr>\n",
       "    <tr>\n",
       "      <th>АЯ-849</th>\n",
       "      <td>20</td>\n",
       "      <td>20</td>\n",
       "    </tr>\n",
       "    <tr>\n",
       "      <th>БВ-523</th>\n",
       "      <td>20</td>\n",
       "      <td>20</td>\n",
       "    </tr>\n",
       "    <tr>\n",
       "      <th>БЕ-281</th>\n",
       "      <td>20</td>\n",
       "      <td>20</td>\n",
       "    </tr>\n",
       "    <tr>\n",
       "      <th>БЕ-944</th>\n",
       "      <td>20</td>\n",
       "      <td>20</td>\n",
       "    </tr>\n",
       "    <tr>\n",
       "      <th>БН-321</th>\n",
       "      <td>20</td>\n",
       "      <td>20</td>\n",
       "    </tr>\n",
       "    <tr>\n",
       "      <th>БЯ-877</th>\n",
       "      <td>20</td>\n",
       "      <td>20</td>\n",
       "    </tr>\n",
       "    <tr>\n",
       "      <th>БЯ-928</th>\n",
       "      <td>20</td>\n",
       "      <td>20</td>\n",
       "    </tr>\n",
       "    <tr>\n",
       "      <th>ВД-204</th>\n",
       "      <td>20</td>\n",
       "      <td>20</td>\n",
       "    </tr>\n",
       "    <tr>\n",
       "      <th>ВЕ-129</th>\n",
       "      <td>20</td>\n",
       "      <td>20</td>\n",
       "    </tr>\n",
       "    <tr>\n",
       "      <th>ГВ-833</th>\n",
       "      <td>20</td>\n",
       "      <td>20</td>\n",
       "    </tr>\n",
       "    <tr>\n",
       "      <th>ГГ-759</th>\n",
       "      <td>20</td>\n",
       "      <td>20</td>\n",
       "    </tr>\n",
       "    <tr>\n",
       "      <th>ДА-989</th>\n",
       "      <td>15</td>\n",
       "      <td>15</td>\n",
       "    </tr>\n",
       "    <tr>\n",
       "      <th>ДВ-244</th>\n",
       "      <td>20</td>\n",
       "      <td>20</td>\n",
       "    </tr>\n",
       "    <tr>\n",
       "      <th>ДО-951</th>\n",
       "      <td>20</td>\n",
       "      <td>20</td>\n",
       "    </tr>\n",
       "    <tr>\n",
       "      <th>ДП-786</th>\n",
       "      <td>20</td>\n",
       "      <td>20</td>\n",
       "    </tr>\n",
       "    <tr>\n",
       "      <th>ЕА-479</th>\n",
       "      <td>20</td>\n",
       "      <td>20</td>\n",
       "    </tr>\n",
       "    <tr>\n",
       "      <th>ЕД-195</th>\n",
       "      <td>20</td>\n",
       "      <td>20</td>\n",
       "    </tr>\n",
       "    <tr>\n",
       "      <th>ЕЕ-374</th>\n",
       "      <td>20</td>\n",
       "      <td>20</td>\n",
       "    </tr>\n",
       "    <tr>\n",
       "      <th>ЕП-951</th>\n",
       "      <td>20</td>\n",
       "      <td>20</td>\n",
       "    </tr>\n",
       "    <tr>\n",
       "      <th>КА-426</th>\n",
       "      <td>20</td>\n",
       "      <td>20</td>\n",
       "    </tr>\n",
       "    <tr>\n",
       "      <th>КА-733</th>\n",
       "      <td>20</td>\n",
       "      <td>20</td>\n",
       "    </tr>\n",
       "    <tr>\n",
       "      <th>КВ-838</th>\n",
       "      <td>20</td>\n",
       "      <td>20</td>\n",
       "    </tr>\n",
       "    <tr>\n",
       "      <th>КД-856</th>\n",
       "      <td>20</td>\n",
       "      <td>20</td>\n",
       "    </tr>\n",
       "    <tr>\n",
       "      <th>КО-589</th>\n",
       "      <td>20</td>\n",
       "      <td>20</td>\n",
       "    </tr>\n",
       "    <tr>\n",
       "      <th>ЛЛ-514</th>\n",
       "      <td>20</td>\n",
       "      <td>20</td>\n",
       "    </tr>\n",
       "    <tr>\n",
       "      <th>ЛН-300</th>\n",
       "      <td>20</td>\n",
       "      <td>20</td>\n",
       "    </tr>\n",
       "    <tr>\n",
       "      <th>ЛО-368</th>\n",
       "      <td>20</td>\n",
       "      <td>20</td>\n",
       "    </tr>\n",
       "    <tr>\n",
       "      <th>ЛП-187</th>\n",
       "      <td>20</td>\n",
       "      <td>20</td>\n",
       "    </tr>\n",
       "    <tr>\n",
       "      <th>НБ-368</th>\n",
       "      <td>20</td>\n",
       "      <td>20</td>\n",
       "    </tr>\n",
       "    <tr>\n",
       "      <th>НЕ-643</th>\n",
       "      <td>20</td>\n",
       "      <td>20</td>\n",
       "    </tr>\n",
       "    <tr>\n",
       "      <th>НО-608</th>\n",
       "      <td>20</td>\n",
       "      <td>20</td>\n",
       "    </tr>\n",
       "    <tr>\n",
       "      <th>НП-652</th>\n",
       "      <td>20</td>\n",
       "      <td>20</td>\n",
       "    </tr>\n",
       "    <tr>\n",
       "      <th>НЭ-787</th>\n",
       "      <td>20</td>\n",
       "      <td>20</td>\n",
       "    </tr>\n",
       "    <tr>\n",
       "      <th>НЯ-427</th>\n",
       "      <td>20</td>\n",
       "      <td>20</td>\n",
       "    </tr>\n",
       "    <tr>\n",
       "      <th>ОБ-280</th>\n",
       "      <td>20</td>\n",
       "      <td>20</td>\n",
       "    </tr>\n",
       "    <tr>\n",
       "      <th>ОВ-173</th>\n",
       "      <td>20</td>\n",
       "      <td>20</td>\n",
       "    </tr>\n",
       "    <tr>\n",
       "      <th>ОГ-541</th>\n",
       "      <td>20</td>\n",
       "      <td>20</td>\n",
       "    </tr>\n",
       "    <tr>\n",
       "      <th>ПН-298</th>\n",
       "      <td>20</td>\n",
       "      <td>20</td>\n",
       "    </tr>\n",
       "    <tr>\n",
       "      <th>ПН-962</th>\n",
       "      <td>20</td>\n",
       "      <td>20</td>\n",
       "    </tr>\n",
       "    <tr>\n",
       "      <th>ПЭ-344</th>\n",
       "      <td>19</td>\n",
       "      <td>19</td>\n",
       "    </tr>\n",
       "    <tr>\n",
       "      <th>ЭД-420</th>\n",
       "      <td>20</td>\n",
       "      <td>20</td>\n",
       "    </tr>\n",
       "    <tr>\n",
       "      <th>ЭН-535</th>\n",
       "      <td>20</td>\n",
       "      <td>20</td>\n",
       "    </tr>\n",
       "    <tr>\n",
       "      <th>ЯА-476</th>\n",
       "      <td>20</td>\n",
       "      <td>20</td>\n",
       "    </tr>\n",
       "    <tr>\n",
       "      <th>ЯК-419</th>\n",
       "      <td>20</td>\n",
       "      <td>20</td>\n",
       "    </tr>\n",
       "    <tr>\n",
       "      <th>ЯЯ-331</th>\n",
       "      <td>20</td>\n",
       "      <td>20</td>\n",
       "    </tr>\n",
       "    <tr>\n",
       "      <th>Среднее общее</th>\n",
       "      <th>ДА-989</th>\n",
       "      <td>4</td>\n",
       "      <td>4</td>\n",
       "    </tr>\n",
       "    <tr>\n",
       "      <th rowspan=\"2\" valign=\"top\">Среднее профессиональное</th>\n",
       "      <th>ДА-989</th>\n",
       "      <td>1</td>\n",
       "      <td>1</td>\n",
       "    </tr>\n",
       "    <tr>\n",
       "      <th>ПЭ-344</th>\n",
       "      <td>1</td>\n",
       "      <td>1</td>\n",
       "    </tr>\n",
       "  </tbody>\n",
       "</table>\n",
       "</div>"
      ],
      "text/plain": [
       "                                 Направление_подготовки  Фамилия\n",
       "Образование              Группа                                 \n",
       "Основное общее           АГ-596                      20       20\n",
       "                         АД-393                      20       20\n",
       "                         АЛ-480                      20       20\n",
       "                         АП-380                      20       20\n",
       "                         АЯ-322                      20       20\n",
       "                         АЯ-849                      20       20\n",
       "                         БВ-523                      20       20\n",
       "                         БЕ-281                      20       20\n",
       "                         БЕ-944                      20       20\n",
       "                         БН-321                      20       20\n",
       "                         БЯ-877                      20       20\n",
       "                         БЯ-928                      20       20\n",
       "                         ВД-204                      20       20\n",
       "                         ВЕ-129                      20       20\n",
       "                         ГВ-833                      20       20\n",
       "                         ГГ-759                      20       20\n",
       "                         ДА-989                      15       15\n",
       "                         ДВ-244                      20       20\n",
       "                         ДО-951                      20       20\n",
       "                         ДП-786                      20       20\n",
       "                         ЕА-479                      20       20\n",
       "                         ЕД-195                      20       20\n",
       "                         ЕЕ-374                      20       20\n",
       "                         ЕП-951                      20       20\n",
       "                         КА-426                      20       20\n",
       "                         КА-733                      20       20\n",
       "                         КВ-838                      20       20\n",
       "                         КД-856                      20       20\n",
       "                         КО-589                      20       20\n",
       "                         ЛЛ-514                      20       20\n",
       "                         ЛН-300                      20       20\n",
       "                         ЛО-368                      20       20\n",
       "                         ЛП-187                      20       20\n",
       "                         НБ-368                      20       20\n",
       "                         НЕ-643                      20       20\n",
       "                         НО-608                      20       20\n",
       "                         НП-652                      20       20\n",
       "                         НЭ-787                      20       20\n",
       "                         НЯ-427                      20       20\n",
       "                         ОБ-280                      20       20\n",
       "                         ОВ-173                      20       20\n",
       "                         ОГ-541                      20       20\n",
       "                         ПН-298                      20       20\n",
       "                         ПН-962                      20       20\n",
       "                         ПЭ-344                      19       19\n",
       "                         ЭД-420                      20       20\n",
       "                         ЭН-535                      20       20\n",
       "                         ЯА-476                      20       20\n",
       "                         ЯК-419                      20       20\n",
       "                         ЯЯ-331                      20       20\n",
       "Среднее общее            ДА-989                       4        4\n",
       "Среднее профессиональное ДА-989                       1        1\n",
       "                         ПЭ-344                       1        1"
      ]
     },
     "execution_count": 469,
     "metadata": {},
     "output_type": "execute_result"
    }
   ],
   "source": [
    "pd.pivot_table(df,\n",
    "              index=lst_name_column,\n",
    "              values=['Фамилия','Направление_подготовки'],             \n",
    "              aggfunc='count',\n",
    "                           fill_value=0)"
   ]
  },
  {
   "cell_type": "code",
   "execution_count": null,
   "id": "e8c7958f",
   "metadata": {},
   "outputs": [],
   "source": []
  },
  {
   "cell_type": "code",
   "execution_count": null,
   "id": "643fad9f",
   "metadata": {},
   "outputs": [],
   "source": []
  },
  {
   "cell_type": "code",
   "execution_count": null,
   "id": "3c319fe9",
   "metadata": {},
   "outputs": [],
   "source": []
  }
 ],
 "metadata": {
  "kernelspec": {
   "display_name": "Python 3 (ipykernel)",
   "language": "python",
   "name": "python3"
  },
  "language_info": {
   "codemirror_mode": {
    "name": "ipython",
    "version": 3
   },
   "file_extension": ".py",
   "mimetype": "text/x-python",
   "name": "python",
   "nbconvert_exporter": "python",
   "pygments_lexer": "ipython3",
   "version": "3.9.13"
  }
 },
 "nbformat": 4,
 "nbformat_minor": 5
}
