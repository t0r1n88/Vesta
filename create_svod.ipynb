{
 "cells": [
  {
   "cell_type": "code",
   "execution_count": 707,
   "id": "c4cf20c3",
   "metadata": {},
   "outputs": [
    {
     "data": {
      "text/plain": [
       "'\\nСкрипт для создания сводный таблиц по отчету\\n'"
      ]
     },
     "execution_count": 707,
     "metadata": {},
     "output_type": "execute_result"
    }
   ],
   "source": [
    "\"\"\"\n",
    "Скрипт для создания сводный таблиц по отчету\n",
    "\"\"\""
   ]
  },
  {
   "cell_type": "code",
   "execution_count": 708,
   "id": "f4cdee77",
   "metadata": {},
   "outputs": [],
   "source": [
    "import pandas as pd\n",
    "import openpyxl\n",
    "from openpyxl.utils.dataframe import dataframe_to_rows\n",
    "from openpyxl.utils import get_column_letter\n",
    "import numpy as np\n",
    "import re"
   ]
  },
  {
   "cell_type": "code",
   "execution_count": 709,
   "id": "a7da3658",
   "metadata": {},
   "outputs": [],
   "source": [
    "def count_uniq(value):\n",
    "    ser_stat = value.describe() # плоучаем статистику\n",
    "    return ser_stat.iloc[1] # возвращаем количество уникальных значений\n",
    "\n",
    "\n",
    "    \n"
   ]
  },
  {
   "cell_type": "code",
   "execution_count": 710,
   "id": "f4b9a5a3",
   "metadata": {},
   "outputs": [],
   "source": [
    "def find_top_value(value):\n",
    "    ser_stat = value.describe() # плоучаем статистику\n",
    "    return ser_stat.iloc[2] # возвращаем самое частое значение"
   ]
  },
  {
   "cell_type": "code",
   "execution_count": 711,
   "id": "f4f9bcd2",
   "metadata": {},
   "outputs": [],
   "source": [
    "def count_top_value(value):\n",
    "    ser_stat = value.describe() # плоучаем статистику\n",
    "    return ser_stat.iloc[3] # возвращаем количество самых частых значений "
   ]
  },
  {
   "cell_type": "code",
   "execution_count": 712,
   "id": "9629a494",
   "metadata": {},
   "outputs": [],
   "source": [
    "def count_dupl_value(value):\n",
    "    lst_dupl = [value for value in value.duplicated(keep=False).tolist() if value]\n",
    "    return len(lst_dupl) # количество дубликатов\n"
   ]
  },
  {
   "cell_type": "code",
   "execution_count": null,
   "id": "5421c644",
   "metadata": {},
   "outputs": [],
   "source": []
  },
  {
   "cell_type": "code",
   "execution_count": null,
   "id": "825146bb",
   "metadata": {},
   "outputs": [],
   "source": []
  },
  {
   "cell_type": "code",
   "execution_count": 713,
   "id": "e0b5255b",
   "metadata": {},
   "outputs": [],
   "source": [
    "str_column ='20,22' # колонки для сводной таблицы\n",
    "#str_column = 'fgg'\n",
    "str_target_column = '2,6' # целевая колонка"
   ]
  },
  {
   "cell_type": "code",
   "execution_count": 714,
   "id": "0c967807",
   "metadata": {},
   "outputs": [],
   "source": [
    "file_data = 'data/Сводная таблица/data.xlsx'\n",
    "sheet_name = 'Лист1'\n",
    "end_folder = 'data/Сводная таблица/result'"
   ]
  },
  {
   "cell_type": "code",
   "execution_count": null,
   "id": "ea2e5502",
   "metadata": {},
   "outputs": [],
   "source": []
  },
  {
   "cell_type": "code",
   "execution_count": 715,
   "id": "62474e45",
   "metadata": {},
   "outputs": [],
   "source": [
    "base_df = pd.read_excel(file_data,sheet_name=sheet_name)"
   ]
  },
  {
   "cell_type": "code",
   "execution_count": 716,
   "id": "539b41e7",
   "metadata": {},
   "outputs": [],
   "source": [
    "# обрабатываем список колонок по которым нужно группировать\n",
    "_lst_cols = re.findall(r'\\d+',str_column) # находим цифры\n",
    "if _lst_cols:\n",
    "    lst_number_cols =  list(map(int,_lst_cols))\n",
    "else:\n",
    "    print('Введите порядковые номера колонок в виде цифр')"
   ]
  },
  {
   "cell_type": "code",
   "execution_count": 717,
   "id": "3e024303",
   "metadata": {},
   "outputs": [
    {
     "data": {
      "text/plain": [
       "[20, 22]"
      ]
     },
     "execution_count": 717,
     "metadata": {},
     "output_type": "execute_result"
    }
   ],
   "source": [
    "lst_number_cols"
   ]
  },
  {
   "cell_type": "code",
   "execution_count": 718,
   "id": "c1deaaa7",
   "metadata": {},
   "outputs": [],
   "source": [
    "_target_col =re.findall(r'\\d+',str_target_column)\n",
    "if _target_col:\n",
    "    lst_target_number_column =  list(map(int,_target_col))\n",
    "else:\n",
    "    print('Введите порядковые номера колонок в виде цифр')"
   ]
  },
  {
   "cell_type": "code",
   "execution_count": 719,
   "id": "0ca01957",
   "metadata": {},
   "outputs": [
    {
     "data": {
      "text/plain": [
       "[2, 6]"
      ]
     },
     "execution_count": 719,
     "metadata": {},
     "output_type": "execute_result"
    }
   ],
   "source": [
    "lst_target_number_column"
   ]
  },
  {
   "cell_type": "code",
   "execution_count": 720,
   "id": "01ad55a4",
   "metadata": {},
   "outputs": [],
   "source": [
    "lst_name_column = [] # список для хранения названий колонок сводной таблицы\n",
    "for value in lst_number_cols:\n",
    "    if value != 0:\n",
    "        lst_name_column.append(df.columns[value-1])\n",
    "        "
   ]
  },
  {
   "cell_type": "code",
   "execution_count": 721,
   "id": "a86f32cb",
   "metadata": {},
   "outputs": [
    {
     "data": {
      "text/plain": [
       "['Образование', 'Группа']"
      ]
     },
     "execution_count": 721,
     "metadata": {},
     "output_type": "execute_result"
    }
   ],
   "source": [
    "lst_name_column"
   ]
  },
  {
   "cell_type": "code",
   "execution_count": 722,
   "id": "8a24127b",
   "metadata": {},
   "outputs": [],
   "source": [
    "lst_target_name_column = [] # список для хранения названий колонок сводной таблицы\n",
    "for value in lst_target_number_column:\n",
    "    if value != 0:\n",
    "        lst_target_name_column.append(df.columns[value-1])"
   ]
  },
  {
   "cell_type": "code",
   "execution_count": 723,
   "id": "d734c9ec",
   "metadata": {},
   "outputs": [
    {
     "data": {
      "text/plain": [
       "['Фамилия', 'Средний балл']"
      ]
     },
     "execution_count": 723,
     "metadata": {},
     "output_type": "execute_result"
    }
   ],
   "source": [
    "lst_target_name_column"
   ]
  },
  {
   "cell_type": "code",
   "execution_count": 724,
   "id": "55bb9ebb",
   "metadata": {},
   "outputs": [],
   "source": [
    "\n",
    "dct_func = {'Сумма':'sum','Среднее':'mean','Медиана':'median','Минимум':'min','Максимум':'max','Количество':'count',\n",
    "           'Количество уникальных':count_uniq,'Самое частое':find_top_value,'Количество самых частых':count_top_value,\n",
    "           'Количество дубликатов':count_dupl_value}\n",
    "\n",
    "set_text_func = {'Количество уникальных','Самое частое','Количество самых частых','Количество дубликатов'}"
   ]
  },
  {
   "cell_type": "code",
   "execution_count": null,
   "id": "fea01dba",
   "metadata": {},
   "outputs": [],
   "source": []
  },
  {
   "cell_type": "code",
   "execution_count": null,
   "id": "34ad2c58",
   "metadata": {},
   "outputs": [],
   "source": []
  },
  {
   "cell_type": "code",
   "execution_count": 725,
   "id": "be83957c",
   "metadata": {},
   "outputs": [],
   "source": [
    "wb = openpyxl.Workbook() # создаем объект\n",
    "for idx,items in enumerate(dct_func.items()):\n",
    "    name_sheet,name_func = items # распаковываем\n",
    "    wb.create_sheet(title=name_sheet,index=idx) # создаем лист\n",
    "    df = base_df.copy() # копируем дотафрейм что избежать косяков с изменением значений\n",
    "    if name_sheet not in set_text_func:   \n",
    "    \n",
    "        df[lst_target_name_column] = df[lst_target_name_column].applymap(lambda x: x if isinstance(x,(int,float)) else 0)\n",
    "\n",
    "        temp_df =pd.pivot_table(df,\n",
    "                  index=lst_name_column,\n",
    "                  values=lst_target_name_column,             \n",
    "                  aggfunc=name_func,\n",
    "                               fill_value=0)\n",
    "        temp_df = temp_df.reset_index()\n",
    "        \n",
    "\n",
    "\n",
    "        for row in dataframe_to_rows(temp_df,index=False,header=True):\n",
    "            wb[name_sheet].append(row)\n",
    "        for column in wb[name_sheet].columns:\n",
    "            max_length = 0\n",
    "            column_name = get_column_letter(column[0].column)\n",
    "            for cell in column:\n",
    "                try:\n",
    "                    if len(str(cell.value)) > max_length:\n",
    "                        max_length = len(cell.value)\n",
    "                except:\n",
    "                    pass\n",
    "            adjusted_width = (max_length + 2)\n",
    "            wb[name_sheet].column_dimensions[column_name].width = adjusted_width\n",
    "    else:\n",
    "        df[lst_target_name_column] = df[lst_target_name_column].fillna('Не заполнено')\n",
    "        df[lst_target_name_column] = df[lst_target_name_column].applymap(str)\n",
    "        temp_df =pd.pivot_table(df,\n",
    "                  index=lst_name_column,\n",
    "                  values=lst_target_name_column,             \n",
    "                  aggfunc=name_func,\n",
    "                               )\n",
    "        temp_df = temp_df.reset_index()\n",
    "\n",
    "\n",
    "        for row in dataframe_to_rows(temp_df,index=False,header=True):\n",
    "            wb[name_sheet].append(row)\n",
    "        for column in wb[name_sheet].columns:\n",
    "            max_length = 0\n",
    "            column_name = get_column_letter(column[0].column)\n",
    "            for cell in column:\n",
    "                try:\n",
    "                    if len(str(cell.value)) > max_length:\n",
    "                        max_length = len(cell.value)\n",
    "                except:\n",
    "                    pass\n",
    "            adjusted_width = (max_length + 2)\n",
    "            wb[name_sheet].column_dimensions[column_name].width = adjusted_width\n",
    "        \n",
    "del wb['Sheet']\n",
    "    \n",
    "\n"
   ]
  },
  {
   "cell_type": "code",
   "execution_count": 726,
   "id": "9650f731",
   "metadata": {},
   "outputs": [
    {
     "data": {
      "text/plain": [
       "['Сумма',\n",
       " 'Среднее',\n",
       " 'Медиана',\n",
       " 'Минимум',\n",
       " 'Максимум',\n",
       " 'Количество',\n",
       " 'Количество уникальных',\n",
       " 'Самое частое',\n",
       " 'Количество самых частых',\n",
       " 'Количество дубликатов']"
      ]
     },
     "execution_count": 726,
     "metadata": {},
     "output_type": "execute_result"
    }
   ],
   "source": [
    "wb.sheetnames"
   ]
  },
  {
   "cell_type": "code",
   "execution_count": 727,
   "id": "38367305",
   "metadata": {},
   "outputs": [],
   "source": [
    "wb.save(f'{end_folder}/Тест.xlsx')"
   ]
  },
  {
   "cell_type": "code",
   "execution_count": null,
   "id": "f094bedb",
   "metadata": {},
   "outputs": [],
   "source": []
  },
  {
   "cell_type": "code",
   "execution_count": 728,
   "id": "ccad4680",
   "metadata": {},
   "outputs": [],
   "source": [
    "c = df['ИНН'].describe()"
   ]
  },
  {
   "cell_type": "code",
   "execution_count": 729,
   "id": "df9985aa",
   "metadata": {},
   "outputs": [
    {
     "data": {
      "text/plain": [
       "count             1001\n",
       "unique            1000\n",
       "top       806441417954\n",
       "freq                 2\n",
       "Name: ИНН, dtype: object"
      ]
     },
     "execution_count": 729,
     "metadata": {},
     "output_type": "execute_result"
    }
   ],
   "source": [
    "c"
   ]
  },
  {
   "cell_type": "code",
   "execution_count": 730,
   "id": "c05b5c75",
   "metadata": {},
   "outputs": [
    {
     "data": {
      "text/plain": [
       "1000"
      ]
     },
     "execution_count": 730,
     "metadata": {},
     "output_type": "execute_result"
    }
   ],
   "source": [
    "c.iloc[1]"
   ]
  },
  {
   "cell_type": "code",
   "execution_count": 731,
   "id": "79b2bc2f",
   "metadata": {},
   "outputs": [
    {
     "data": {
      "text/plain": [
       "'806441417954'"
      ]
     },
     "execution_count": 731,
     "metadata": {},
     "output_type": "execute_result"
    }
   ],
   "source": [
    "c.iloc[2]"
   ]
  },
  {
   "cell_type": "code",
   "execution_count": null,
   "id": "ab6c0baa",
   "metadata": {},
   "outputs": [],
   "source": []
  },
  {
   "cell_type": "code",
   "execution_count": 732,
   "id": "f968ee4e",
   "metadata": {},
   "outputs": [
    {
     "data": {
      "text/html": [
       "<div>\n",
       "<style scoped>\n",
       "    .dataframe tbody tr th:only-of-type {\n",
       "        vertical-align: middle;\n",
       "    }\n",
       "\n",
       "    .dataframe tbody tr th {\n",
       "        vertical-align: top;\n",
       "    }\n",
       "\n",
       "    .dataframe thead th {\n",
       "        text-align: right;\n",
       "    }\n",
       "</style>\n",
       "<table border=\"1\" class=\"dataframe\">\n",
       "  <thead>\n",
       "    <tr style=\"text-align: right;\">\n",
       "      <th></th>\n",
       "      <th></th>\n",
       "      <th>Направление_подготовки</th>\n",
       "      <th>Фамилия</th>\n",
       "    </tr>\n",
       "    <tr>\n",
       "      <th>Образование</th>\n",
       "      <th>Группа</th>\n",
       "      <th></th>\n",
       "      <th></th>\n",
       "    </tr>\n",
       "  </thead>\n",
       "  <tbody>\n",
       "    <tr>\n",
       "      <th rowspan=\"50\" valign=\"top\">Основное общее</th>\n",
       "      <th>АГ-596</th>\n",
       "      <td>2</td>\n",
       "      <td>20</td>\n",
       "    </tr>\n",
       "    <tr>\n",
       "      <th>АД-393</th>\n",
       "      <td>1</td>\n",
       "      <td>20</td>\n",
       "    </tr>\n",
       "    <tr>\n",
       "      <th>АЛ-480</th>\n",
       "      <td>1</td>\n",
       "      <td>20</td>\n",
       "    </tr>\n",
       "    <tr>\n",
       "      <th>АП-380</th>\n",
       "      <td>2</td>\n",
       "      <td>20</td>\n",
       "    </tr>\n",
       "    <tr>\n",
       "      <th>АЯ-322</th>\n",
       "      <td>1</td>\n",
       "      <td>20</td>\n",
       "    </tr>\n",
       "    <tr>\n",
       "      <th>АЯ-849</th>\n",
       "      <td>7</td>\n",
       "      <td>20</td>\n",
       "    </tr>\n",
       "    <tr>\n",
       "      <th>БВ-523</th>\n",
       "      <td>2</td>\n",
       "      <td>20</td>\n",
       "    </tr>\n",
       "    <tr>\n",
       "      <th>БЕ-281</th>\n",
       "      <td>10</td>\n",
       "      <td>20</td>\n",
       "    </tr>\n",
       "    <tr>\n",
       "      <th>БЕ-944</th>\n",
       "      <td>1</td>\n",
       "      <td>19</td>\n",
       "    </tr>\n",
       "    <tr>\n",
       "      <th>БН-321</th>\n",
       "      <td>8</td>\n",
       "      <td>20</td>\n",
       "    </tr>\n",
       "    <tr>\n",
       "      <th>БЯ-877</th>\n",
       "      <td>1</td>\n",
       "      <td>20</td>\n",
       "    </tr>\n",
       "    <tr>\n",
       "      <th>БЯ-928</th>\n",
       "      <td>10</td>\n",
       "      <td>20</td>\n",
       "    </tr>\n",
       "    <tr>\n",
       "      <th>ВД-204</th>\n",
       "      <td>10</td>\n",
       "      <td>19</td>\n",
       "    </tr>\n",
       "    <tr>\n",
       "      <th>ВЕ-129</th>\n",
       "      <td>8</td>\n",
       "      <td>20</td>\n",
       "    </tr>\n",
       "    <tr>\n",
       "      <th>ГВ-833</th>\n",
       "      <td>2</td>\n",
       "      <td>20</td>\n",
       "    </tr>\n",
       "    <tr>\n",
       "      <th>ГГ-759</th>\n",
       "      <td>10</td>\n",
       "      <td>20</td>\n",
       "    </tr>\n",
       "    <tr>\n",
       "      <th>ДА-989</th>\n",
       "      <td>7</td>\n",
       "      <td>15</td>\n",
       "    </tr>\n",
       "    <tr>\n",
       "      <th>ДВ-244</th>\n",
       "      <td>11</td>\n",
       "      <td>20</td>\n",
       "    </tr>\n",
       "    <tr>\n",
       "      <th>ДО-951</th>\n",
       "      <td>1</td>\n",
       "      <td>20</td>\n",
       "    </tr>\n",
       "    <tr>\n",
       "      <th>ДП-786</th>\n",
       "      <td>8</td>\n",
       "      <td>20</td>\n",
       "    </tr>\n",
       "    <tr>\n",
       "      <th>ЕА-479</th>\n",
       "      <td>1</td>\n",
       "      <td>20</td>\n",
       "    </tr>\n",
       "    <tr>\n",
       "      <th>ЕД-195</th>\n",
       "      <td>1</td>\n",
       "      <td>20</td>\n",
       "    </tr>\n",
       "    <tr>\n",
       "      <th>ЕЕ-374</th>\n",
       "      <td>1</td>\n",
       "      <td>20</td>\n",
       "    </tr>\n",
       "    <tr>\n",
       "      <th>ЕП-951</th>\n",
       "      <td>1</td>\n",
       "      <td>20</td>\n",
       "    </tr>\n",
       "    <tr>\n",
       "      <th>КА-426</th>\n",
       "      <td>10</td>\n",
       "      <td>20</td>\n",
       "    </tr>\n",
       "    <tr>\n",
       "      <th>КА-733</th>\n",
       "      <td>1</td>\n",
       "      <td>20</td>\n",
       "    </tr>\n",
       "    <tr>\n",
       "      <th>КВ-838</th>\n",
       "      <td>1</td>\n",
       "      <td>20</td>\n",
       "    </tr>\n",
       "    <tr>\n",
       "      <th>КД-856</th>\n",
       "      <td>1</td>\n",
       "      <td>20</td>\n",
       "    </tr>\n",
       "    <tr>\n",
       "      <th>КО-589</th>\n",
       "      <td>1</td>\n",
       "      <td>20</td>\n",
       "    </tr>\n",
       "    <tr>\n",
       "      <th>ЛЛ-514</th>\n",
       "      <td>1</td>\n",
       "      <td>20</td>\n",
       "    </tr>\n",
       "    <tr>\n",
       "      <th>ЛН-300</th>\n",
       "      <td>10</td>\n",
       "      <td>20</td>\n",
       "    </tr>\n",
       "    <tr>\n",
       "      <th>ЛО-368</th>\n",
       "      <td>1</td>\n",
       "      <td>20</td>\n",
       "    </tr>\n",
       "    <tr>\n",
       "      <th>ЛП-187</th>\n",
       "      <td>1</td>\n",
       "      <td>20</td>\n",
       "    </tr>\n",
       "    <tr>\n",
       "      <th>НБ-368</th>\n",
       "      <td>1</td>\n",
       "      <td>20</td>\n",
       "    </tr>\n",
       "    <tr>\n",
       "      <th>НЕ-643</th>\n",
       "      <td>1</td>\n",
       "      <td>20</td>\n",
       "    </tr>\n",
       "    <tr>\n",
       "      <th>НО-608</th>\n",
       "      <td>9</td>\n",
       "      <td>20</td>\n",
       "    </tr>\n",
       "    <tr>\n",
       "      <th>НП-652</th>\n",
       "      <td>2</td>\n",
       "      <td>20</td>\n",
       "    </tr>\n",
       "    <tr>\n",
       "      <th>НЭ-787</th>\n",
       "      <td>9</td>\n",
       "      <td>20</td>\n",
       "    </tr>\n",
       "    <tr>\n",
       "      <th>НЯ-427</th>\n",
       "      <td>8</td>\n",
       "      <td>20</td>\n",
       "    </tr>\n",
       "    <tr>\n",
       "      <th>ОБ-280</th>\n",
       "      <td>1</td>\n",
       "      <td>20</td>\n",
       "    </tr>\n",
       "    <tr>\n",
       "      <th>ОВ-173</th>\n",
       "      <td>8</td>\n",
       "      <td>20</td>\n",
       "    </tr>\n",
       "    <tr>\n",
       "      <th>ОГ-541</th>\n",
       "      <td>8</td>\n",
       "      <td>20</td>\n",
       "    </tr>\n",
       "    <tr>\n",
       "      <th>ПН-298</th>\n",
       "      <td>1</td>\n",
       "      <td>20</td>\n",
       "    </tr>\n",
       "    <tr>\n",
       "      <th>ПН-962</th>\n",
       "      <td>2</td>\n",
       "      <td>20</td>\n",
       "    </tr>\n",
       "    <tr>\n",
       "      <th>ПЭ-344</th>\n",
       "      <td>10</td>\n",
       "      <td>19</td>\n",
       "    </tr>\n",
       "    <tr>\n",
       "      <th>ЭД-420</th>\n",
       "      <td>1</td>\n",
       "      <td>20</td>\n",
       "    </tr>\n",
       "    <tr>\n",
       "      <th>ЭН-535</th>\n",
       "      <td>1</td>\n",
       "      <td>20</td>\n",
       "    </tr>\n",
       "    <tr>\n",
       "      <th>ЯА-476</th>\n",
       "      <td>8</td>\n",
       "      <td>20</td>\n",
       "    </tr>\n",
       "    <tr>\n",
       "      <th>ЯК-419</th>\n",
       "      <td>10</td>\n",
       "      <td>20</td>\n",
       "    </tr>\n",
       "    <tr>\n",
       "      <th>ЯЯ-331</th>\n",
       "      <td>2</td>\n",
       "      <td>20</td>\n",
       "    </tr>\n",
       "    <tr>\n",
       "      <th>Среднее общее</th>\n",
       "      <th>ДА-989</th>\n",
       "      <td>3</td>\n",
       "      <td>4</td>\n",
       "    </tr>\n",
       "    <tr>\n",
       "      <th rowspan=\"2\" valign=\"top\">Среднее профессиональное</th>\n",
       "      <th>ДА-989</th>\n",
       "      <td>1</td>\n",
       "      <td>1</td>\n",
       "    </tr>\n",
       "    <tr>\n",
       "      <th>ПЭ-344</th>\n",
       "      <td>1</td>\n",
       "      <td>1</td>\n",
       "    </tr>\n",
       "  </tbody>\n",
       "</table>\n",
       "</div>"
      ],
      "text/plain": [
       "                                 Направление_подготовки  Фамилия\n",
       "Образование              Группа                                 \n",
       "Основное общее           АГ-596                       2       20\n",
       "                         АД-393                       1       20\n",
       "                         АЛ-480                       1       20\n",
       "                         АП-380                       2       20\n",
       "                         АЯ-322                       1       20\n",
       "                         АЯ-849                       7       20\n",
       "                         БВ-523                       2       20\n",
       "                         БЕ-281                      10       20\n",
       "                         БЕ-944                       1       19\n",
       "                         БН-321                       8       20\n",
       "                         БЯ-877                       1       20\n",
       "                         БЯ-928                      10       20\n",
       "                         ВД-204                      10       19\n",
       "                         ВЕ-129                       8       20\n",
       "                         ГВ-833                       2       20\n",
       "                         ГГ-759                      10       20\n",
       "                         ДА-989                       7       15\n",
       "                         ДВ-244                      11       20\n",
       "                         ДО-951                       1       20\n",
       "                         ДП-786                       8       20\n",
       "                         ЕА-479                       1       20\n",
       "                         ЕД-195                       1       20\n",
       "                         ЕЕ-374                       1       20\n",
       "                         ЕП-951                       1       20\n",
       "                         КА-426                      10       20\n",
       "                         КА-733                       1       20\n",
       "                         КВ-838                       1       20\n",
       "                         КД-856                       1       20\n",
       "                         КО-589                       1       20\n",
       "                         ЛЛ-514                       1       20\n",
       "                         ЛН-300                      10       20\n",
       "                         ЛО-368                       1       20\n",
       "                         ЛП-187                       1       20\n",
       "                         НБ-368                       1       20\n",
       "                         НЕ-643                       1       20\n",
       "                         НО-608                       9       20\n",
       "                         НП-652                       2       20\n",
       "                         НЭ-787                       9       20\n",
       "                         НЯ-427                       8       20\n",
       "                         ОБ-280                       1       20\n",
       "                         ОВ-173                       8       20\n",
       "                         ОГ-541                       8       20\n",
       "                         ПН-298                       1       20\n",
       "                         ПН-962                       2       20\n",
       "                         ПЭ-344                      10       19\n",
       "                         ЭД-420                       1       20\n",
       "                         ЭН-535                       1       20\n",
       "                         ЯА-476                       8       20\n",
       "                         ЯК-419                      10       20\n",
       "                         ЯЯ-331                       2       20\n",
       "Среднее общее            ДА-989                       3        4\n",
       "Среднее профессиональное ДА-989                       1        1\n",
       "                         ПЭ-344                       1        1"
      ]
     },
     "execution_count": 732,
     "metadata": {},
     "output_type": "execute_result"
    }
   ],
   "source": [
    "pd.pivot_table(df,\n",
    "              index=lst_name_column,\n",
    "              values=['Фамилия','Направление_подготовки'],             \n",
    "              aggfunc=count_uniq,\n",
    "                           fill_value=0)"
   ]
  },
  {
   "cell_type": "code",
   "execution_count": null,
   "id": "c88f1979",
   "metadata": {},
   "outputs": [],
   "source": []
  },
  {
   "cell_type": "code",
   "execution_count": null,
   "id": "a6276bee",
   "metadata": {},
   "outputs": [],
   "source": []
  },
  {
   "cell_type": "code",
   "execution_count": null,
   "id": "c30af8a6",
   "metadata": {},
   "outputs": [],
   "source": []
  }
 ],
 "metadata": {
  "kernelspec": {
   "display_name": "Python 3 (ipykernel)",
   "language": "python",
   "name": "python3"
  },
  "language_info": {
   "codemirror_mode": {
    "name": "ipython",
    "version": 3
   },
   "file_extension": ".py",
   "mimetype": "text/x-python",
   "name": "python",
   "nbconvert_exporter": "python",
   "pygments_lexer": "ipython3",
   "version": "3.9.13"
  }
 },
 "nbformat": 4,
 "nbformat_minor": 5
}
