{
 "cells": [
  {
   "cell_type": "code",
   "execution_count": 26,
   "id": "74876b8d",
   "metadata": {},
   "outputs": [],
   "source": [
    "import pandas as pd\n",
    "import os\n",
    "# from docxtpl import DocxTemplate\n",
    "from tkinter import *\n",
    "from tkinter import filedialog\n",
    "from tkinter import messagebox\n",
    "from tkinter import ttk\n",
    "import openpyxl\n",
    "from openpyxl.utils.dataframe import dataframe_to_rows\n",
    "from openpyxl.styles import Font\n",
    "from openpyxl.styles import Alignment\n",
    "import time\n",
    "import datetime\n",
    "from datetime import date\n",
    "from openpyxl.chart.label import DataLabelList\n",
    "from openpyxl.chart import BarChart, Reference, PieChart, PieChart3D, Series\n",
    "import warnings\n",
    "\n",
    "warnings.filterwarnings('ignore', category=UserWarning, module='openpyxl')\n",
    "import sys\n",
    "import locale"
   ]
  },
  {
   "cell_type": "code",
   "execution_count": 27,
   "id": "ced26665",
   "metadata": {},
   "outputs": [],
   "source": [
    "def set_rus_locale():\n",
    "    \"\"\"\n",
    "    Функция чтобы можно было извлечь русские названия месяцев\n",
    "    \"\"\"\n",
    "    locale.setlocale(\n",
    "        locale.LC_ALL,\n",
    "        'rus_rus' if sys.platform == 'win32' else 'ru_RU.UTF-8')\n",
    "    \n",
    "    \n",
    "def calculate_age(born):\n",
    "    \"\"\"\n",
    "    Функция для расчета текущего возраста взято с https://stackoverflow.com/questions/2217488/age-from-birthdate-in-python/9754466#9754466\n",
    "    :param born: дата рождения\n",
    "    :return: возраст\n",
    "    \"\"\"\n",
    "\n",
    "    try:\n",
    "        today = date.today()\n",
    "        return today.year - born.year - ((today.month, today.day) < (born.month, born.day))\n",
    "    except:\n",
    "        print(born)\n",
    "        messagebox.showerror('ЦОПП Бурятия', 'Отсутствует или некорректная дата рождения слушателя\\nПроверьте файл!')\n",
    "        quit()\n",
    "\n",
    "\n",
    "def convert_date(cell):\n",
    "    \"\"\"\n",
    "    Функция для конвертации даты в формате 1957-05-10 в формат 10.05.1957(строковый)\n",
    "    \"\"\"\n",
    "\n",
    "    try:\n",
    "        string_date = datetime.datetime.strftime(cell, '%d.%m.%Y')\n",
    "        return string_date\n",
    "    except TypeError:\n",
    "        print(cell)\n",
    "        messagebox.showerror('ЦОПП Бурятия', 'Проверьте правильность заполнения ячеек с датой!!!')\n",
    "        quit()\n",
    "        \n",
    "def convert_date_to_normal(cell):\n",
    "    \"\"\"\n",
    "    Функция для конвертации даты в формат даты принятый у нас день.месяц.год\n",
    "    \"\"\"\n",
    "    pass\n",
    "\n",
    "def extract_number_month(cell):\n",
    "    \"\"\"\n",
    "    Функция для извлечения номера месяца\n",
    "    \"\"\"\n",
    "    return cell.month\n",
    "    \n",
    "def extract_name_month(cell):\n",
    "    \"\"\"\n",
    "    Функция для извлечения названия месяца\n",
    "    Взято отсюда https://ru.stackoverflow.com/questions/1045154/Вывод-русских-символов-из-pd-timestamp-month-name\n",
    "    \"\"\"\n",
    "    return cell.month_name(locale='Russian')\n",
    "\n",
    "def extract_year(cell):\n",
    "    \"\"\"\n",
    "    Функция для извлечения года рождения\n",
    "    \"\"\"\n",
    "    return cell.year"
   ]
  },
  {
   "cell_type": "code",
   "execution_count": 28,
   "id": "a68966a6",
   "metadata": {},
   "outputs": [
    {
     "data": {
      "text/plain": [
       "<Worksheet \"Свод по категориям Росстата\">"
      ]
     },
     "execution_count": 28,
     "metadata": {},
     "output_type": "execute_result"
    }
   ],
   "source": [
    "# Устанавливаем русскую локаль\n",
    "set_rus_locale()\n",
    "\n",
    "\n",
    "name_file_data_date = 'Тест.xlsx'\n",
    "\n",
    "path_to_end_folder_date = 'data/'\n",
    "\n",
    "name_column = 'Дата_рождения_получателя'\n",
    "\n",
    "# Считываем файл\n",
    "df = pd.read_excel(name_file_data_date)\n",
    "# Конвертируем его в формат даты\n",
    "df[name_column] = pd.to_datetime(df[name_column])\n",
    "# Создаем шрифт которым будем выделять названия таблиц\n",
    "font_name_table = Font(name='Arial Black', size=15, italic=True)\n",
    "\n",
    "# Создаем файл excel\n",
    "wb = openpyxl.Workbook()\n",
    "# Создаем листы\n",
    "wb.create_sheet(title='Итоговая таблица',index=0)\n",
    "wb.create_sheet(title='Свод по возрастам',index=1)\n",
    "wb.create_sheet(title='Свод по месяцам',index=2)\n",
    "wb.create_sheet(title='Свод по годам',index=3)\n",
    "wb.create_sheet(title='Свод по 1-ПК',index=4)\n",
    "wb.create_sheet(title='Свод по 1-ПО',index=5)\n",
    "wb.create_sheet(title='Свод по СПО-1',index=6)\n",
    "wb.create_sheet(title='Свод по категориям Росстата',index=7)\n",
    "\n"
   ]
  },
  {
   "cell_type": "code",
   "execution_count": 30,
   "id": "08537e09",
   "metadata": {},
   "outputs": [],
   "source": [
    "# Подсчитываем текущий возраст\n",
    "df['Текущий возраст'] = df[name_column].apply(calculate_age)"
   ]
  },
  {
   "cell_type": "code",
   "execution_count": 31,
   "id": "f7ada933",
   "metadata": {},
   "outputs": [],
   "source": [
    "# Получаем номер месяца\n",
    "df['Порядковый номер месяца рождения'] = df[name_column].apply(extract_number_month)"
   ]
  },
  {
   "cell_type": "code",
   "execution_count": 32,
   "id": "ffd8e706",
   "metadata": {},
   "outputs": [],
   "source": [
    "# Получаем название месяца\n",
    "df['Название месяца рождения'] = df[name_column].apply(extract_name_month)"
   ]
  },
  {
   "cell_type": "code",
   "execution_count": 33,
   "id": "11c35940",
   "metadata": {},
   "outputs": [],
   "source": [
    "# Получаем год рождения\n",
    "df['Год рождения'] = df[name_column].apply(extract_year)"
   ]
  },
  {
   "cell_type": "code",
   "execution_count": 34,
   "id": "50b2c1af",
   "metadata": {},
   "outputs": [],
   "source": [
    "#Присваиваем категорию по 1-ПК\n",
    "df['1-ПК Категория'] = pd.cut(df['Текущий возраст'], [0, 24, 29, 34, 39, 44, 49, 54, 59, 64, 101, 10000],\n",
    "                                                                  labels=['моложе 25 лет', '25-29', '30-34', '35-39',\n",
    "                                                                          '40-44', '45-49', '50-54', '55-59', '60-64',\n",
    "                                                                          '65 и более',\n",
    "                                                                          'Возраст  больше 101'])\n",
    "# Приводим к строковому виду, иначе не запишется на лист\n",
    "df['1-ПК Категория'] = df['1-ПК Категория'].astype(str)"
   ]
  },
  {
   "cell_type": "code",
   "execution_count": 35,
   "id": "90c7f6bb",
   "metadata": {},
   "outputs": [],
   "source": [
    "# Присваиваем категорию по 1-ПО\n",
    "df['1-ПО Категория'] = pd.cut(df['Текущий возраст'],\n",
    "                                                                 [0, 13, 14, 15, 16, 17, 18, 19, 20, 21, 22, 23, 24, 25,\n",
    "                                                                  26, 27, 28,\n",
    "                                                                  29, 34, 39, 44, 49, 54, 59, 64, 101],\n",
    "                                                                 labels=['моложе 14 лет', '14 лет', '15 лет',\n",
    "                                                                         '16 лет',\n",
    "                                                                         '17 лет', '18 лет', '19 лет', '20 лет',\n",
    "                                                                         '21 год', '22 года',\n",
    "                                                                         '23 года', '24 года', '25 лет',\n",
    "                                                                         '26 лет', '27 лет', '28 лет', '29 лет',\n",
    "                                                                         '30-34 лет',\n",
    "                                                                         '35-39 лет', '40-44 лет', '45-49 лет',\n",
    "                                                                         '50-54 лет',\n",
    "                                                                         '55-59 лет',\n",
    "                                                                         '60-64 лет',\n",
    "                                                                         '65 лет и старше'])\n",
    "# Приводим к строковому виду, иначе не запишется на лист\n",
    "df['1-ПО Категория'] = df['1-ПО Категория'].astype(str)"
   ]
  },
  {
   "cell_type": "code",
   "execution_count": 36,
   "id": "ef654fcf",
   "metadata": {},
   "outputs": [],
   "source": [
    "# Присваиваем категорию по 1-СПО\n",
    "df['СПО-1 Категория'] = pd.cut(df['Текущий возраст'],[0,12,13,14,15,16,17,18,19,20,21,22,23,24,25,26,27,28,29,34,39,101],\n",
    "                              labels=['моложе 13 лет','13 лет','14 лет','15 лет','16 лет','17 лет','18 лет','19 лет','20 лет'\n",
    "                                      ,'21 год','22 года','23 года','24 года','25 лет','26 лет','27 лет','28 лет','29 лет',\n",
    "                                      '30-34 лет','35-39 лет','40 лет и старше'])\n",
    "## Приводим к строковому виду, иначе не запишется на лист\n",
    "df['СПО-1 Категория'] = df['СПО-1 Категория'].astype(str)"
   ]
  },
  {
   "cell_type": "code",
   "execution_count": 37,
   "id": "1caf3001",
   "metadata": {},
   "outputs": [],
   "source": [
    "# Присваиваем категорию по Росстату\n",
    "df['Росстат Категория'] = pd.cut(df['Текущий возраст'],[0,4,9,14,19,24,29,34,39,44,49,54,59,64,69,200],\n",
    "                                labels=['0-4','5-9','10-14','15-19','20-24','25-29','30-34',\n",
    "                                        '35-39','40-44','45-49','50-54','55-59','60-64','65-69','70 лет и старше'])\n",
    "## Приводим к строковому виду, иначе не запишется на лист\n",
    "df['Росстат Категория']=df['Росстат Категория'].astype(str)"
   ]
  },
  {
   "cell_type": "code",
   "execution_count": 38,
   "id": "69f0698c",
   "metadata": {},
   "outputs": [],
   "source": [
    "# заполняем сводные таблицы\n",
    "# Сводная по возрастам\n",
    "\n",
    "df_svod_by_age = df.groupby(['Текущий возраст']).agg({name_column:'count'})\n",
    "df_svod_by_age.columns = ['Количество']\n",
    "\n",
    "for r in dataframe_to_rows(df_svod_by_age, index=True, header=True):\n",
    "    wb['Свод по возрастам'].append(r)"
   ]
  },
  {
   "cell_type": "code",
   "execution_count": 39,
   "id": "dab8781d",
   "metadata": {},
   "outputs": [],
   "source": [
    "# Сводная по месяцам\n",
    "df_svod_by_month = df.groupby(['Название месяца рождения']).agg({name_column:'count'})\n",
    "df_svod_by_month.columns = ['Количество']\n",
    "\n",
    "# Сортируем индекс чтобы месяцы шли в хоронологическом порядке\n",
    "# Взял отсюда https://stackoverflow.com/questions/40816144/pandas-series-sort-by-month-index\n",
    "df_svod_by_month.index = pd.CategoricalIndex(df_svod_by_month.index,\n",
    "                                            categories=['Январь','Февраль','Март','Апрель','Май','Июнь','Июль','Август','Сентябрь','Октябрь','Ноябрь','Декабрь'],\n",
    "                                            ordered=True)\n",
    "df_svod_by_month.sort_index(inplace=True)\n",
    "\n",
    "for r in dataframe_to_rows(df_svod_by_month, index=True, header=True):\n",
    "    wb['Свод по месяцам'].append(r)"
   ]
  },
  {
   "cell_type": "code",
   "execution_count": 40,
   "id": "a03a49b9",
   "metadata": {},
   "outputs": [],
   "source": [
    "# Сводная по годам\n",
    "df_svod_by_year = df.groupby(['Год рождения']).agg({name_column:'count'})\n",
    "df_svod_by_year.columns = ['Количество']\n",
    "\n",
    "for r in dataframe_to_rows(df_svod_by_year, index=True, header=True):\n",
    "    wb['Свод по годам'].append(r)"
   ]
  },
  {
   "cell_type": "code",
   "execution_count": 41,
   "id": "2d7bbd8f",
   "metadata": {},
   "outputs": [],
   "source": [
    "# Сводная по 1-ПК\n",
    "df_svod_by_1PK = df.groupby(['1-ПК Категория']).agg({name_column:'count'})\n",
    "df_svod_by_1PK.columns = ['Количество']\n",
    "\n",
    "for r in dataframe_to_rows(df_svod_by_1PK, index=True, header=True):\n",
    "    wb['Свод по 1-ПК'].append(r)"
   ]
  },
  {
   "cell_type": "code",
   "execution_count": 42,
   "id": "d02a6889",
   "metadata": {},
   "outputs": [],
   "source": [
    "# Сводная по 1-ПО\n",
    "df_svod_by_1PO = df.groupby(['1-ПО Категория']).agg({name_column:'count'})\n",
    "df_svod_by_1PO.columns = ['Количество']\n",
    "\n",
    "for r in dataframe_to_rows(df_svod_by_1PO, index=True, header=True):\n",
    "    wb['Свод по 1-ПО'].append(r)"
   ]
  },
  {
   "cell_type": "code",
   "execution_count": 43,
   "id": "fc9c3b32",
   "metadata": {},
   "outputs": [],
   "source": [
    "# Сводная по СПО-1\n",
    "df_svod_by_SPO1 = df.groupby(['СПО-1 Категория']).agg({name_column:'count'})\n",
    "df_svod_by_SPO1.columns = ['Количество']\n",
    "\n",
    "for r in dataframe_to_rows(df_svod_by_SPO1, index=True, header=True):\n",
    "    wb['Свод по СПО-1'].append(r)"
   ]
  },
  {
   "cell_type": "code",
   "execution_count": 44,
   "id": "5a79271f",
   "metadata": {},
   "outputs": [],
   "source": [
    "# Сводная по Росстату\n",
    "df_svod_by_Ros = df.groupby(['Росстат Категория']).agg({name_column:'count'})\n",
    "df_svod_by_Ros.columns = ['Количество']\n",
    "\n",
    "# Сортируем индекс\n",
    "df_svod_by_Ros.index = pd.CategoricalIndex(df_svod_by_Ros.index,\n",
    "                                            categories=['0-4','5-9','10-14','15-19','20-24','25-29','30-34',\n",
    "                                        '35-39','40-44','45-49','50-54','55-59','60-64','65-69','70 лет и старше','nan'],\n",
    "                                            ordered=True)\n",
    "df_svod_by_Ros.sort_index(inplace=True)\n",
    "\n",
    "\n",
    "for r in dataframe_to_rows(df_svod_by_Ros, index=True, header=True):\n",
    "    wb['Свод по категориям Росстата'].append(r)"
   ]
  },
  {
   "cell_type": "code",
   "execution_count": null,
   "id": "0c90d81a",
   "metadata": {},
   "outputs": [],
   "source": []
  },
  {
   "cell_type": "code",
   "execution_count": 47,
   "id": "98d9b759",
   "metadata": {},
   "outputs": [],
   "source": [
    "for r in dataframe_to_rows(df, index=False, header=True):\n",
    "    wb['Итоговая таблица'].append(r)"
   ]
  },
  {
   "cell_type": "code",
   "execution_count": 48,
   "id": "071445dc",
   "metadata": {},
   "outputs": [],
   "source": [
    "t = time.localtime()\n",
    "current_time = time.strftime('%H_%M_%S', t)\n",
    "# Сохраняем итоговый файл\n",
    "wb.save(f'{path_to_end_folder_date}/Таблица по датам рождения от {current_time}.xlsx')"
   ]
  },
  {
   "cell_type": "code",
   "execution_count": null,
   "id": "9f416178",
   "metadata": {},
   "outputs": [],
   "source": []
  }
 ],
 "metadata": {
  "kernelspec": {
   "display_name": "Python 3 (ipykernel)",
   "language": "python",
   "name": "python3"
  },
  "language_info": {
   "codemirror_mode": {
    "name": "ipython",
    "version": 3
   },
   "file_extension": ".py",
   "mimetype": "text/x-python",
   "name": "python",
   "nbconvert_exporter": "python",
   "pygments_lexer": "ipython3",
   "version": "3.9.13"
  }
 },
 "nbformat": 4,
 "nbformat_minor": 5
}
