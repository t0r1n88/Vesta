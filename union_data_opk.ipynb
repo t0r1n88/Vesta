{
 "cells": [
  {
   "cell_type": "code",
   "execution_count": 29,
   "id": "cd967502",
   "metadata": {},
   "outputs": [],
   "source": [
    "import pandas as pd\n",
    "import datetime\n",
    "import os\n",
    "import warnings\n",
    "import time\n",
    "\n",
    "warnings.filterwarnings('ignore', category=UserWarning, module='openpyxl')\n",
    "warnings.simplefilter(action='ignore', category=DeprecationWarning)\n",
    "warnings.simplefilter(action='ignore', category=UserWarning)\n",
    "pd.options.mode.chained_assignment = None"
   ]
  },
  {
   "cell_type": "code",
   "execution_count": 30,
   "id": "3278073e",
   "metadata": {},
   "outputs": [],
   "source": [
    "path_to_data = 'data/07.08.23'"
   ]
  },
  {
   "cell_type": "code",
   "execution_count": 31,
   "id": "6490119c",
   "metadata": {},
   "outputs": [],
   "source": [
    "form1_df = pd.DataFrame(columns=range(22))\n",
    "form2_df = pd.DataFrame(columns=range(11))\n",
    "form3_df = pd.DataFrame(columns=range(8))\n"
   ]
  },
  {
   "cell_type": "code",
   "execution_count": 32,
   "id": "60cb3ae5",
   "metadata": {},
   "outputs": [
    {
     "name": "stdout",
     "output_type": "stream",
     "text": [
      "Амурская область_07.08.2023.xlsx\n",
      "Бурятия.xlsx\n",
      "Забайкальский край 07.08.xlsx\n",
      "Камчатка.xlsx\n",
      "Магадан.xlsx\n",
      "Примосркий край_07.08.xlsx\n",
      "РС (Я).xlsx\n",
      "Сахалин.xlsx\n",
      "Хабаровский край_ОПК_07.08.2023.xlsx\n"
     ]
    }
   ],
   "source": [
    "for file in os.listdir(path_to_data):\n",
    "    if (file.endswith('.xlsx') and not file.startswith('~$')):\n",
    "        print(file)\n",
    "        # обрабатываем первый лист\n",
    "        temp_df = pd.read_excel(f'{path_to_data}/{file}',sheet_name=0,dtype={'гр.2':str},skiprows=2,usecols='A:V')\n",
    "        temp_df.columns = range(22)\n",
    "        temp_df.dropna(thresh=4,inplace=True)\n",
    "        form1_df = pd.concat([form1_df,temp_df],ignore_index=True)\n",
    "\n",
    "        # обрабатываем второй лист\n",
    "        temp_df = pd.read_excel(f'{path_to_data}/{file}',sheet_name=1,dtype={'гр.2':str},skiprows=2,usecols='A:K')\n",
    "        temp_df.columns = range(11)\n",
    "        temp_df.dropna(thresh=4,inplace=True)\n",
    "        form2_df = pd.concat([form2_df,temp_df],ignore_index=True)\n",
    "\n",
    "        #обрабатываем третий лист\n",
    "        temp_df = pd.read_excel(f'{path_to_data}/{file}',sheet_name=2,dtype={'гр.2':str},skiprows=2,usecols='A:H')\n",
    "        temp_df.columns = range(8)\n",
    "        temp_df.dropna(thresh=3,inplace=True)\n",
    "        form3_df = pd.concat([form3_df,temp_df],ignore_index=True)\n",
    "    "
   ]
  },
  {
   "cell_type": "code",
   "execution_count": 33,
   "id": "966372a8",
   "metadata": {},
   "outputs": [],
   "source": [
    "# генерируем текущее время\n",
    "t = time.localtime()\n",
    "current_time = time.strftime('%H_%M_%S', t)"
   ]
  },
  {
   "cell_type": "code",
   "execution_count": 34,
   "id": "b6b2d051",
   "metadata": {},
   "outputs": [],
   "source": [
    "with pd.ExcelWriter(f'data/Общий файл от {current_time}.xlsx') as writer:\n",
    "    form1_df.to_excel(writer,sheet_name='Форма по мониторингу',index=False)\n",
    "    form2_df.to_excel(writer,sheet_name='Форма по принимаемым мерам',index=False)\n",
    "    form3_df.to_excel(writer,sheet_name='Форма по социальной поддежке',index=False)"
   ]
  },
  {
   "cell_type": "code",
   "execution_count": null,
   "id": "668dbe22",
   "metadata": {},
   "outputs": [],
   "source": []
  },
  {
   "cell_type": "code",
   "execution_count": null,
   "id": "29e1315b",
   "metadata": {},
   "outputs": [],
   "source": []
  },
  {
   "cell_type": "code",
   "execution_count": 35,
   "id": "abda8350",
   "metadata": {},
   "outputs": [],
   "source": [
    "temp_df.dropna(thresh=4).to_excel('2.xlsx',index=False\n",
    "                                 )"
   ]
  },
  {
   "cell_type": "code",
   "execution_count": null,
   "id": "0048f202",
   "metadata": {},
   "outputs": [],
   "source": []
  },
  {
   "cell_type": "code",
   "execution_count": null,
   "id": "bc88fc75",
   "metadata": {},
   "outputs": [],
   "source": []
  },
  {
   "cell_type": "code",
   "execution_count": null,
   "id": "5d3c2542",
   "metadata": {},
   "outputs": [],
   "source": []
  }
 ],
 "metadata": {
  "kernelspec": {
   "display_name": "Python 3 (ipykernel)",
   "language": "python",
   "name": "python3"
  },
  "language_info": {
   "codemirror_mode": {
    "name": "ipython",
    "version": 3
   },
   "file_extension": ".py",
   "mimetype": "text/x-python",
   "name": "python",
   "nbconvert_exporter": "python",
   "pygments_lexer": "ipython3",
   "version": "3.9.13"
  }
 },
 "nbformat": 4,
 "nbformat_minor": 5
}
