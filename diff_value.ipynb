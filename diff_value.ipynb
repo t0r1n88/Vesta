{
 "cells": [
  {
   "cell_type": "code",
   "execution_count": 88,
   "id": "ce891014",
   "metadata": {},
   "outputs": [
    {
     "data": {
      "text/plain": [
       "'\\nскрипт для добавления колонок с абсолютной и относительной разницей\\n'"
      ]
     },
     "execution_count": 88,
     "metadata": {},
     "output_type": "execute_result"
    }
   ],
   "source": [
    "\"\"\"\n",
    "скрипт для добавления колонок с абсолютной и относительной разницей\n",
    "\"\"\"\n"
   ]
  },
  {
   "cell_type": "code",
   "execution_count": 89,
   "id": "44bf1a5e",
   "metadata": {},
   "outputs": [],
   "source": [
    "import pandas as pd\n",
    "import numpy as np\n"
   ]
  },
  {
   "cell_type": "code",
   "execution_count": 90,
   "id": "d5128bac",
   "metadata": {},
   "outputs": [],
   "source": [
    "def abs_diff(first_value,second_value):\n",
    "    \"\"\"\n",
    "    Функция для подсчета абсолютной разницы между 2 значениями\n",
    "    \"\"\"\n",
    "    try:\n",
    "        return float(first_value) - float(second_value)\n",
    "    except:\n",
    "        return None\n",
    "\n",
    "    "
   ]
  },
  {
   "cell_type": "code",
   "execution_count": 91,
   "id": "d8a0b153",
   "metadata": {},
   "outputs": [],
   "source": [
    "def percent_diff(first_value,second_value):\n",
    "    \"\"\"\n",
    "    функция для подсчета относительной разницы значений\n",
    "    \"\"\"\n",
    "    try:\n",
    "        # округляем до трех\n",
    "        value = round(float(second_value) / float(first_value),4) * 100\n",
    "        return value\n",
    "    except:\n",
    "        return None\n",
    "        \n",
    "\n",
    "    "
   ]
  },
  {
   "cell_type": "code",
   "execution_count": null,
   "id": "7f6e250d",
   "metadata": {},
   "outputs": [],
   "source": []
  },
  {
   "cell_type": "code",
   "execution_count": null,
   "id": "59313542",
   "metadata": {},
   "outputs": [],
   "source": []
  },
  {
   "cell_type": "code",
   "execution_count": null,
   "id": "8d6c3de4",
   "metadata": {},
   "outputs": [],
   "source": []
  },
  {
   "cell_type": "code",
   "execution_count": 92,
   "id": "4a5aecfd",
   "metadata": {},
   "outputs": [],
   "source": [
    "df1 = pd.read_excel('data/Сложный вариант таблицы №1.xlsx',dtype=str)\n",
    "df2 = pd.read_excel('data/Сложный вариант таблицы №96.xlsx',dtype=str)"
   ]
  },
  {
   "cell_type": "code",
   "execution_count": 93,
   "id": "5d00f5e3",
   "metadata": {},
   "outputs": [],
   "source": [
    "df_cols = df1.compare(df2,result_names=('Первая таблица','Вторая таблица')) # датафрейм с разницей по колонкам\n",
    "df_cols.index = list(map(lambda x: x + 2, df_cols.index)) # добавляем к индексу +2 чтобы соответствовать нумерации в экселе\n",
    "df_cols.index.name = '№ строки' # переименовываем индекс\n",
    "\n",
    "df_rows = df1.compare(df2, align_axis=0, result_names=('Первая таблица', 'Вторая таблица')) # датафрейм с разницей по строкам\n",
    "lst_mul_ind = list(map(lambda x: (x[0] + 2, x[1]), df_rows.index)) # добавляем к индексу +2 чтобы соответствовать нумерации в экселе\n",
    "index = pd.MultiIndex.from_tuples(lst_mul_ind, names=['№ строки', 'Таблица']) # создаем мультиндекс\n",
    "df_rows.index = index"
   ]
  },
  {
   "cell_type": "code",
   "execution_count": 94,
   "id": "dfa1e8e0",
   "metadata": {},
   "outputs": [
    {
     "data": {
      "text/html": [
       "<div>\n",
       "<style scoped>\n",
       "    .dataframe tbody tr th:only-of-type {\n",
       "        vertical-align: middle;\n",
       "    }\n",
       "\n",
       "    .dataframe tbody tr th {\n",
       "        vertical-align: top;\n",
       "    }\n",
       "\n",
       "    .dataframe thead tr th {\n",
       "        text-align: left;\n",
       "    }\n",
       "\n",
       "    .dataframe thead tr:last-of-type th {\n",
       "        text-align: right;\n",
       "    }\n",
       "</style>\n",
       "<table border=\"1\" class=\"dataframe\">\n",
       "  <thead>\n",
       "    <tr>\n",
       "      <th></th>\n",
       "      <th colspan=\"2\" halign=\"left\">Амурская область</th>\n",
       "      <th colspan=\"2\" halign=\"left\">Воронежская область</th>\n",
       "      <th colspan=\"2\" halign=\"left\">Unnamed: 41</th>\n",
       "    </tr>\n",
       "    <tr>\n",
       "      <th></th>\n",
       "      <th>Первая таблица</th>\n",
       "      <th>Вторая таблица</th>\n",
       "      <th>Первая таблица</th>\n",
       "      <th>Вторая таблица</th>\n",
       "      <th>Первая таблица</th>\n",
       "      <th>Вторая таблица</th>\n",
       "    </tr>\n",
       "    <tr>\n",
       "      <th>№ строки</th>\n",
       "      <th></th>\n",
       "      <th></th>\n",
       "      <th></th>\n",
       "      <th></th>\n",
       "      <th></th>\n",
       "      <th></th>\n",
       "    </tr>\n",
       "  </thead>\n",
       "  <tbody>\n",
       "    <tr>\n",
       "      <th>4</th>\n",
       "      <td>12026</td>\n",
       "      <td>11000</td>\n",
       "      <td>NaN</td>\n",
       "      <td>NaN</td>\n",
       "      <td>NaN</td>\n",
       "      <td>NaN</td>\n",
       "    </tr>\n",
       "    <tr>\n",
       "      <th>6</th>\n",
       "      <td>NaN</td>\n",
       "      <td>NaN</td>\n",
       "      <td>1449</td>\n",
       "      <td>523.5</td>\n",
       "      <td>NaN</td>\n",
       "      <td>NaN</td>\n",
       "    </tr>\n",
       "    <tr>\n",
       "      <th>22</th>\n",
       "      <td>NaN</td>\n",
       "      <td>NaN</td>\n",
       "      <td>NaN</td>\n",
       "      <td>NaN</td>\n",
       "      <td>2373</td>\n",
       "      <td>NaN</td>\n",
       "    </tr>\n",
       "  </tbody>\n",
       "</table>\n",
       "</div>"
      ],
      "text/plain": [
       "         Амурская область                Воронежская область                 \\\n",
       "           Первая таблица Вторая таблица      Первая таблица Вторая таблица   \n",
       "№ строки                                                                      \n",
       "4                   12026          11000                 NaN            NaN   \n",
       "6                     NaN            NaN                1449          523.5   \n",
       "22                    NaN            NaN                 NaN            NaN   \n",
       "\n",
       "            Unnamed: 41                 \n",
       "         Первая таблица Вторая таблица  \n",
       "№ строки                                \n",
       "4                   NaN            NaN  \n",
       "6                   NaN            NaN  \n",
       "22                 2373            NaN  "
      ]
     },
     "execution_count": 94,
     "metadata": {},
     "output_type": "execute_result"
    }
   ],
   "source": [
    "df_cols"
   ]
  },
  {
   "cell_type": "code",
   "execution_count": 95,
   "id": "c2b73f75",
   "metadata": {},
   "outputs": [],
   "source": [
    "#df_cols['new'] = df_cols.apply(lambda x:abs_diff(x['Амурская область']['Первая таблица'],x['Амурская область']['Вторая таблица']),axis=1)"
   ]
  },
  {
   "cell_type": "code",
   "execution_count": 96,
   "id": "8ef55a39",
   "metadata": {},
   "outputs": [],
   "source": [
    "df_cols['new'] = df_cols.apply(lambda x:abs_diff(x['Воронежская область']['Первая таблица'],x['Воронежская область']['Вторая таблица']),axis=1)"
   ]
  },
  {
   "cell_type": "code",
   "execution_count": 97,
   "id": "5b7f0fcd",
   "metadata": {},
   "outputs": [
    {
     "data": {
      "text/html": [
       "<div>\n",
       "<style scoped>\n",
       "    .dataframe tbody tr th:only-of-type {\n",
       "        vertical-align: middle;\n",
       "    }\n",
       "\n",
       "    .dataframe tbody tr th {\n",
       "        vertical-align: top;\n",
       "    }\n",
       "\n",
       "    .dataframe thead tr th {\n",
       "        text-align: left;\n",
       "    }\n",
       "\n",
       "    .dataframe thead tr:last-of-type th {\n",
       "        text-align: right;\n",
       "    }\n",
       "</style>\n",
       "<table border=\"1\" class=\"dataframe\">\n",
       "  <thead>\n",
       "    <tr>\n",
       "      <th></th>\n",
       "      <th colspan=\"2\" halign=\"left\">Амурская область</th>\n",
       "      <th colspan=\"2\" halign=\"left\">Воронежская область</th>\n",
       "      <th colspan=\"2\" halign=\"left\">Unnamed: 41</th>\n",
       "      <th>new</th>\n",
       "    </tr>\n",
       "    <tr>\n",
       "      <th></th>\n",
       "      <th>Первая таблица</th>\n",
       "      <th>Вторая таблица</th>\n",
       "      <th>Первая таблица</th>\n",
       "      <th>Вторая таблица</th>\n",
       "      <th>Первая таблица</th>\n",
       "      <th>Вторая таблица</th>\n",
       "      <th></th>\n",
       "    </tr>\n",
       "    <tr>\n",
       "      <th>№ строки</th>\n",
       "      <th></th>\n",
       "      <th></th>\n",
       "      <th></th>\n",
       "      <th></th>\n",
       "      <th></th>\n",
       "      <th></th>\n",
       "      <th></th>\n",
       "    </tr>\n",
       "  </thead>\n",
       "  <tbody>\n",
       "    <tr>\n",
       "      <th>4</th>\n",
       "      <td>12026</td>\n",
       "      <td>11000</td>\n",
       "      <td>NaN</td>\n",
       "      <td>NaN</td>\n",
       "      <td>NaN</td>\n",
       "      <td>NaN</td>\n",
       "      <td>NaN</td>\n",
       "    </tr>\n",
       "    <tr>\n",
       "      <th>6</th>\n",
       "      <td>NaN</td>\n",
       "      <td>NaN</td>\n",
       "      <td>1449</td>\n",
       "      <td>523.5</td>\n",
       "      <td>NaN</td>\n",
       "      <td>NaN</td>\n",
       "      <td>925.5</td>\n",
       "    </tr>\n",
       "    <tr>\n",
       "      <th>22</th>\n",
       "      <td>NaN</td>\n",
       "      <td>NaN</td>\n",
       "      <td>NaN</td>\n",
       "      <td>NaN</td>\n",
       "      <td>2373</td>\n",
       "      <td>NaN</td>\n",
       "      <td>NaN</td>\n",
       "    </tr>\n",
       "  </tbody>\n",
       "</table>\n",
       "</div>"
      ],
      "text/plain": [
       "         Амурская область                Воронежская область                 \\\n",
       "           Первая таблица Вторая таблица      Первая таблица Вторая таблица   \n",
       "№ строки                                                                      \n",
       "4                   12026          11000                 NaN            NaN   \n",
       "6                     NaN            NaN                1449          523.5   \n",
       "22                    NaN            NaN                 NaN            NaN   \n",
       "\n",
       "            Unnamed: 41                   new  \n",
       "         Первая таблица Вторая таблица         \n",
       "№ строки                                       \n",
       "4                   NaN            NaN    NaN  \n",
       "6                   NaN            NaN  925.5  \n",
       "22                 2373            NaN    NaN  "
      ]
     },
     "execution_count": 97,
     "metadata": {},
     "output_type": "execute_result"
    }
   ],
   "source": [
    "df_cols"
   ]
  },
  {
   "cell_type": "code",
   "execution_count": 98,
   "id": "8c25d578",
   "metadata": {},
   "outputs": [],
   "source": [
    "df_cols['second'] = df_cols.apply(lambda x:percent_diff(x['Воронежская область']['Первая таблица'],x['Воронежская область']['Вторая таблица']),axis=1)"
   ]
  },
  {
   "cell_type": "code",
   "execution_count": 99,
   "id": "fe096af9",
   "metadata": {},
   "outputs": [
    {
     "data": {
      "text/html": [
       "<div>\n",
       "<style scoped>\n",
       "    .dataframe tbody tr th:only-of-type {\n",
       "        vertical-align: middle;\n",
       "    }\n",
       "\n",
       "    .dataframe tbody tr th {\n",
       "        vertical-align: top;\n",
       "    }\n",
       "\n",
       "    .dataframe thead tr th {\n",
       "        text-align: left;\n",
       "    }\n",
       "\n",
       "    .dataframe thead tr:last-of-type th {\n",
       "        text-align: right;\n",
       "    }\n",
       "</style>\n",
       "<table border=\"1\" class=\"dataframe\">\n",
       "  <thead>\n",
       "    <tr>\n",
       "      <th></th>\n",
       "      <th colspan=\"2\" halign=\"left\">Амурская область</th>\n",
       "      <th colspan=\"2\" halign=\"left\">Воронежская область</th>\n",
       "      <th colspan=\"2\" halign=\"left\">Unnamed: 41</th>\n",
       "      <th>new</th>\n",
       "      <th>second</th>\n",
       "    </tr>\n",
       "    <tr>\n",
       "      <th></th>\n",
       "      <th>Первая таблица</th>\n",
       "      <th>Вторая таблица</th>\n",
       "      <th>Первая таблица</th>\n",
       "      <th>Вторая таблица</th>\n",
       "      <th>Первая таблица</th>\n",
       "      <th>Вторая таблица</th>\n",
       "      <th></th>\n",
       "      <th></th>\n",
       "    </tr>\n",
       "    <tr>\n",
       "      <th>№ строки</th>\n",
       "      <th></th>\n",
       "      <th></th>\n",
       "      <th></th>\n",
       "      <th></th>\n",
       "      <th></th>\n",
       "      <th></th>\n",
       "      <th></th>\n",
       "      <th></th>\n",
       "    </tr>\n",
       "  </thead>\n",
       "  <tbody>\n",
       "    <tr>\n",
       "      <th>4</th>\n",
       "      <td>12026</td>\n",
       "      <td>11000</td>\n",
       "      <td>NaN</td>\n",
       "      <td>NaN</td>\n",
       "      <td>NaN</td>\n",
       "      <td>NaN</td>\n",
       "      <td>NaN</td>\n",
       "      <td>NaN</td>\n",
       "    </tr>\n",
       "    <tr>\n",
       "      <th>6</th>\n",
       "      <td>NaN</td>\n",
       "      <td>NaN</td>\n",
       "      <td>1449</td>\n",
       "      <td>523.5</td>\n",
       "      <td>NaN</td>\n",
       "      <td>NaN</td>\n",
       "      <td>925.5</td>\n",
       "      <td>36.13</td>\n",
       "    </tr>\n",
       "    <tr>\n",
       "      <th>22</th>\n",
       "      <td>NaN</td>\n",
       "      <td>NaN</td>\n",
       "      <td>NaN</td>\n",
       "      <td>NaN</td>\n",
       "      <td>2373</td>\n",
       "      <td>NaN</td>\n",
       "      <td>NaN</td>\n",
       "      <td>NaN</td>\n",
       "    </tr>\n",
       "  </tbody>\n",
       "</table>\n",
       "</div>"
      ],
      "text/plain": [
       "         Амурская область                Воронежская область                 \\\n",
       "           Первая таблица Вторая таблица      Первая таблица Вторая таблица   \n",
       "№ строки                                                                      \n",
       "4                   12026          11000                 NaN            NaN   \n",
       "6                     NaN            NaN                1449          523.5   \n",
       "22                    NaN            NaN                 NaN            NaN   \n",
       "\n",
       "            Unnamed: 41                   new second  \n",
       "         Первая таблица Вторая таблица                \n",
       "№ строки                                              \n",
       "4                   NaN            NaN    NaN    NaN  \n",
       "6                   NaN            NaN  925.5  36.13  \n",
       "22                 2373            NaN    NaN    NaN  "
      ]
     },
     "execution_count": 99,
     "metadata": {},
     "output_type": "execute_result"
    }
   ],
   "source": [
    "df_cols"
   ]
  },
  {
   "cell_type": "code",
   "execution_count": 100,
   "id": "d7c8370c",
   "metadata": {},
   "outputs": [],
   "source": [
    "df_cols.to_excel('gdf.xlsx')"
   ]
  },
  {
   "cell_type": "code",
   "execution_count": null,
   "id": "e15e5494",
   "metadata": {},
   "outputs": [],
   "source": []
  },
  {
   "cell_type": "code",
   "execution_count": null,
   "id": "f41ca4e4",
   "metadata": {},
   "outputs": [],
   "source": []
  },
  {
   "cell_type": "code",
   "execution_count": null,
   "id": "09b2af2c",
   "metadata": {},
   "outputs": [],
   "source": []
  },
  {
   "cell_type": "code",
   "execution_count": null,
   "id": "cf64aece",
   "metadata": {},
   "outputs": [],
   "source": []
  },
  {
   "cell_type": "code",
   "execution_count": null,
   "id": "084b995c",
   "metadata": {},
   "outputs": [],
   "source": []
  }
 ],
 "metadata": {
  "kernelspec": {
   "display_name": "Python 3 (ipykernel)",
   "language": "python",
   "name": "python3"
  },
  "language_info": {
   "codemirror_mode": {
    "name": "ipython",
    "version": 3
   },
   "file_extension": ".py",
   "mimetype": "text/x-python",
   "name": "python",
   "nbconvert_exporter": "python",
   "pygments_lexer": "ipython3",
   "version": "3.9.13"
  }
 },
 "nbformat": 4,
 "nbformat_minor": 5
}
