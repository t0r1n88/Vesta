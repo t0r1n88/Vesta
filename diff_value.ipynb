{
 "cells": [
  {
   "cell_type": "code",
   "execution_count": 88,
   "id": "9f7afda6",
   "metadata": {},
   "outputs": [
    {
     "data": {
      "text/plain": [
       "'\\nскрипт для добавления колонок с абсолютной и относительной разницей\\n'"
      ]
     },
     "execution_count": 88,
     "metadata": {},
     "output_type": "execute_result"
    }
   ],
   "source": [
    "\"\"\"\n",
    "скрипт для добавления колонок с абсолютной и относительной разницей\n",
    "\"\"\"\n"
   ]
  },
  {
   "cell_type": "code",
   "execution_count": 89,
   "id": "f582a917",
   "metadata": {},
   "outputs": [],
   "source": [
    "import pandas as pd\n",
    "import numpy as np\n"
   ]
  },
  {
   "cell_type": "code",
   "execution_count": 90,
   "id": "ca2866a8",
   "metadata": {},
   "outputs": [],
   "source": [
    "def abs_diff(first_value,second_value):\n",
    "    \"\"\"\n",
    "    Функция для подсчета абсолютной разницы между 2 значениями\n",
    "    \"\"\"\n",
    "    try:\n",
    "        return float(first_value) - float(second_value)\n",
    "    except:\n",
    "        return None\n",
    "\n",
    "    "
   ]
  },
  {
   "cell_type": "code",
   "execution_count": 91,
   "id": "12e2f5a6",
   "metadata": {},
   "outputs": [],
   "source": [
    "def percent_diff(first_value,second_value):\n",
    "    \"\"\"\n",
    "    функция для подсчета относительной разницы значений\n",
    "    \"\"\"\n",
    "    try:\n",
    "        # округляем до трех\n",
    "        value = round(float(second_value) / float(first_value),4) * 100\n",
    "        return value\n",
    "    except:\n",
    "        return None\n",
    "        \n",
    "\n",
    "    "
   ]
  },
  {
   "cell_type": "code",
   "execution_count": 163,
   "id": "7be2278b",
   "metadata": {},
   "outputs": [],
   "source": [
    "def change_perc_diff(first_value,second_value):\n",
    "    \"\"\"\n",
    "    функция для подсчета процентного ихменения значений\n",
    "    \"\"\"\n",
    "    try:\n",
    "    # округляем до трех\n",
    "        #value = round(float(second_value) - float(first_value) / (first_value*100),4)\n",
    "#         first_part = (float(second_value) - float(first_value))\n",
    "#         second_part = round(float(first_value),4) * 100\n",
    "#         return first_part / second_part\n",
    "        value = (float(second_value) - float(first_value)) / float(first_value)\n",
    "        return round(value,4) * 100\n",
    "    except:\n",
    "        return None"
   ]
  },
  {
   "cell_type": "code",
   "execution_count": null,
   "id": "fc0b71f8",
   "metadata": {},
   "outputs": [],
   "source": []
  },
  {
   "cell_type": "code",
   "execution_count": null,
   "id": "756da359",
   "metadata": {},
   "outputs": [],
   "source": []
  },
  {
   "cell_type": "code",
   "execution_count": 101,
   "id": "979d3556",
   "metadata": {},
   "outputs": [],
   "source": [
    "df1 = pd.read_excel('data/Сложный вариант таблицы №1.xlsx',dtype=str)\n",
    "df2 = pd.read_excel('data/Сложный вариант таблицы №96.xlsx',dtype=str)"
   ]
  },
  {
   "cell_type": "code",
   "execution_count": 164,
   "id": "b84ac129",
   "metadata": {},
   "outputs": [],
   "source": [
    "df_cols = df1.compare(df2,result_names=('Первая таблица','Вторая таблица')) # датафрейм с разницей по колонкам\n",
    "df_cols.index = list(map(lambda x: x + 2, df_cols.index)) # добавляем к индексу +2 чтобы соответствовать нумерации в экселе\n",
    "df_cols.index.name = '№ строки' # переименовываем индекс\n",
    "\n",
    "df_rows = df1.compare(df2, align_axis=0, result_names=('Первая таблица', 'Вторая таблица')) # датафрейм с разницей по строкам\n",
    "lst_mul_ind = list(map(lambda x: (x[0] + 2, x[1]), df_rows.index)) # добавляем к индексу +2 чтобы соответствовать нумерации в экселе\n",
    "index = pd.MultiIndex.from_tuples(lst_mul_ind, names=['№ строки', 'Таблица']) # создаем мультиндекс\n",
    "df_rows.index = index"
   ]
  },
  {
   "cell_type": "code",
   "execution_count": 107,
   "id": "d7a60fc3",
   "metadata": {},
   "outputs": [
    {
     "data": {
      "text/plain": [
       "[None, None, None]"
      ]
     },
     "execution_count": 107,
     "metadata": {},
     "output_type": "execute_result"
    }
   ],
   "source": [
    "#получаем список колонок первого уровня\n",
    "temp_first_level_column = list(map(lambda x:x[0],df_cols.columns))\n",
    "first_level_column = []\n",
    "[first_level_column.append(value) for value in temp_first_level_column if value not in first_level_column]"
   ]
  },
  {
   "cell_type": "code",
   "execution_count": 108,
   "id": "4061eea1",
   "metadata": {},
   "outputs": [
    {
     "data": {
      "text/plain": [
       "['Амурская область', 'Воронежская область', 'Unnamed: 41']"
      ]
     },
     "execution_count": 108,
     "metadata": {},
     "output_type": "execute_result"
    }
   ],
   "source": [
    "first_level_column"
   ]
  },
  {
   "cell_type": "code",
   "execution_count": 165,
   "id": "57c8e144",
   "metadata": {},
   "outputs": [],
   "source": [
    "# Добавляем колонки с абсолютной и относительной разницей\n",
    "count_columns = 2\n",
    "for name_column in first_level_column:\n",
    "    # высчитываем абсолютную разницу\n",
    "    df_cols.insert(count_columns,(name_column,'Абсолютная разница'),\n",
    "                  df_cols.apply(lambda x:abs_diff(x[name_column]['Первая таблица'],x[name_column]['Вторая таблица']),axis=1))\n",
    "    \n",
    "    # высчитываем отношение второго значения от первого\n",
    "    df_cols.insert(count_columns+1,(name_column,'% второго от первого значения'),\n",
    "                  df_cols.apply(lambda x:percent_diff(x[name_column]['Первая таблица'],x[name_column]['Вторая таблица']),axis=1))\n",
    "    \n",
    "    # высчитываем процентное изменение \n",
    "    df_cols.insert(count_columns+2,(name_column,'Изменение в процентах'),\n",
    "                  df_cols.apply(lambda x:change_perc_diff(x[name_column]['Первая таблица'],x[name_column]['Вторая таблица']),axis=1))\n",
    "    \n",
    "    count_columns +=5"
   ]
  },
  {
   "cell_type": "code",
   "execution_count": 166,
   "id": "2bdd7627",
   "metadata": {},
   "outputs": [
    {
     "data": {
      "text/html": [
       "<div>\n",
       "<style scoped>\n",
       "    .dataframe tbody tr th:only-of-type {\n",
       "        vertical-align: middle;\n",
       "    }\n",
       "\n",
       "    .dataframe tbody tr th {\n",
       "        vertical-align: top;\n",
       "    }\n",
       "\n",
       "    .dataframe thead tr th {\n",
       "        text-align: left;\n",
       "    }\n",
       "\n",
       "    .dataframe thead tr:last-of-type th {\n",
       "        text-align: right;\n",
       "    }\n",
       "</style>\n",
       "<table border=\"1\" class=\"dataframe\">\n",
       "  <thead>\n",
       "    <tr>\n",
       "      <th></th>\n",
       "      <th colspan=\"5\" halign=\"left\">Амурская область</th>\n",
       "      <th colspan=\"5\" halign=\"left\">Воронежская область</th>\n",
       "      <th colspan=\"5\" halign=\"left\">Unnamed: 41</th>\n",
       "    </tr>\n",
       "    <tr>\n",
       "      <th></th>\n",
       "      <th>Первая таблица</th>\n",
       "      <th>Вторая таблица</th>\n",
       "      <th>Абсолютная разница</th>\n",
       "      <th>% второго от первого значения</th>\n",
       "      <th>Изменение в процентах</th>\n",
       "      <th>Первая таблица</th>\n",
       "      <th>Вторая таблица</th>\n",
       "      <th>Абсолютная разница</th>\n",
       "      <th>% второго от первого значения</th>\n",
       "      <th>Изменение в процентах</th>\n",
       "      <th>Первая таблица</th>\n",
       "      <th>Вторая таблица</th>\n",
       "      <th>Абсолютная разница</th>\n",
       "      <th>% второго от первого значения</th>\n",
       "      <th>Изменение в процентах</th>\n",
       "    </tr>\n",
       "    <tr>\n",
       "      <th>№ строки</th>\n",
       "      <th></th>\n",
       "      <th></th>\n",
       "      <th></th>\n",
       "      <th></th>\n",
       "      <th></th>\n",
       "      <th></th>\n",
       "      <th></th>\n",
       "      <th></th>\n",
       "      <th></th>\n",
       "      <th></th>\n",
       "      <th></th>\n",
       "      <th></th>\n",
       "      <th></th>\n",
       "      <th></th>\n",
       "      <th></th>\n",
       "    </tr>\n",
       "  </thead>\n",
       "  <tbody>\n",
       "    <tr>\n",
       "      <th>4</th>\n",
       "      <td>12026</td>\n",
       "      <td>11000</td>\n",
       "      <td>1026.0</td>\n",
       "      <td>91.47</td>\n",
       "      <td>-8.53</td>\n",
       "      <td>NaN</td>\n",
       "      <td>NaN</td>\n",
       "      <td>NaN</td>\n",
       "      <td>NaN</td>\n",
       "      <td>NaN</td>\n",
       "      <td>NaN</td>\n",
       "      <td>NaN</td>\n",
       "      <td>NaN</td>\n",
       "      <td>NaN</td>\n",
       "      <td>NaN</td>\n",
       "    </tr>\n",
       "    <tr>\n",
       "      <th>6</th>\n",
       "      <td>NaN</td>\n",
       "      <td>NaN</td>\n",
       "      <td>NaN</td>\n",
       "      <td>NaN</td>\n",
       "      <td>NaN</td>\n",
       "      <td>1449</td>\n",
       "      <td>523.5</td>\n",
       "      <td>925.5</td>\n",
       "      <td>36.13</td>\n",
       "      <td>-63.87</td>\n",
       "      <td>NaN</td>\n",
       "      <td>NaN</td>\n",
       "      <td>NaN</td>\n",
       "      <td>NaN</td>\n",
       "      <td>NaN</td>\n",
       "    </tr>\n",
       "    <tr>\n",
       "      <th>22</th>\n",
       "      <td>NaN</td>\n",
       "      <td>NaN</td>\n",
       "      <td>NaN</td>\n",
       "      <td>NaN</td>\n",
       "      <td>NaN</td>\n",
       "      <td>NaN</td>\n",
       "      <td>NaN</td>\n",
       "      <td>NaN</td>\n",
       "      <td>NaN</td>\n",
       "      <td>NaN</td>\n",
       "      <td>2373</td>\n",
       "      <td>NaN</td>\n",
       "      <td>NaN</td>\n",
       "      <td>NaN</td>\n",
       "      <td>NaN</td>\n",
       "    </tr>\n",
       "  </tbody>\n",
       "</table>\n",
       "</div>"
      ],
      "text/plain": [
       "         Амурская область                                    \\\n",
       "           Первая таблица Вторая таблица Абсолютная разница   \n",
       "№ строки                                                      \n",
       "4                   12026          11000             1026.0   \n",
       "6                     NaN            NaN                NaN   \n",
       "22                    NaN            NaN                NaN   \n",
       "\n",
       "                                                              \\\n",
       "         % второго от первого значения Изменение в процентах   \n",
       "№ строки                                                       \n",
       "4                                91.47                 -8.53   \n",
       "6                                  NaN                   NaN   \n",
       "22                                 NaN                   NaN   \n",
       "\n",
       "         Воронежская область                                    \\\n",
       "              Первая таблица Вторая таблица Абсолютная разница   \n",
       "№ строки                                                         \n",
       "4                        NaN            NaN                NaN   \n",
       "6                       1449          523.5              925.5   \n",
       "22                       NaN            NaN                NaN   \n",
       "\n",
       "                                                                Unnamed: 41  \\\n",
       "         % второго от первого значения Изменение в процентах Первая таблица   \n",
       "№ строки                                                                      \n",
       "4                                  NaN                   NaN            NaN   \n",
       "6                                36.13                -63.87            NaN   \n",
       "22                                 NaN                   NaN           2373   \n",
       "\n",
       "                                                                          \\\n",
       "         Вторая таблица Абсолютная разница % второго от первого значения   \n",
       "№ строки                                                                   \n",
       "4                   NaN                NaN                           NaN   \n",
       "6                   NaN                NaN                           NaN   \n",
       "22                  NaN                NaN                           NaN   \n",
       "\n",
       "                                \n",
       "         Изменение в процентах  \n",
       "№ строки                        \n",
       "4                          NaN  \n",
       "6                          NaN  \n",
       "22                         NaN  "
      ]
     },
     "execution_count": 166,
     "metadata": {},
     "output_type": "execute_result"
    }
   ],
   "source": [
    "df_cols"
   ]
  },
  {
   "cell_type": "raw",
   "id": "3200150e",
   "metadata": {},
   "source": [
    "df_cols['new'] = df_cols.apply(lambda x:abs_diff(x['Воронежская область']['Первая таблица'],x['Воронежская область']['Вторая таблица']),axis=1)"
   ]
  },
  {
   "cell_type": "raw",
   "id": "d8a55db0",
   "metadata": {},
   "source": [
    "df_cols['second'] = df_cols.apply(lambda x:percent_diff(x['Воронежская область']['Первая таблица'],x['Воронежская область']['Вторая таблица']),axis=1)"
   ]
  },
  {
   "cell_type": "code",
   "execution_count": 99,
   "id": "7f545ebe",
   "metadata": {},
   "outputs": [
    {
     "data": {
      "text/html": [
       "<div>\n",
       "<style scoped>\n",
       "    .dataframe tbody tr th:only-of-type {\n",
       "        vertical-align: middle;\n",
       "    }\n",
       "\n",
       "    .dataframe tbody tr th {\n",
       "        vertical-align: top;\n",
       "    }\n",
       "\n",
       "    .dataframe thead tr th {\n",
       "        text-align: left;\n",
       "    }\n",
       "\n",
       "    .dataframe thead tr:last-of-type th {\n",
       "        text-align: right;\n",
       "    }\n",
       "</style>\n",
       "<table border=\"1\" class=\"dataframe\">\n",
       "  <thead>\n",
       "    <tr>\n",
       "      <th></th>\n",
       "      <th colspan=\"2\" halign=\"left\">Амурская область</th>\n",
       "      <th colspan=\"2\" halign=\"left\">Воронежская область</th>\n",
       "      <th colspan=\"2\" halign=\"left\">Unnamed: 41</th>\n",
       "      <th>new</th>\n",
       "      <th>second</th>\n",
       "    </tr>\n",
       "    <tr>\n",
       "      <th></th>\n",
       "      <th>Первая таблица</th>\n",
       "      <th>Вторая таблица</th>\n",
       "      <th>Первая таблица</th>\n",
       "      <th>Вторая таблица</th>\n",
       "      <th>Первая таблица</th>\n",
       "      <th>Вторая таблица</th>\n",
       "      <th></th>\n",
       "      <th></th>\n",
       "    </tr>\n",
       "    <tr>\n",
       "      <th>№ строки</th>\n",
       "      <th></th>\n",
       "      <th></th>\n",
       "      <th></th>\n",
       "      <th></th>\n",
       "      <th></th>\n",
       "      <th></th>\n",
       "      <th></th>\n",
       "      <th></th>\n",
       "    </tr>\n",
       "  </thead>\n",
       "  <tbody>\n",
       "    <tr>\n",
       "      <th>4</th>\n",
       "      <td>12026</td>\n",
       "      <td>11000</td>\n",
       "      <td>NaN</td>\n",
       "      <td>NaN</td>\n",
       "      <td>NaN</td>\n",
       "      <td>NaN</td>\n",
       "      <td>NaN</td>\n",
       "      <td>NaN</td>\n",
       "    </tr>\n",
       "    <tr>\n",
       "      <th>6</th>\n",
       "      <td>NaN</td>\n",
       "      <td>NaN</td>\n",
       "      <td>1449</td>\n",
       "      <td>523.5</td>\n",
       "      <td>NaN</td>\n",
       "      <td>NaN</td>\n",
       "      <td>925.5</td>\n",
       "      <td>36.13</td>\n",
       "    </tr>\n",
       "    <tr>\n",
       "      <th>22</th>\n",
       "      <td>NaN</td>\n",
       "      <td>NaN</td>\n",
       "      <td>NaN</td>\n",
       "      <td>NaN</td>\n",
       "      <td>2373</td>\n",
       "      <td>NaN</td>\n",
       "      <td>NaN</td>\n",
       "      <td>NaN</td>\n",
       "    </tr>\n",
       "  </tbody>\n",
       "</table>\n",
       "</div>"
      ],
      "text/plain": [
       "         Амурская область                Воронежская область                 \\\n",
       "           Первая таблица Вторая таблица      Первая таблица Вторая таблица   \n",
       "№ строки                                                                      \n",
       "4                   12026          11000                 NaN            NaN   \n",
       "6                     NaN            NaN                1449          523.5   \n",
       "22                    NaN            NaN                 NaN            NaN   \n",
       "\n",
       "            Unnamed: 41                   new second  \n",
       "         Первая таблица Вторая таблица                \n",
       "№ строки                                              \n",
       "4                   NaN            NaN    NaN    NaN  \n",
       "6                   NaN            NaN  925.5  36.13  \n",
       "22                 2373            NaN    NaN    NaN  "
      ]
     },
     "execution_count": 99,
     "metadata": {},
     "output_type": "execute_result"
    }
   ],
   "source": [
    "df_cols"
   ]
  },
  {
   "cell_type": "code",
   "execution_count": null,
   "id": "f07aa384",
   "metadata": {},
   "outputs": [],
   "source": []
  },
  {
   "cell_type": "code",
   "execution_count": null,
   "id": "6f28ca75",
   "metadata": {},
   "outputs": [],
   "source": []
  },
  {
   "cell_type": "code",
   "execution_count": null,
   "id": "35a639d3",
   "metadata": {},
   "outputs": [],
   "source": []
  },
  {
   "cell_type": "code",
   "execution_count": null,
   "id": "d373eeaf",
   "metadata": {},
   "outputs": [],
   "source": []
  },
  {
   "cell_type": "code",
   "execution_count": null,
   "id": "57677c22",
   "metadata": {},
   "outputs": [],
   "source": []
  }
 ],
 "metadata": {
  "kernelspec": {
   "display_name": "Python 3 (ipykernel)",
   "language": "python",
   "name": "python3"
  },
  "language_info": {
   "codemirror_mode": {
    "name": "ipython",
    "version": 3
   },
   "file_extension": ".py",
   "mimetype": "text/x-python",
   "name": "python",
   "nbconvert_exporter": "python",
   "pygments_lexer": "ipython3",
   "version": "3.9.13"
  }
 },
 "nbformat": 4,
 "nbformat_minor": 5
}
