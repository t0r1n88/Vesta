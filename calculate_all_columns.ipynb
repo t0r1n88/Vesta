{
 "cells": [
  {
   "cell_type": "code",
   "execution_count": 122,
   "id": "ce9f0b64",
   "metadata": {},
   "outputs": [
    {
     "data": {
      "text/plain": [
       "'\\nПодсчет базовых статистик для каждой из колонок с сохранением результатов в отдельные листы\\n'"
      ]
     },
     "execution_count": 122,
     "metadata": {},
     "output_type": "execute_result"
    }
   ],
   "source": [
    "\"\"\"\n",
    "Подсчет базовых статистик для каждой из колонок с сохранением результатов в отдельные листы\n",
    "\"\"\""
   ]
  },
  {
   "cell_type": "code",
   "execution_count": 123,
   "id": "83982837",
   "metadata": {},
   "outputs": [],
   "source": [
    "import pandas as pd\n",
    "import openpyxl\n",
    "from openpyxl.utils.dataframe import dataframe_to_rows\n",
    "from openpyxl.styles import Font\n",
    "from openpyxl.styles import Alignment\n",
    "import time"
   ]
  },
  {
   "cell_type": "code",
   "execution_count": 124,
   "id": "a3dbb76c",
   "metadata": {},
   "outputs": [],
   "source": [
    "name_file_data_groupby = 'data/Эксперты ВСР.xlsx'\n",
    "path_to_end_folder_groupby = 'data'"
   ]
  },
  {
   "cell_type": "code",
   "execution_count": 125,
   "id": "e4a0ce7f",
   "metadata": {},
   "outputs": [],
   "source": [
    "df = pd.read_excel(name_file_data_groupby)"
   ]
  },
  {
   "cell_type": "code",
   "execution_count": 126,
   "id": "c611d186",
   "metadata": {},
   "outputs": [
    {
     "name": "stdout",
     "output_type": "stream",
     "text": [
      "Колонки в таблице Index(['ФИО', '5', 'Организация, город   Отметка о пролонгации свидетельства',\n",
      "       'Регион', '№ свидетельства', 'Компетенция', 'Дата выдачи',\n",
      "       'Срок действия (лет)', 'Телефон', 'Имейл'],\n",
      "      dtype='object')\n"
     ]
    }
   ],
   "source": [
    "print(f'Колонки в таблице {df.columns}')\n",
    "# Добавляем столбец для облегчения подсчета по категориям\n",
    "df['Итого'] = 1\n",
    "# Создаем шрифт которым будем выделять названия таблиц\n",
    "font_name_table = Font(name='Arial Black', size=15, italic=True)\n",
    "# Создаем файл excel\n",
    "wb = openpyxl.Workbook()"
   ]
  },
  {
   "cell_type": "code",
   "execution_count": 127,
   "id": "111e194d",
   "metadata": {},
   "outputs": [],
   "source": [
    "# Делаем названия колонок строковыми\n",
    "df.columns = list(map(str,list(df.columns)))"
   ]
  },
  {
   "cell_type": "code",
   "execution_count": 128,
   "id": "22bda8e7",
   "metadata": {},
   "outputs": [],
   "source": [
    "# Создаем листы\n",
    "for idx,name_column in enumerate(df.columns):\n",
    "    # Делаем короткое название не более 15 символов\n",
    "    wb.create_sheet(title=name_column[:15],index=idx)"
   ]
  },
  {
   "cell_type": "code",
   "execution_count": 129,
   "id": "c446026b",
   "metadata": {},
   "outputs": [],
   "source": [
    "for idx,name_column in enumerate(df.columns):\n",
    "    group_df = df[name_column].describe().to_frame()\n",
    "    if group_df.shape[0] == 8:\n",
    "        # подсчитаем сумму\n",
    "        all_sum = df[name_column].sum()\n",
    "        dct_row = {name_column: all_sum}\n",
    "        row = pd.DataFrame(data=dct_row, index=['Сумма'])\n",
    "        # Добавим в датафрейм\n",
    "        group_df = pd.concat([group_df, row], axis=0)\n",
    "\n",
    "        # Обновим названия индексов\n",
    "        group_df.index = ['Количество значений', 'Среднее', 'Стандартное отклонение', 'Минимальное значение',\n",
    "                          '25%(Первый квартиль)', 'Медиана', '75%(Третий квартиль)', 'Максимальное значение',\n",
    "                          'Сумма']\n",
    "\n",
    "    elif group_df.shape[0] == 4:\n",
    "        group_df.index = ['Количество значений', 'Количество уникальных значений', 'Самое частое значение',\n",
    "                          'Количество повторений самого частого значения', ]\n",
    "    for r in dataframe_to_rows(group_df, index=True, header=True):\n",
    "        if len(r) != 1:\n",
    "            wb[name_column[:15]].append(r)\n",
    "    wb[name_column[:15]].column_dimensions['A'].width = 50\n",
    "    \n",
    "    \n"
   ]
  },
  {
   "cell_type": "code",
   "execution_count": 130,
   "id": "33d643f6",
   "metadata": {},
   "outputs": [],
   "source": [
    "# генерируем текущее время\n",
    "t = time.localtime()\n",
    "current_time = time.strftime('%H_%M_%S', t)\n",
    "# Удаляем лист \n",
    "del wb['Sheet']\n",
    "# Сохраняем итоговый файл\n",
    "wb.save(f'{path_to_end_folder_groupby}/Подсчет базовых статистик колонок таблицы от {current_time}.xlsx')"
   ]
  },
  {
   "cell_type": "code",
   "execution_count": null,
   "id": "aaa46359",
   "metadata": {},
   "outputs": [],
   "source": []
  },
  {
   "cell_type": "code",
   "execution_count": null,
   "id": "9d6c6660",
   "metadata": {},
   "outputs": [],
   "source": []
  },
  {
   "cell_type": "code",
   "execution_count": null,
   "id": "0827d4be",
   "metadata": {},
   "outputs": [],
   "source": []
  }
 ],
 "metadata": {
  "kernelspec": {
   "display_name": "Python 3 (ipykernel)",
   "language": "python",
   "name": "python3"
  },
  "language_info": {
   "codemirror_mode": {
    "name": "ipython",
    "version": 3
   },
   "file_extension": ".py",
   "mimetype": "text/x-python",
   "name": "python",
   "nbconvert_exporter": "python",
   "pygments_lexer": "ipython3",
   "version": "3.9.13"
  }
 },
 "nbformat": 4,
 "nbformat_minor": 5
}
