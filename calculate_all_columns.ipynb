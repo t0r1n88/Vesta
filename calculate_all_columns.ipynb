{
 "cells": [
  {
   "cell_type": "code",
   "execution_count": 276,
   "id": "7dc2c136",
   "metadata": {},
   "outputs": [
    {
     "data": {
      "text/plain": [
       "'\\nПодсчет базовых статистик для каждой из колонок с сохранением результатов в отдельные листы\\n'"
      ]
     },
     "execution_count": 276,
     "metadata": {},
     "output_type": "execute_result"
    }
   ],
   "source": [
    "\"\"\"\n",
    "Подсчет базовых статистик для каждой из колонок с сохранением результатов в отдельные листы\n",
    "\"\"\""
   ]
  },
  {
   "cell_type": "code",
   "execution_count": 277,
   "id": "988286c6",
   "metadata": {},
   "outputs": [],
   "source": [
    "import pandas as pd\n",
    "import openpyxl\n",
    "from openpyxl.utils.dataframe import dataframe_to_rows\n",
    "from openpyxl.styles import Font\n",
    "from openpyxl.styles import Alignment\n",
    "import time\n",
    "from iteration_utilities import duplicates"
   ]
  },
  {
   "cell_type": "code",
   "execution_count": 278,
   "id": "0ce76505",
   "metadata": {},
   "outputs": [],
   "source": [
    "name_file_data_groupby = 'data/Эксперты ВСР.xlsx'\n",
    "path_to_end_folder_groupby = 'data'"
   ]
  },
  {
   "cell_type": "code",
   "execution_count": 279,
   "id": "807d9223",
   "metadata": {},
   "outputs": [],
   "source": [
    "df = pd.read_excel(name_file_data_groupby)"
   ]
  },
  {
   "cell_type": "code",
   "execution_count": 280,
   "id": "fc78bfae",
   "metadata": {},
   "outputs": [
    {
     "name": "stdout",
     "output_type": "stream",
     "text": [
      "Колонки в таблице Index(['ФИО', 'Пробелы',\n",
      "       'Организация, город   Отметка о пролонгации свидетельства', 'Регион',\n",
      "       '№ свидетельства', 'Компетенция', 'Дата выдачи', 'Срок действия (лет)',\n",
      "       'Телефон', 'Имейл'],\n",
      "      dtype='object')\n"
     ]
    }
   ],
   "source": [
    "print(f'Колонки в таблице {df.columns}')\n",
    "\n",
    "# Создаем шрифт которым будем выделять названия таблиц\n",
    "font_name_table = Font(name='Arial Black', size=15, italic=True)\n",
    "# Создаем файл excel\n",
    "wb = openpyxl.Workbook()"
   ]
  },
  {
   "cell_type": "code",
   "execution_count": 281,
   "id": "217b01b1",
   "metadata": {},
   "outputs": [],
   "source": [
    "# Проверяем наличие возможных дубликатов ,котороые могут получиться если обрезать по 30 символов\n",
    "lst_length_column = [column[:30] for column in df.columns]\n",
    "check_dupl_length = list(duplicates(lst_length_column))"
   ]
  },
  {
   "cell_type": "code",
   "execution_count": null,
   "id": "b072580b",
   "metadata": {},
   "outputs": [],
   "source": []
  },
  {
   "cell_type": "code",
   "execution_count": 282,
   "id": "304ce462",
   "metadata": {},
   "outputs": [],
   "source": [
    "# проверяем наличие объединенных ячеек\n",
    "check_merge = [ column for column in df.columns if 'Unnamed' in column]\n",
    "# если есть хоть один Unnamed или дубликат то просто заменяем названия колонок на Колонка №цифра\n",
    "if check_merge or check_dupl_length:\n",
    "    df.columns = [f'Колонка №{i}' for i in range(1,df.shape[1]+1)]"
   ]
  },
  {
   "cell_type": "code",
   "execution_count": 283,
   "id": "ebfed1c1",
   "metadata": {},
   "outputs": [
    {
     "data": {
      "text/plain": [
       "Index(['ФИО', 'Пробелы',\n",
       "       'Организация, город   Отметка о пролонгации свидетельства', 'Регион',\n",
       "       '№ свидетельства', 'Компетенция', 'Дата выдачи', 'Срок действия (лет)',\n",
       "       'Телефон', 'Имейл'],\n",
       "      dtype='object')"
      ]
     },
     "execution_count": 283,
     "metadata": {},
     "output_type": "execute_result"
    }
   ],
   "source": [
    "df.columns"
   ]
  },
  {
   "cell_type": "code",
   "execution_count": null,
   "id": "cb5ff53d",
   "metadata": {},
   "outputs": [],
   "source": []
  },
  {
   "cell_type": "code",
   "execution_count": 284,
   "id": "005992f5",
   "metadata": {},
   "outputs": [],
   "source": [
    "# Делаем названия колонок строковыми\n",
    "df.columns = list(map(str,list(df.columns)))"
   ]
  },
  {
   "cell_type": "code",
   "execution_count": 285,
   "id": "781cc74f",
   "metadata": {},
   "outputs": [],
   "source": [
    "# Добавляем столбец для облегчения подсчета по категориям\n",
    "df['Итого'] = 1"
   ]
  },
  {
   "cell_type": "code",
   "execution_count": 286,
   "id": "2c3b24ba",
   "metadata": {},
   "outputs": [],
   "source": [
    "# Создаем листы\n",
    "for idx,name_column in enumerate(df.columns):\n",
    "    # Делаем короткое название не более 30 символов\n",
    "    wb.create_sheet(title=name_column[:30],index=idx)"
   ]
  },
  {
   "cell_type": "code",
   "execution_count": 287,
   "id": "361cc5fd",
   "metadata": {},
   "outputs": [],
   "source": [
    "for idx,name_column in enumerate(df.columns):\n",
    "    group_df = df[name_column].describe().to_frame()\n",
    "    if group_df.shape[0] == 8:\n",
    "        # подсчитаем сумму\n",
    "        all_sum = df[name_column].sum()\n",
    "        dct_row = {name_column: all_sum}\n",
    "        row = pd.DataFrame(data=dct_row, index=['Сумма'])\n",
    "        # Добавим в датафрейм\n",
    "        group_df = pd.concat([group_df, row], axis=0)\n",
    "\n",
    "        # Обновим названия индексов\n",
    "        group_df.index = ['Количество значений', 'Среднее', 'Стандартное отклонение', 'Минимальное значение',\n",
    "                          '25%(Первый квартиль)', 'Медиана', '75%(Третий квартиль)', 'Максимальное значение',\n",
    "                          'Сумма']\n",
    "\n",
    "    elif group_df.shape[0] == 4:\n",
    "        group_df.index = ['Количество значений', 'Количество уникальных значений', 'Самое частое значение',\n",
    "                          'Количество повторений самого частого значения', ]\n",
    "    for r in dataframe_to_rows(group_df, index=True, header=True):\n",
    "        if len(r) != 1:\n",
    "            wb[name_column[:30]].append(r)\n",
    "    wb[name_column[:30]].column_dimensions['A'].width = 50\n",
    "    \n",
    "    \n"
   ]
  },
  {
   "cell_type": "code",
   "execution_count": 288,
   "id": "8b91077f",
   "metadata": {},
   "outputs": [],
   "source": [
    "# генерируем текущее время\n",
    "t = time.localtime()\n",
    "current_time = time.strftime('%H_%M_%S', t)\n",
    "# Удаляем лист \n",
    "del wb['Sheet']\n",
    "del wb['Итого']\n",
    "# Сохраняем итоговый файл\n",
    "wb.save(f'{path_to_end_folder_groupby}/Подсчет базовых статистик для всех колонок таблицы от {current_time}.xlsx')"
   ]
  },
  {
   "cell_type": "code",
   "execution_count": null,
   "id": "11f8f6db",
   "metadata": {},
   "outputs": [],
   "source": []
  },
  {
   "cell_type": "code",
   "execution_count": null,
   "id": "7f2a65c2",
   "metadata": {},
   "outputs": [],
   "source": []
  },
  {
   "cell_type": "code",
   "execution_count": null,
   "id": "98ce4a84",
   "metadata": {},
   "outputs": [],
   "source": []
  }
 ],
 "metadata": {
  "kernelspec": {
   "display_name": "Python 3 (ipykernel)",
   "language": "python",
   "name": "python3"
  },
  "language_info": {
   "codemirror_mode": {
    "name": "ipython",
    "version": 3
   },
   "file_extension": ".py",
   "mimetype": "text/x-python",
   "name": "python",
   "nbconvert_exporter": "python",
   "pygments_lexer": "ipython3",
   "version": "3.9.13"
  }
 },
 "nbformat": 4,
 "nbformat_minor": 5
}
