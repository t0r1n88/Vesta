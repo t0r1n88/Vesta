{
 "cells": [
  {
   "cell_type": "code",
   "execution_count": 112,
   "id": "9090d006",
   "metadata": {},
   "outputs": [
    {
     "data": {
      "text/plain": [
       "'\\nСоздание частотных таблиц или подсчет базовых статистик для каждой из колонок с сохранением в отдельные листы для каждой из колонок\\n'"
      ]
     },
     "execution_count": 112,
     "metadata": {},
     "output_type": "execute_result"
    }
   ],
   "source": [
    "\"\"\"\n",
    "Создание частотных таблиц или подсчет базовых статистик для каждой из колонок с сохранением в отдельные листы для каждой из колонок\n",
    "\"\"\""
   ]
  },
  {
   "cell_type": "code",
   "execution_count": 113,
   "id": "6c22f72f",
   "metadata": {},
   "outputs": [],
   "source": [
    "import pandas as pd\n",
    "import openpyxl\n",
    "from openpyxl.utils.dataframe import dataframe_to_rows\n",
    "from openpyxl.styles import Font\n",
    "from openpyxl.styles import Alignment\n",
    "import time"
   ]
  },
  {
   "cell_type": "code",
   "execution_count": 114,
   "id": "7daed57f",
   "metadata": {},
   "outputs": [],
   "source": [
    "name_file_data_groupby = 'data/Эксперты ВСР.xlsx'\n",
    "path_to_end_folder_groupby = 'data'"
   ]
  },
  {
   "cell_type": "code",
   "execution_count": 115,
   "id": "ac62292a",
   "metadata": {},
   "outputs": [],
   "source": [
    "df = pd.read_excel(name_file_data_groupby)"
   ]
  },
  {
   "cell_type": "code",
   "execution_count": 116,
   "id": "53279acd",
   "metadata": {},
   "outputs": [
    {
     "data": {
      "text/plain": [
       "ФИО                                                          object\n",
       "5                                                           float64\n",
       "Организация, город   Отметка о пролонгации свидетельства     object\n",
       "Регион                                                       object\n",
       "№ свидетельства                                             float64\n",
       "Компетенция                                                  object\n",
       "Дата выдачи                                                  object\n",
       "Срок действия (лет)                                         float64\n",
       "Телефон                                                      object\n",
       "Имейл                                                        object\n",
       "dtype: object"
      ]
     },
     "execution_count": 116,
     "metadata": {},
     "output_type": "execute_result"
    }
   ],
   "source": [
    "df.dtypes"
   ]
  },
  {
   "cell_type": "code",
   "execution_count": 117,
   "id": "25abd694",
   "metadata": {},
   "outputs": [
    {
     "name": "stdout",
     "output_type": "stream",
     "text": [
      "Колонки в таблице Index(['ФИО', '5', 'Организация, город   Отметка о пролонгации свидетельства',\n",
      "       'Регион', '№ свидетельства', 'Компетенция', 'Дата выдачи',\n",
      "       'Срок действия (лет)', 'Телефон', 'Имейл'],\n",
      "      dtype='object')\n"
     ]
    }
   ],
   "source": [
    "print(f'Колонки в таблице {df.columns}')\n",
    "# Добавляем столбец для облегчения подсчета по категориям\n",
    "df['Итого'] = 1\n",
    "# Создаем шрифт которым будем выделять названия таблиц\n",
    "font_name_table = Font(name='Arial Black', size=15, italic=True)\n",
    "# Создаем файл excel\n",
    "wb = openpyxl.Workbook()"
   ]
  },
  {
   "cell_type": "code",
   "execution_count": 118,
   "id": "ca65fe7e",
   "metadata": {},
   "outputs": [],
   "source": [
    "# Делаем названия колонок строковыми\n",
    "df.columns = list(map(str,list(df.columns)))"
   ]
  },
  {
   "cell_type": "code",
   "execution_count": 119,
   "id": "6c6928bf",
   "metadata": {},
   "outputs": [],
   "source": [
    "# Создаем листы\n",
    "for idx,name_column in enumerate(df.columns):\n",
    "    # Делаем короткое название не более 15 символов\n",
    "    wb.create_sheet(title=name_column[:15],index=idx)"
   ]
  },
  {
   "cell_type": "code",
   "execution_count": 120,
   "id": "35a7e230",
   "metadata": {},
   "outputs": [],
   "source": [
    "for idx,name_column in enumerate(df.columns):\n",
    "    group_df = df[name_column].describe().to_frame()\n",
    "    if group_df.shape[0] == 8:\n",
    "        # подсчитаем сумму\n",
    "        all_sum = df[name_column].sum()\n",
    "        dct_row = {name_column: all_sum}\n",
    "        row = pd.DataFrame(data=dct_row, index=['Сумма'])\n",
    "        # Добавим в датафрейм\n",
    "        group_df = pd.concat([group_df, row], axis=0)\n",
    "\n",
    "        # Обновим названия индексов\n",
    "        group_df.index = ['Количество значений', 'Среднее', 'Стандартное отклонение', 'Минимальное значение',\n",
    "                          '25%(Первый квартиль)', 'Медиана', '75%(Третий квартиль)', 'Максимальное значение',\n",
    "                          'Сумма']\n",
    "\n",
    "    elif group_df.shape[0] == 4:\n",
    "        group_df.index = ['Количество значений', 'Количество уникальных значений', 'Самое частое значение',\n",
    "                          'Количество повторений самого частого значения', ]\n",
    "    for r in dataframe_to_rows(group_df, index=True, header=True):\n",
    "        if len(r) != 1:\n",
    "            wb[name_column[:15]].append(r)\n",
    "    wb[name_column[:15]].column_dimensions['A'].width = 50\n",
    "    \n",
    "    \n"
   ]
  },
  {
   "cell_type": "code",
   "execution_count": 121,
   "id": "ae4012ac",
   "metadata": {},
   "outputs": [],
   "source": [
    "# генерируем текущее время\n",
    "t = time.localtime()\n",
    "current_time = time.strftime('%H_%M_%S', t)\n",
    "# Удаляем лист \n",
    "del wb['Sheet']\n",
    "# Сохраняем итоговый файл\n",
    "wb.save(f'{path_to_end_folder_groupby}/Подсчет базовых статистик колонок таблицы от {current_time}.xlsx')"
   ]
  },
  {
   "cell_type": "code",
   "execution_count": null,
   "id": "49eb709e",
   "metadata": {},
   "outputs": [],
   "source": []
  },
  {
   "cell_type": "code",
   "execution_count": null,
   "id": "3155557d",
   "metadata": {},
   "outputs": [],
   "source": []
  },
  {
   "cell_type": "code",
   "execution_count": null,
   "id": "222bd7b7",
   "metadata": {},
   "outputs": [],
   "source": []
  }
 ],
 "metadata": {
  "kernelspec": {
   "display_name": "Python 3 (ipykernel)",
   "language": "python",
   "name": "python3"
  },
  "language_info": {
   "codemirror_mode": {
    "name": "ipython",
    "version": 3
   },
   "file_extension": ".py",
   "mimetype": "text/x-python",
   "name": "python",
   "nbconvert_exporter": "python",
   "pygments_lexer": "ipython3",
   "version": "3.9.13"
  }
 },
 "nbformat": 4,
 "nbformat_minor": 5
}
