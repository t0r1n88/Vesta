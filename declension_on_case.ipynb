{
 "cells": [
  {
   "cell_type": "code",
   "execution_count": 277,
   "id": "f0519e09",
   "metadata": {},
   "outputs": [
    {
     "data": {
      "text/plain": [
       "'\\nСкрипт для склонения ФИО по падежам\\n'"
      ]
     },
     "execution_count": 277,
     "metadata": {},
     "output_type": "execute_result"
    }
   ],
   "source": [
    "\"\"\"\n",
    "Скрипт для склонения ФИО по падежам\n",
    "\"\"\""
   ]
  },
  {
   "cell_type": "code",
   "execution_count": 278,
   "id": "7301bea4",
   "metadata": {},
   "outputs": [],
   "source": [
    "import pandas as pd\n",
    "import pytrovich\n",
    "from pytrovich.detector import PetrovichGenderDetector\n",
    "from pytrovich.enums import NamePart, Gender, Case\n",
    "from pytrovich.maker import PetrovichDeclinationMaker\n",
    "import time\n",
    "\n"
   ]
  },
  {
   "cell_type": "code",
   "execution_count": 279,
   "id": "5770b17b",
   "metadata": {},
   "outputs": [],
   "source": [
    "def capitalize_double_name(word):\n",
    "    \"\"\"\n",
    "    Функция для того чтобы в двойных именах и фамилиях вторая часть была также с большой буквы\n",
    "    \"\"\"\n",
    "    lst_word = word.split('-')\n",
    "    if len(lst_word) == 1:\n",
    "        return word\n",
    "    else:\n",
    "        first_word = lst_word[0].capitalize()\n",
    "        second_word = lst_word[1].capitalize()\n",
    "        return f'{first_word}-{second_word}'\n",
    "        \n",
    "        \n",
    "    \n",
    "\n",
    "\n",
    "def detect_gender(lastname,firstname,middlename):\n",
    "    \"\"\"\n",
    "    Функция для определения гендера слова\n",
    "    \"\"\"\n",
    "    detector = PetrovichGenderDetector() # создаем объект детектора\n",
    "    try:\n",
    "        gender_result = detector.detect(lastname=lastname,firstname=firstname,middlename=middlename)\n",
    "        return gender_result\n",
    "    except StopIteration:# если не удалось определить то считаем что гендер андрогинный\n",
    "        return Gender.ANDROGYNOUS\n",
    "       \n",
    "    \n",
    "\n",
    "def decl_on_case(fio:str,case:Case) ->str:\n",
    "    \"\"\"\n",
    "    Функция для склонения ФИО по падежам\n",
    "    \"\"\"\n",
    "    fio = fio.strip() # очищаем строку от пробельных символов с начала и конца\n",
    "    part_fio = fio.split() # разбиваем по пробелам создавая список где [0] это Фамилия,[1]-Имя,[2]-Отчество\n",
    "    \n",
    "    if len(part_fio) == 3: # проверяем на длину и обрабатываем только те что имеют длину 3 во всех остальных случаях просим просклонять самостоятельно\n",
    "        lastname = part_fio[0].capitalize() # Фамилия\n",
    "        firstname = part_fio[1].capitalize() # Имя\n",
    "        middlename = part_fio[2].capitalize() # Отчество\n",
    "        \n",
    "        # Определяем гендер для корректного склонения\n",
    "        gender = detect_gender(lastname,firstname,middlename)\n",
    "        # Склоняем\n",
    "        case_result_lastname = maker.make(NamePart.LASTNAME,gender,case,lastname)\n",
    "        case_result_lastname = capitalize_double_name(case_result_lastname) # обрабатываем случаи двойной фамилии\n",
    "        case_result_firstname = maker.make(NamePart.FIRSTNAME,gender,case,firstname)\n",
    "        case_result_firstname= capitalize_double_name(case_result_firstname)# обрабатываем случаи двойного имени\n",
    "        \n",
    "        case_result_middlename = maker.make(NamePart.MIDDLENAME,gender,case,middlename)\n",
    "        # Возвращаем результат\n",
    "        result_fio = f'{case_result_lastname} {case_result_firstname} {case_result_middlename}'\n",
    "        return result_fio\n",
    "        \n",
    "        \n",
    "        \n",
    "    else:\n",
    "        return 'Проверьте количество слов, должно быть 3 разделенных пробелами слова'"
   ]
  },
  {
   "cell_type": "code",
   "execution_count": 280,
   "id": "a51bccae",
   "metadata": {},
   "outputs": [],
   "source": [
    "fio_column = 'ФИО'"
   ]
  },
  {
   "cell_type": "code",
   "execution_count": 281,
   "id": "87084763",
   "metadata": {},
   "outputs": [],
   "source": [
    "# df = pd.read_excel('data/cases.xlsx',dtype={fio_column:str})\n",
    "df = pd.read_excel('data/Общий список БРИТ 26.11.2021.xlsx',dtype={fio_column:str})\n",
    "\n",
    "\n",
    "temp_df = pd.DataFrame() # временный датафрейм для хранения колонок просклоненных по падежам\n",
    "path_to_end_folder = 'data'"
   ]
  },
  {
   "cell_type": "code",
   "execution_count": 282,
   "id": "8be6aa7a",
   "metadata": {},
   "outputs": [],
   "source": [
    "# Получаем номер колонки с фио которые нужно обработать\n",
    "lst_columns = list(df.columns) # Превращаем в список\n",
    "index_fio_column = lst_columns.index(fio_column) # получаем индекс\n",
    "\n",
    "\n"
   ]
  },
  {
   "cell_type": "code",
   "execution_count": 283,
   "id": "67bc096d",
   "metadata": {},
   "outputs": [
    {
     "ename": "AttributeError",
     "evalue": "'float' object has no attribute 'strip'",
     "output_type": "error",
     "traceback": [
      "\u001b[1;31m---------------------------------------------------------------------------\u001b[0m",
      "\u001b[1;31mAttributeError\u001b[0m                            Traceback (most recent call last)",
      "\u001b[1;32m~\\AppData\\Local\\Temp\\ipykernel_22508\\3116142414.py\u001b[0m in \u001b[0;36m<module>\u001b[1;34m\u001b[0m\n\u001b[1;32m----> 1\u001b[1;33m \u001b[0mtemp_df\u001b[0m\u001b[1;33m[\u001b[0m\u001b[1;34m'Родительный_падеж'\u001b[0m\u001b[1;33m]\u001b[0m \u001b[1;33m=\u001b[0m \u001b[0mdf\u001b[0m\u001b[1;33m[\u001b[0m\u001b[0mfio_column\u001b[0m\u001b[1;33m]\u001b[0m\u001b[1;33m.\u001b[0m\u001b[0mapply\u001b[0m\u001b[1;33m(\u001b[0m\u001b[1;32mlambda\u001b[0m \u001b[0mx\u001b[0m\u001b[1;33m:\u001b[0m\u001b[0mdecl_on_case\u001b[0m\u001b[1;33m(\u001b[0m\u001b[0mx\u001b[0m\u001b[1;33m,\u001b[0m\u001b[0mCase\u001b[0m\u001b[1;33m.\u001b[0m\u001b[0mGENITIVE\u001b[0m\u001b[1;33m)\u001b[0m\u001b[1;33m)\u001b[0m\u001b[1;33m\u001b[0m\u001b[1;33m\u001b[0m\u001b[0m\n\u001b[0m\u001b[0;32m      2\u001b[0m \u001b[0mtemp_df\u001b[0m\u001b[1;33m[\u001b[0m\u001b[1;34m'Дательный_падеж'\u001b[0m\u001b[1;33m]\u001b[0m \u001b[1;33m=\u001b[0m \u001b[0mdf\u001b[0m\u001b[1;33m[\u001b[0m\u001b[0mfio_column\u001b[0m\u001b[1;33m]\u001b[0m\u001b[1;33m.\u001b[0m\u001b[0mapply\u001b[0m\u001b[1;33m(\u001b[0m\u001b[1;32mlambda\u001b[0m \u001b[0mx\u001b[0m\u001b[1;33m:\u001b[0m\u001b[0mdecl_on_case\u001b[0m\u001b[1;33m(\u001b[0m\u001b[0mx\u001b[0m\u001b[1;33m,\u001b[0m\u001b[0mCase\u001b[0m\u001b[1;33m.\u001b[0m\u001b[0mDATIVE\u001b[0m\u001b[1;33m)\u001b[0m\u001b[1;33m)\u001b[0m\u001b[1;33m\u001b[0m\u001b[1;33m\u001b[0m\u001b[0m\n\u001b[0;32m      3\u001b[0m \u001b[0mtemp_df\u001b[0m\u001b[1;33m[\u001b[0m\u001b[1;34m'Винительный_падеж'\u001b[0m\u001b[1;33m]\u001b[0m \u001b[1;33m=\u001b[0m \u001b[0mdf\u001b[0m\u001b[1;33m[\u001b[0m\u001b[0mfio_column\u001b[0m\u001b[1;33m]\u001b[0m\u001b[1;33m.\u001b[0m\u001b[0mapply\u001b[0m\u001b[1;33m(\u001b[0m\u001b[1;32mlambda\u001b[0m \u001b[0mx\u001b[0m\u001b[1;33m:\u001b[0m\u001b[0mdecl_on_case\u001b[0m\u001b[1;33m(\u001b[0m\u001b[0mx\u001b[0m\u001b[1;33m,\u001b[0m\u001b[0mCase\u001b[0m\u001b[1;33m.\u001b[0m\u001b[0mACCUSATIVE\u001b[0m\u001b[1;33m)\u001b[0m\u001b[1;33m)\u001b[0m\u001b[1;33m\u001b[0m\u001b[1;33m\u001b[0m\u001b[0m\n\u001b[0;32m      4\u001b[0m \u001b[0mtemp_df\u001b[0m\u001b[1;33m[\u001b[0m\u001b[1;34m'Творительный_падеж'\u001b[0m\u001b[1;33m]\u001b[0m \u001b[1;33m=\u001b[0m \u001b[0mdf\u001b[0m\u001b[1;33m[\u001b[0m\u001b[0mfio_column\u001b[0m\u001b[1;33m]\u001b[0m\u001b[1;33m.\u001b[0m\u001b[0mapply\u001b[0m\u001b[1;33m(\u001b[0m\u001b[1;32mlambda\u001b[0m \u001b[0mx\u001b[0m\u001b[1;33m:\u001b[0m\u001b[0mdecl_on_case\u001b[0m\u001b[1;33m(\u001b[0m\u001b[0mx\u001b[0m\u001b[1;33m,\u001b[0m\u001b[0mCase\u001b[0m\u001b[1;33m.\u001b[0m\u001b[0mINSTRUMENTAL\u001b[0m\u001b[1;33m)\u001b[0m\u001b[1;33m)\u001b[0m\u001b[1;33m\u001b[0m\u001b[1;33m\u001b[0m\u001b[0m\n\u001b[0;32m      5\u001b[0m \u001b[0mtemp_df\u001b[0m\u001b[1;33m[\u001b[0m\u001b[1;34m'Предложный_падеж'\u001b[0m\u001b[1;33m]\u001b[0m \u001b[1;33m=\u001b[0m \u001b[0mdf\u001b[0m\u001b[1;33m[\u001b[0m\u001b[0mfio_column\u001b[0m\u001b[1;33m]\u001b[0m\u001b[1;33m.\u001b[0m\u001b[0mapply\u001b[0m\u001b[1;33m(\u001b[0m\u001b[1;32mlambda\u001b[0m \u001b[0mx\u001b[0m\u001b[1;33m:\u001b[0m\u001b[0mdecl_on_case\u001b[0m\u001b[1;33m(\u001b[0m\u001b[0mx\u001b[0m\u001b[1;33m,\u001b[0m\u001b[0mCase\u001b[0m\u001b[1;33m.\u001b[0m\u001b[0mPREPOSITIONAL\u001b[0m\u001b[1;33m)\u001b[0m\u001b[1;33m)\u001b[0m\u001b[1;33m\u001b[0m\u001b[1;33m\u001b[0m\u001b[0m\n",
      "\u001b[1;32m~\\anaconda3\\lib\\site-packages\\pandas\\core\\series.py\u001b[0m in \u001b[0;36mapply\u001b[1;34m(self, func, convert_dtype, args, **kwargs)\u001b[0m\n\u001b[0;32m   4431\u001b[0m         \u001b[0mdtype\u001b[0m\u001b[1;33m:\u001b[0m \u001b[0mfloat64\u001b[0m\u001b[1;33m\u001b[0m\u001b[1;33m\u001b[0m\u001b[0m\n\u001b[0;32m   4432\u001b[0m         \"\"\"\n\u001b[1;32m-> 4433\u001b[1;33m         \u001b[1;32mreturn\u001b[0m \u001b[0mSeriesApply\u001b[0m\u001b[1;33m(\u001b[0m\u001b[0mself\u001b[0m\u001b[1;33m,\u001b[0m \u001b[0mfunc\u001b[0m\u001b[1;33m,\u001b[0m \u001b[0mconvert_dtype\u001b[0m\u001b[1;33m,\u001b[0m \u001b[0margs\u001b[0m\u001b[1;33m,\u001b[0m \u001b[0mkwargs\u001b[0m\u001b[1;33m)\u001b[0m\u001b[1;33m.\u001b[0m\u001b[0mapply\u001b[0m\u001b[1;33m(\u001b[0m\u001b[1;33m)\u001b[0m\u001b[1;33m\u001b[0m\u001b[1;33m\u001b[0m\u001b[0m\n\u001b[0m\u001b[0;32m   4434\u001b[0m \u001b[1;33m\u001b[0m\u001b[0m\n\u001b[0;32m   4435\u001b[0m     def _reduce(\n",
      "\u001b[1;32m~\\anaconda3\\lib\\site-packages\\pandas\\core\\apply.py\u001b[0m in \u001b[0;36mapply\u001b[1;34m(self)\u001b[0m\n\u001b[0;32m   1086\u001b[0m             \u001b[1;32mreturn\u001b[0m \u001b[0mself\u001b[0m\u001b[1;33m.\u001b[0m\u001b[0mapply_str\u001b[0m\u001b[1;33m(\u001b[0m\u001b[1;33m)\u001b[0m\u001b[1;33m\u001b[0m\u001b[1;33m\u001b[0m\u001b[0m\n\u001b[0;32m   1087\u001b[0m \u001b[1;33m\u001b[0m\u001b[0m\n\u001b[1;32m-> 1088\u001b[1;33m         \u001b[1;32mreturn\u001b[0m \u001b[0mself\u001b[0m\u001b[1;33m.\u001b[0m\u001b[0mapply_standard\u001b[0m\u001b[1;33m(\u001b[0m\u001b[1;33m)\u001b[0m\u001b[1;33m\u001b[0m\u001b[1;33m\u001b[0m\u001b[0m\n\u001b[0m\u001b[0;32m   1089\u001b[0m \u001b[1;33m\u001b[0m\u001b[0m\n\u001b[0;32m   1090\u001b[0m     \u001b[1;32mdef\u001b[0m \u001b[0magg\u001b[0m\u001b[1;33m(\u001b[0m\u001b[0mself\u001b[0m\u001b[1;33m)\u001b[0m\u001b[1;33m:\u001b[0m\u001b[1;33m\u001b[0m\u001b[1;33m\u001b[0m\u001b[0m\n",
      "\u001b[1;32m~\\anaconda3\\lib\\site-packages\\pandas\\core\\apply.py\u001b[0m in \u001b[0;36mapply_standard\u001b[1;34m(self)\u001b[0m\n\u001b[0;32m   1141\u001b[0m                 \u001b[1;31m# List[Union[Callable[..., Any], str]]]]]\"; expected\u001b[0m\u001b[1;33m\u001b[0m\u001b[1;33m\u001b[0m\u001b[0m\n\u001b[0;32m   1142\u001b[0m                 \u001b[1;31m# \"Callable[[Any], Any]\"\u001b[0m\u001b[1;33m\u001b[0m\u001b[1;33m\u001b[0m\u001b[0m\n\u001b[1;32m-> 1143\u001b[1;33m                 mapped = lib.map_infer(\n\u001b[0m\u001b[0;32m   1144\u001b[0m                     \u001b[0mvalues\u001b[0m\u001b[1;33m,\u001b[0m\u001b[1;33m\u001b[0m\u001b[1;33m\u001b[0m\u001b[0m\n\u001b[0;32m   1145\u001b[0m                     \u001b[0mf\u001b[0m\u001b[1;33m,\u001b[0m  \u001b[1;31m# type: ignore[arg-type]\u001b[0m\u001b[1;33m\u001b[0m\u001b[1;33m\u001b[0m\u001b[0m\n",
      "\u001b[1;32m~\\anaconda3\\lib\\site-packages\\pandas\\_libs\\lib.pyx\u001b[0m in \u001b[0;36mpandas._libs.lib.map_infer\u001b[1;34m()\u001b[0m\n",
      "\u001b[1;32m~\\AppData\\Local\\Temp\\ipykernel_22508\\3116142414.py\u001b[0m in \u001b[0;36m<lambda>\u001b[1;34m(x)\u001b[0m\n\u001b[1;32m----> 1\u001b[1;33m \u001b[0mtemp_df\u001b[0m\u001b[1;33m[\u001b[0m\u001b[1;34m'Родительный_падеж'\u001b[0m\u001b[1;33m]\u001b[0m \u001b[1;33m=\u001b[0m \u001b[0mdf\u001b[0m\u001b[1;33m[\u001b[0m\u001b[0mfio_column\u001b[0m\u001b[1;33m]\u001b[0m\u001b[1;33m.\u001b[0m\u001b[0mapply\u001b[0m\u001b[1;33m(\u001b[0m\u001b[1;32mlambda\u001b[0m \u001b[0mx\u001b[0m\u001b[1;33m:\u001b[0m\u001b[0mdecl_on_case\u001b[0m\u001b[1;33m(\u001b[0m\u001b[0mx\u001b[0m\u001b[1;33m,\u001b[0m\u001b[0mCase\u001b[0m\u001b[1;33m.\u001b[0m\u001b[0mGENITIVE\u001b[0m\u001b[1;33m)\u001b[0m\u001b[1;33m)\u001b[0m\u001b[1;33m\u001b[0m\u001b[1;33m\u001b[0m\u001b[0m\n\u001b[0m\u001b[0;32m      2\u001b[0m \u001b[0mtemp_df\u001b[0m\u001b[1;33m[\u001b[0m\u001b[1;34m'Дательный_падеж'\u001b[0m\u001b[1;33m]\u001b[0m \u001b[1;33m=\u001b[0m \u001b[0mdf\u001b[0m\u001b[1;33m[\u001b[0m\u001b[0mfio_column\u001b[0m\u001b[1;33m]\u001b[0m\u001b[1;33m.\u001b[0m\u001b[0mapply\u001b[0m\u001b[1;33m(\u001b[0m\u001b[1;32mlambda\u001b[0m \u001b[0mx\u001b[0m\u001b[1;33m:\u001b[0m\u001b[0mdecl_on_case\u001b[0m\u001b[1;33m(\u001b[0m\u001b[0mx\u001b[0m\u001b[1;33m,\u001b[0m\u001b[0mCase\u001b[0m\u001b[1;33m.\u001b[0m\u001b[0mDATIVE\u001b[0m\u001b[1;33m)\u001b[0m\u001b[1;33m)\u001b[0m\u001b[1;33m\u001b[0m\u001b[1;33m\u001b[0m\u001b[0m\n\u001b[0;32m      3\u001b[0m \u001b[0mtemp_df\u001b[0m\u001b[1;33m[\u001b[0m\u001b[1;34m'Винительный_падеж'\u001b[0m\u001b[1;33m]\u001b[0m \u001b[1;33m=\u001b[0m \u001b[0mdf\u001b[0m\u001b[1;33m[\u001b[0m\u001b[0mfio_column\u001b[0m\u001b[1;33m]\u001b[0m\u001b[1;33m.\u001b[0m\u001b[0mapply\u001b[0m\u001b[1;33m(\u001b[0m\u001b[1;32mlambda\u001b[0m \u001b[0mx\u001b[0m\u001b[1;33m:\u001b[0m\u001b[0mdecl_on_case\u001b[0m\u001b[1;33m(\u001b[0m\u001b[0mx\u001b[0m\u001b[1;33m,\u001b[0m\u001b[0mCase\u001b[0m\u001b[1;33m.\u001b[0m\u001b[0mACCUSATIVE\u001b[0m\u001b[1;33m)\u001b[0m\u001b[1;33m)\u001b[0m\u001b[1;33m\u001b[0m\u001b[1;33m\u001b[0m\u001b[0m\n\u001b[0;32m      4\u001b[0m \u001b[0mtemp_df\u001b[0m\u001b[1;33m[\u001b[0m\u001b[1;34m'Творительный_падеж'\u001b[0m\u001b[1;33m]\u001b[0m \u001b[1;33m=\u001b[0m \u001b[0mdf\u001b[0m\u001b[1;33m[\u001b[0m\u001b[0mfio_column\u001b[0m\u001b[1;33m]\u001b[0m\u001b[1;33m.\u001b[0m\u001b[0mapply\u001b[0m\u001b[1;33m(\u001b[0m\u001b[1;32mlambda\u001b[0m \u001b[0mx\u001b[0m\u001b[1;33m:\u001b[0m\u001b[0mdecl_on_case\u001b[0m\u001b[1;33m(\u001b[0m\u001b[0mx\u001b[0m\u001b[1;33m,\u001b[0m\u001b[0mCase\u001b[0m\u001b[1;33m.\u001b[0m\u001b[0mINSTRUMENTAL\u001b[0m\u001b[1;33m)\u001b[0m\u001b[1;33m)\u001b[0m\u001b[1;33m\u001b[0m\u001b[1;33m\u001b[0m\u001b[0m\n\u001b[0;32m      5\u001b[0m \u001b[0mtemp_df\u001b[0m\u001b[1;33m[\u001b[0m\u001b[1;34m'Предложный_падеж'\u001b[0m\u001b[1;33m]\u001b[0m \u001b[1;33m=\u001b[0m \u001b[0mdf\u001b[0m\u001b[1;33m[\u001b[0m\u001b[0mfio_column\u001b[0m\u001b[1;33m]\u001b[0m\u001b[1;33m.\u001b[0m\u001b[0mapply\u001b[0m\u001b[1;33m(\u001b[0m\u001b[1;32mlambda\u001b[0m \u001b[0mx\u001b[0m\u001b[1;33m:\u001b[0m\u001b[0mdecl_on_case\u001b[0m\u001b[1;33m(\u001b[0m\u001b[0mx\u001b[0m\u001b[1;33m,\u001b[0m\u001b[0mCase\u001b[0m\u001b[1;33m.\u001b[0m\u001b[0mPREPOSITIONAL\u001b[0m\u001b[1;33m)\u001b[0m\u001b[1;33m)\u001b[0m\u001b[1;33m\u001b[0m\u001b[1;33m\u001b[0m\u001b[0m\n",
      "\u001b[1;32m~\\AppData\\Local\\Temp\\ipykernel_22508\\3100549343.py\u001b[0m in \u001b[0;36mdecl_on_case\u001b[1;34m(fio, case)\u001b[0m\n\u001b[0;32m     32\u001b[0m     \u001b[0mФункция\u001b[0m \u001b[0mдля\u001b[0m \u001b[0mсклонения\u001b[0m \u001b[0mФИО\u001b[0m \u001b[0mпо\u001b[0m \u001b[0mпадежам\u001b[0m\u001b[1;33m\u001b[0m\u001b[1;33m\u001b[0m\u001b[0m\n\u001b[0;32m     33\u001b[0m     \"\"\"\n\u001b[1;32m---> 34\u001b[1;33m     \u001b[0mfio\u001b[0m \u001b[1;33m=\u001b[0m \u001b[0mfio\u001b[0m\u001b[1;33m.\u001b[0m\u001b[0mstrip\u001b[0m\u001b[1;33m(\u001b[0m\u001b[1;33m)\u001b[0m \u001b[1;31m# очищаем строку от пробельных символов с начала и конца\u001b[0m\u001b[1;33m\u001b[0m\u001b[1;33m\u001b[0m\u001b[0m\n\u001b[0m\u001b[0;32m     35\u001b[0m     \u001b[0mpart_fio\u001b[0m \u001b[1;33m=\u001b[0m \u001b[0mfio\u001b[0m\u001b[1;33m.\u001b[0m\u001b[0msplit\u001b[0m\u001b[1;33m(\u001b[0m\u001b[1;33m)\u001b[0m \u001b[1;31m# разбиваем по пробелам создавая список где [0] это Фамилия,[1]-Имя,[2]-Отчество\u001b[0m\u001b[1;33m\u001b[0m\u001b[1;33m\u001b[0m\u001b[0m\n\u001b[0;32m     36\u001b[0m \u001b[1;33m\u001b[0m\u001b[0m\n",
      "\u001b[1;31mAttributeError\u001b[0m: 'float' object has no attribute 'strip'"
     ]
    }
   ],
   "source": [
    "temp_df['Родительный_падеж'] = df[fio_column].apply(lambda x:decl_on_case(x,Case.GENITIVE))\n",
    "temp_df['Дательный_падеж'] = df[fio_column].apply(lambda x:decl_on_case(x,Case.DATIVE))\n",
    "temp_df['Винительный_падеж'] = df[fio_column].apply(lambda x:decl_on_case(x,Case.ACCUSATIVE))\n",
    "temp_df['Творительный_падеж'] = df[fio_column].apply(lambda x:decl_on_case(x,Case.INSTRUMENTAL))\n",
    "temp_df['Предложный_падеж'] = df[fio_column].apply(lambda x:decl_on_case(x,Case.PREPOSITIONAL))"
   ]
  },
  {
   "cell_type": "code",
   "execution_count": null,
   "id": "d1f65ed9",
   "metadata": {},
   "outputs": [],
   "source": [
    "temp_df"
   ]
  },
  {
   "cell_type": "code",
   "execution_count": null,
   "id": "6bffbad8",
   "metadata": {},
   "outputs": [],
   "source": [
    "# Вставляем получившиеся колонки после базовой колонки с фио\n",
    "df.insert(index_fio_column+1,'Родительный_падеж',temp_df['Родительный_падеж'])\n",
    "df.insert(index_fio_column+2,'Дательный_падеж',temp_df['Дательный_падеж'])\n",
    "df.insert(index_fio_column+3,'Винительный_падеж',temp_df['Винительный_падеж'])\n",
    "df.insert(index_fio_column+4,'Творительный_падеж',temp_df['Творительный_падеж'])\n",
    "df.insert(index_fio_column+5,'Предложный_падеж',temp_df['Предложный_падеж'])"
   ]
  },
  {
   "cell_type": "code",
   "execution_count": null,
   "id": "370cb33e",
   "metadata": {},
   "outputs": [],
   "source": [
    "t = time.localtime()\n",
    "current_time = time.strftime('%H_%M_%S', t)\n",
    "df.to_excel(f'{path_to_end_folder}/ФИО по падежам от {current_time}.xlsx',index=False)"
   ]
  },
  {
   "cell_type": "code",
   "execution_count": null,
   "id": "63416c7b",
   "metadata": {},
   "outputs": [],
   "source": []
  },
  {
   "cell_type": "code",
   "execution_count": null,
   "id": "ab1f6234",
   "metadata": {},
   "outputs": [],
   "source": []
  },
  {
   "cell_type": "code",
   "execution_count": null,
   "id": "6c20721c",
   "metadata": {},
   "outputs": [],
   "source": []
  },
  {
   "cell_type": "code",
   "execution_count": null,
   "id": "7b3b1b27",
   "metadata": {},
   "outputs": [],
   "source": []
  }
 ],
 "metadata": {
  "kernelspec": {
   "display_name": "Python 3 (ipykernel)",
   "language": "python",
   "name": "python3"
  },
  "language_info": {
   "codemirror_mode": {
    "name": "ipython",
    "version": 3
   },
   "file_extension": ".py",
   "mimetype": "text/x-python",
   "name": "python",
   "nbconvert_exporter": "python",
   "pygments_lexer": "ipython3",
   "version": "3.9.13"
  }
 },
 "nbformat": 4,
 "nbformat_minor": 5
}
