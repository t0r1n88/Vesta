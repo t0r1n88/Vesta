{
 "cells": [
  {
   "cell_type": "code",
   "execution_count": 349,
   "id": "1d7a336e",
   "metadata": {},
   "outputs": [
    {
     "data": {
      "text/plain": [
       "'\\nСкрипт для склонения ФИО по падежам\\n'"
      ]
     },
     "execution_count": 349,
     "metadata": {},
     "output_type": "execute_result"
    }
   ],
   "source": [
    "\"\"\"\n",
    "Скрипт для склонения ФИО по падежам\n",
    "\"\"\""
   ]
  },
  {
   "cell_type": "code",
   "execution_count": 350,
   "id": "2f899c46",
   "metadata": {},
   "outputs": [],
   "source": [
    "import pandas as pd\n",
    "import pytrovich\n",
    "from pytrovich.detector import PetrovichGenderDetector\n",
    "from pytrovich.enums import NamePart, Gender, Case\n",
    "from pytrovich.maker import PetrovichDeclinationMaker\n",
    "import time\n",
    "\n"
   ]
  },
  {
   "cell_type": "code",
   "execution_count": 351,
   "id": "f0c7155e",
   "metadata": {},
   "outputs": [],
   "source": [
    "def capitalize_double_name(word):\n",
    "    \"\"\"\n",
    "    Функция для того чтобы в двойных именах и фамилиях вторая часть была также с большой буквы\n",
    "    \"\"\"\n",
    "    lst_word = word.split('-') # сплитим по дефису\n",
    "    if len(lst_word) == 1: # если длина списка равна 1 то это не двойная фамилия и просто возвращаем слово\n",
    "        \n",
    "        return word\n",
    "    elif len(lst_word) == 2:\n",
    "        first_word = lst_word[0].capitalize() # делаем первую букву слова заглавной а остальные строчными\n",
    "        second_word = lst_word[1].capitalize()\n",
    "        return f'{first_word}-{second_word}'\n",
    "    else:\n",
    "        return 'Не удалось просклонять'\n",
    "\n",
    "def case_lastname(maker,lastname,gender,case:Case):\n",
    "    \"\"\"\n",
    "    Функция для обработки и склонения фамилии. Это нужно для обработки случаев двойной фамилии\n",
    "    \"\"\"\n",
    "    \n",
    "    lst_lastname = lastname.split('-') # сплитим по дефису\n",
    "    \n",
    "    if len(lst_lastname) == 1: # если длина списка равна 1 то это не двойная фамилия и просто обрабатываем слово\n",
    "        case_result_lastname = maker.make(NamePart.LASTNAME,gender,case,lastname)\n",
    "        return case_result_lastname\n",
    "    elif len(lst_lastname) == 2:       \n",
    "        first_lastname = lst_lastname[0].capitalize() # делаем первую букву слова заглавной а остальные строчными\n",
    "        second_lastname = lst_lastname[1].capitalize()\n",
    "        # Склоняем по отдельности\n",
    "        first_lastname = maker.make(NamePart.LASTNAME,gender,case,first_lastname)\n",
    "        second_lastname = maker.make(NamePart.LASTNAME,gender,case,second_lastname)        \n",
    "        \n",
    "        return f'{first_lastname}-{second_lastname}'\n",
    "    \n",
    "           \n",
    "\n",
    "\n",
    "def detect_gender(detector,lastname,firstname,middlename):\n",
    "    \"\"\"\n",
    "    Функция для определения гендера слова\n",
    "    \"\"\"\n",
    "#     detector = PetrovichGenderDetector() # создаем объект детектора\n",
    "    try:\n",
    "        gender_result = detector.detect(lastname=lastname,firstname=firstname,middlename=middlename)\n",
    "        return gender_result\n",
    "    except StopIteration:# если не удалось определить то считаем что гендер андрогинный\n",
    "        return Gender.ANDROGYNOUS\n",
    "       \n",
    "    \n",
    "\n",
    "def decl_on_case(fio:str,case:Case) ->str:\n",
    "    \"\"\"\n",
    "    Функция для склонения ФИО по падежам\n",
    "    \"\"\"\n",
    "    fio = fio.strip() # очищаем строку от пробельных символов с начала и конца\n",
    "    part_fio = fio.split() # разбиваем по пробелам создавая список где [0] это Фамилия,[1]-Имя,[2]-Отчество\n",
    "    \n",
    "    if len(part_fio) == 3: # проверяем на длину и обрабатываем только те что имеют длину 3 во всех остальных случаях просим просклонять самостоятельно\n",
    "        maker = PetrovichDeclinationMaker() # создаем объект класса\n",
    "        lastname = part_fio[0].capitalize() # Фамилия\n",
    "        firstname = part_fio[1].capitalize() # Имя\n",
    "        middlename = part_fio[2].capitalize() # Отчество\n",
    "        \n",
    "        \n",
    "        # Определяем гендер для корректного склонения\n",
    "        detector = PetrovichGenderDetector() # создаем объект детектора\n",
    "        gender = detect_gender(detector,lastname,firstname,middlename)\n",
    "        # Склоняем\n",
    "        \n",
    "        \n",
    "        case_result_lastname= case_lastname(maker,lastname,gender,case) # обрабатываем фамилию\n",
    "#         case_result_lastname = maker.make(NamePart.LASTNAME,gender,case,lastname)\n",
    "#         case_result_lastname = capitalize_double_name(case_result_lastname) # обрабатываем случаи двойной фамилии\n",
    "        case_result_firstname = maker.make(NamePart.FIRSTNAME,gender,case,firstname)\n",
    "        case_result_firstname= capitalize_double_name(case_result_firstname)# обрабатываем случаи двойного имени\n",
    "        \n",
    "        case_result_middlename = maker.make(NamePart.MIDDLENAME,gender,case,middlename)\n",
    "        # Возвращаем результат\n",
    "        result_fio = f'{case_result_lastname} {case_result_firstname} {case_result_middlename}'\n",
    "        return result_fio\n",
    "        \n",
    "        \n",
    "        \n",
    "    else:\n",
    "        return 'Проверьте количество слов, должно быть 3 разделенных пробелами слова'"
   ]
  },
  {
   "cell_type": "code",
   "execution_count": 352,
   "id": "96531b21",
   "metadata": {},
   "outputs": [],
   "source": [
    "fio_column = 'ФИО'\n",
    "data_decl_case = 'data/краткий вариант 37 строк.xlsx'"
   ]
  },
  {
   "cell_type": "code",
   "execution_count": 353,
   "id": "7ec1f834",
   "metadata": {},
   "outputs": [],
   "source": [
    "# df = pd.read_excel('data/cases.xlsx',dtype={fio_column:str})\n",
    "df = pd.read_excel(data_decl_case,dtype={fio_column:str})\n",
    "\n",
    "temp_df = pd.DataFrame() # временный датафрейм для хранения колонок просклоненных по падежам\n",
    "path_to_end_folder_decl_case = 'data'"
   ]
  },
  {
   "cell_type": "code",
   "execution_count": 354,
   "id": "f114ee92",
   "metadata": {},
   "outputs": [],
   "source": [
    "# Получаем номер колонки с фио которые нужно обработать\n",
    "lst_columns = list(df.columns) # Превращаем в список\n",
    "index_fio_column = lst_columns.index(fio_column) # получаем индекс\n",
    "\n",
    "\n"
   ]
  },
  {
   "cell_type": "code",
   "execution_count": 355,
   "id": "6c100f02",
   "metadata": {},
   "outputs": [],
   "source": [
    "# Обрабатываем nan значения и те которые обозначены пробелом\n",
    "df[fio_column].fillna('Не заполнено',inplace=True)\n",
    "df[fio_column] = df[fio_column].apply(lambda x:x.strip())\n",
    "df[fio_column] = df[fio_column].apply(lambda x:x if x else 'Не заполнено') # Если пустая строка то заменяем на значение Не заполнено"
   ]
  },
  {
   "cell_type": "code",
   "execution_count": 356,
   "id": "54042ba3",
   "metadata": {},
   "outputs": [],
   "source": [
    "temp_df['Родительный_падеж'] = df[fio_column].apply(lambda x:decl_on_case(x,Case.GENITIVE))\n",
    "temp_df['Дательный_падеж'] = df[fio_column].apply(lambda x:decl_on_case(x,Case.DATIVE))\n",
    "temp_df['Винительный_падеж'] = df[fio_column].apply(lambda x:decl_on_case(x,Case.ACCUSATIVE))\n",
    "temp_df['Творительный_падеж'] = df[fio_column].apply(lambda x:decl_on_case(x,Case.INSTRUMENTAL))\n",
    "temp_df['Предложный_падеж'] = df[fio_column].apply(lambda x:decl_on_case(x,Case.PREPOSITIONAL))"
   ]
  },
  {
   "cell_type": "code",
   "execution_count": 357,
   "id": "b1d81a4b",
   "metadata": {},
   "outputs": [],
   "source": [
    "# Вставляем получившиеся колонки после базовой колонки с фио\n",
    "df.insert(index_fio_column+1,'Родительный_падеж',temp_df['Родительный_падеж'])\n",
    "df.insert(index_fio_column+2,'Дательный_падеж',temp_df['Дательный_падеж'])\n",
    "df.insert(index_fio_column+3,'Винительный_падеж',temp_df['Винительный_падеж'])\n",
    "df.insert(index_fio_column+4,'Творительный_падеж',temp_df['Творительный_падеж'])\n",
    "df.insert(index_fio_column+5,'Предложный_падеж',temp_df['Предложный_падеж'])"
   ]
  },
  {
   "cell_type": "code",
   "execution_count": 358,
   "id": "4cf58936",
   "metadata": {},
   "outputs": [],
   "source": [
    "t = time.localtime()\n",
    "current_time = time.strftime('%H_%M_%S', t)\n",
    "df.to_excel(f'{path_to_end_folder_decl_case}/ФИО по падежам от {current_time}.xlsx',index=False)"
   ]
  },
  {
   "cell_type": "code",
   "execution_count": null,
   "id": "9c737164",
   "metadata": {},
   "outputs": [],
   "source": []
  },
  {
   "cell_type": "code",
   "execution_count": null,
   "id": "96fbb1d4",
   "metadata": {},
   "outputs": [],
   "source": []
  },
  {
   "cell_type": "code",
   "execution_count": null,
   "id": "2734f686",
   "metadata": {},
   "outputs": [],
   "source": []
  },
  {
   "cell_type": "code",
   "execution_count": null,
   "id": "8b2b9850",
   "metadata": {},
   "outputs": [],
   "source": []
  }
 ],
 "metadata": {
  "kernelspec": {
   "display_name": "Python 3 (ipykernel)",
   "language": "python",
   "name": "python3"
  },
  "language_info": {
   "codemirror_mode": {
    "name": "ipython",
    "version": 3
   },
   "file_extension": ".py",
   "mimetype": "text/x-python",
   "name": "python",
   "nbconvert_exporter": "python",
   "pygments_lexer": "ipython3",
   "version": "3.9.13"
  }
 },
 "nbformat": 4,
 "nbformat_minor": 5
}
