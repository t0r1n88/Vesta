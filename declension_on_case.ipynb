{
 "cells": [
  {
   "cell_type": "code",
   "execution_count": 329,
   "id": "8f613f04",
   "metadata": {},
   "outputs": [
    {
     "data": {
      "text/plain": [
       "'\\nСкрипт для склонения ФИО по падежам\\n'"
      ]
     },
     "execution_count": 329,
     "metadata": {},
     "output_type": "execute_result"
    }
   ],
   "source": [
    "\"\"\"\n",
    "Скрипт для склонения ФИО по падежам\n",
    "\"\"\""
   ]
  },
  {
   "cell_type": "code",
   "execution_count": 330,
   "id": "7bbad14f",
   "metadata": {},
   "outputs": [],
   "source": [
    "import pandas as pd\n",
    "import pytrovich\n",
    "from pytrovich.detector import PetrovichGenderDetector\n",
    "from pytrovich.enums import NamePart, Gender, Case\n",
    "from pytrovich.maker import PetrovichDeclinationMaker\n",
    "import time\n",
    "\n"
   ]
  },
  {
   "cell_type": "code",
   "execution_count": 331,
   "id": "1463d0c8",
   "metadata": {},
   "outputs": [],
   "source": [
    "def capitalize_double_name(word):\n",
    "    \"\"\"\n",
    "    Функция для того чтобы в двойных именах и фамилиях вторая часть была также с большой буквы\n",
    "    \"\"\"\n",
    "    lst_word = word.split('-')\n",
    "    if len(lst_word) == 1:\n",
    "        return word\n",
    "    else:\n",
    "        first_word = lst_word[0].capitalize()\n",
    "        second_word = lst_word[1].capitalize()\n",
    "        return f'{first_word}-{second_word}'\n",
    "        \n",
    "           \n",
    "\n",
    "\n",
    "def detect_gender(lastname,firstname,middlename):\n",
    "    \"\"\"\n",
    "    Функция для определения гендера слова\n",
    "    \"\"\"\n",
    "    detector = PetrovichGenderDetector() # создаем объект детектора\n",
    "    try:\n",
    "        gender_result = detector.detect(lastname=lastname,firstname=firstname,middlename=middlename)\n",
    "        return gender_result\n",
    "    except StopIteration:# если не удалось определить то считаем что гендер андрогинный\n",
    "        return Gender.ANDROGYNOUS\n",
    "       \n",
    "    \n",
    "\n",
    "def decl_on_case(fio:str,case:Case) ->str:\n",
    "    \"\"\"\n",
    "    Функция для склонения ФИО по падежам\n",
    "    \"\"\"\n",
    "    fio = fio.strip() # очищаем строку от пробельных символов с начала и конца\n",
    "    part_fio = fio.split() # разбиваем по пробелам создавая список где [0] это Фамилия,[1]-Имя,[2]-Отчество\n",
    "    \n",
    "    if len(part_fio) == 3: # проверяем на длину и обрабатываем только те что имеют длину 3 во всех остальных случаях просим просклонять самостоятельно\n",
    "        lastname = part_fio[0].capitalize() # Фамилия\n",
    "        firstname = part_fio[1].capitalize() # Имя\n",
    "        middlename = part_fio[2].capitalize() # Отчество\n",
    "        \n",
    "        # Определяем гендер для корректного склонения\n",
    "        gender = detect_gender(lastname,firstname,middlename)\n",
    "        # Склоняем\n",
    "        case_result_lastname = maker.make(NamePart.LASTNAME,gender,case,lastname)\n",
    "        case_result_lastname = capitalize_double_name(case_result_lastname) # обрабатываем случаи двойной фамилии\n",
    "        case_result_firstname = maker.make(NamePart.FIRSTNAME,gender,case,firstname)\n",
    "        case_result_firstname= capitalize_double_name(case_result_firstname)# обрабатываем случаи двойного имени\n",
    "        \n",
    "        case_result_middlename = maker.make(NamePart.MIDDLENAME,gender,case,middlename)\n",
    "        # Возвращаем результат\n",
    "        result_fio = f'{case_result_lastname} {case_result_firstname} {case_result_middlename}'\n",
    "        return result_fio\n",
    "        \n",
    "        \n",
    "        \n",
    "    else:\n",
    "        return 'Проверьте количество слов, должно быть 3 разделенных пробелами слова'"
   ]
  },
  {
   "cell_type": "code",
   "execution_count": 332,
   "id": "cdf742ca",
   "metadata": {},
   "outputs": [],
   "source": [
    "fio_column = 'ФИО'\n",
    "data_decl_case = 'data/Общий список БРИТ 26.11.2021.xlsx'"
   ]
  },
  {
   "cell_type": "code",
   "execution_count": 333,
   "id": "ea640e77",
   "metadata": {},
   "outputs": [],
   "source": [
    "# df = pd.read_excel('data/cases.xlsx',dtype={fio_column:str})\n",
    "df = pd.read_excel(data_decl_case,dtype={fio_column:str})\n",
    "\n",
    "temp_df = pd.DataFrame() # временный датафрейм для хранения колонок просклоненных по падежам\n",
    "path_to_end_folder_decl_case = 'data'"
   ]
  },
  {
   "cell_type": "code",
   "execution_count": 334,
   "id": "6bd8be7c",
   "metadata": {},
   "outputs": [],
   "source": [
    "# Получаем номер колонки с фио которые нужно обработать\n",
    "lst_columns = list(df.columns) # Превращаем в список\n",
    "index_fio_column = lst_columns.index(fio_column) # получаем индекс\n",
    "\n",
    "\n"
   ]
  },
  {
   "cell_type": "code",
   "execution_count": 335,
   "id": "ccf6a701",
   "metadata": {},
   "outputs": [],
   "source": [
    "# Обрабатываем nan значения и те которые обозначены пробелом\n",
    "df[fio_column].fillna('Не заполнено',inplace=True)\n",
    "df[fio_column] = df[fio_column].apply(lambda x:x.strip())\n",
    "df[fio_column] = df[fio_column].apply(lambda x:x if x else 'Не заполнено') # Если пустая строка то заменяем на значение Не заполнено"
   ]
  },
  {
   "cell_type": "code",
   "execution_count": 336,
   "id": "a3759f70",
   "metadata": {},
   "outputs": [
    {
     "name": "stderr",
     "output_type": "stream",
     "text": [
      "Gender prediction was confused, possible gender options: {<Gender.FEMALE: 1>, <Gender.MALE: 0>}\n",
      "Gender prediction was confused, possible gender options: {<Gender.FEMALE: 1>, <Gender.MALE: 0>}\n",
      "Gender prediction was confused, possible gender options: {<Gender.FEMALE: 1>, <Gender.MALE: 0>}\n",
      "Gender prediction was confused, possible gender options: {<Gender.FEMALE: 1>, <Gender.MALE: 0>}\n",
      "Gender prediction was confused, possible gender options: {<Gender.FEMALE: 1>, <Gender.MALE: 0>}\n"
     ]
    }
   ],
   "source": [
    "temp_df['Родительный_падеж'] = df[fio_column].apply(lambda x:decl_on_case(x,Case.GENITIVE))\n",
    "temp_df['Дательный_падеж'] = df[fio_column].apply(lambda x:decl_on_case(x,Case.DATIVE))\n",
    "temp_df['Винительный_падеж'] = df[fio_column].apply(lambda x:decl_on_case(x,Case.ACCUSATIVE))\n",
    "temp_df['Творительный_падеж'] = df[fio_column].apply(lambda x:decl_on_case(x,Case.INSTRUMENTAL))\n",
    "temp_df['Предложный_падеж'] = df[fio_column].apply(lambda x:decl_on_case(x,Case.PREPOSITIONAL))"
   ]
  },
  {
   "cell_type": "code",
   "execution_count": 337,
   "id": "32638a0e",
   "metadata": {},
   "outputs": [],
   "source": [
    "# Вставляем получившиеся колонки после базовой колонки с фио\n",
    "df.insert(index_fio_column+1,'Родительный_падеж',temp_df['Родительный_падеж'])\n",
    "df.insert(index_fio_column+2,'Дательный_падеж',temp_df['Дательный_падеж'])\n",
    "df.insert(index_fio_column+3,'Винительный_падеж',temp_df['Винительный_падеж'])\n",
    "df.insert(index_fio_column+4,'Творительный_падеж',temp_df['Творительный_падеж'])\n",
    "df.insert(index_fio_column+5,'Предложный_падеж',temp_df['Предложный_падеж'])"
   ]
  },
  {
   "cell_type": "code",
   "execution_count": 338,
   "id": "a6633947",
   "metadata": {},
   "outputs": [],
   "source": [
    "t = time.localtime()\n",
    "current_time = time.strftime('%H_%M_%S', t)\n",
    "df.to_excel(f'{path_to_end_folder_decl_case}/ФИО по падежам от {current_time}.xlsx',index=False)"
   ]
  },
  {
   "cell_type": "code",
   "execution_count": null,
   "id": "c34519fe",
   "metadata": {},
   "outputs": [],
   "source": []
  },
  {
   "cell_type": "code",
   "execution_count": null,
   "id": "0155ab1b",
   "metadata": {},
   "outputs": [],
   "source": []
  },
  {
   "cell_type": "code",
   "execution_count": null,
   "id": "1f4c6292",
   "metadata": {},
   "outputs": [],
   "source": []
  },
  {
   "cell_type": "code",
   "execution_count": null,
   "id": "99071eea",
   "metadata": {},
   "outputs": [],
   "source": []
  }
 ],
 "metadata": {
  "kernelspec": {
   "display_name": "Python 3 (ipykernel)",
   "language": "python",
   "name": "python3"
  },
  "language_info": {
   "codemirror_mode": {
    "name": "ipython",
    "version": 3
   },
   "file_extension": ".py",
   "mimetype": "text/x-python",
   "name": "python",
   "nbconvert_exporter": "python",
   "pygments_lexer": "ipython3",
   "version": "3.9.13"
  }
 },
 "nbformat": 4,
 "nbformat_minor": 5
}
