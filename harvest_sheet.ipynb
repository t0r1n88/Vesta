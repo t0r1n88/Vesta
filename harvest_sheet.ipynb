{
 "cells": [
  {
   "cell_type": "code",
   "execution_count": 239,
   "id": "ee7d126b",
   "metadata": {},
   "outputs": [],
   "source": [
    "\"\"\"\n",
    "Скрипт для обработки данных  с многостраничных листов Excel\n",
    "\"\"\"\n",
    "import pandas as pd\n",
    "import os\n",
    "from dateutil.parser import ParserError\n",
    "from tkinter import *\n",
    "from tkinter import filedialog\n",
    "from tkinter import messagebox\n",
    "from tkinter import ttk\n",
    "import openpyxl\n",
    "from openpyxl.utils.dataframe import dataframe_to_rows\n",
    "from openpyxl.styles import Font\n",
    "from openpyxl.styles import Alignment\n",
    "from openpyxl import load_workbook\n",
    "import time\n",
    "import datetime\n",
    "import warnings\n",
    "\n",
    "warnings.filterwarnings('ignore', category=UserWarning, module='openpyxl')\n",
    "pd.options.mode.chained_assignment = None\n"
   ]
  },
  {
   "cell_type": "code",
   "execution_count": 240,
   "id": "c652001f",
   "metadata": {},
   "outputs": [],
   "source": [
    "skip_rows = 0\n",
    "file_standard_merger = 'data/harvest/Приложение_№_1_Чеченская_Республика_01_12 (2).xlsx'\n",
    "dir_name = 'data/harvest'\n",
    "path_to_end_folder_merger = 'data/temp'\n",
    "checkbox_harvest = 0"
   ]
  },
  {
   "cell_type": "code",
   "execution_count": 241,
   "id": "9692ede7",
   "metadata": {},
   "outputs": [],
   "source": [
    "# Создаем датафрейм куда будем сохранять ошибочные файлы\n",
    "err_df = pd.DataFrame(columns=['Название файла','Наименование листа','Тип ошибки'])\n",
    "errors_dct = dict() # создаем словарь для файлов и листов с ошибками"
   ]
  },
  {
   "cell_type": "code",
   "execution_count": 242,
   "id": "1f0c7ea6",
   "metadata": {},
   "outputs": [],
   "source": [
    "name_file_standard_merger = file_standard_merger.split('/')[-1] # получаем имя файла"
   ]
  },
  {
   "cell_type": "code",
   "execution_count": 243,
   "id": "b0c9db5e",
   "metadata": {},
   "outputs": [],
   "source": [
    "standard_wb = load_workbook(filename=file_standard_merger) # Загружаем эталонный файл\n"
   ]
  },
  {
   "cell_type": "code",
   "execution_count": 244,
   "id": "04759f07",
   "metadata": {},
   "outputs": [
    {
     "data": {
      "text/plain": [
       "['ЯКраткое наименование колледжа',\n",
       " 'комментарии Горюновой М.Ю. ',\n",
       " 'Бвод- студенты ',\n",
       " 'свод- кадры ',\n",
       " 'свод - финансы и МТБ ']"
      ]
     },
     "execution_count": 244,
     "metadata": {},
     "output_type": "execute_result"
    }
   ],
   "source": [
    "standard_wb.sheetnames"
   ]
  },
  {
   "cell_type": "code",
   "execution_count": 245,
   "id": "a48543b8",
   "metadata": {},
   "outputs": [],
   "source": [
    "standard_sheets = sorted(standard_wb.sheetnames) # отсортрованный список листов по которому будет вестись сравнение\n",
    "standard_size_sheets = len(standard_sheets)"
   ]
  },
  {
   "cell_type": "code",
   "execution_count": 246,
   "id": "5f781950",
   "metadata": {},
   "outputs": [],
   "source": [
    "dct_df = dict() # создаем словарь в котором будем хранить да"
   ]
  },
  {
   "cell_type": "code",
   "execution_count": 247,
   "id": "10e0907e",
   "metadata": {},
   "outputs": [],
   "source": [
    "for sheet in standard_wb.sheetnames: # Добавляем в словарь датафреймы\n",
    "    temp_df = pd.read_excel(file_standard_merger,sheet_name=sheet,dtype=str)\n",
    "    dct_df[sheet] = temp_df  \n",
    "    \n",
    "\n",
    "\n"
   ]
  },
  {
   "cell_type": "code",
   "execution_count": 248,
   "id": "d6c08663",
   "metadata": {},
   "outputs": [
    {
     "name": "stdout",
     "output_type": "stream",
     "text": [
      "1 форма Алания (2)\n",
      "{'свод - кадры ', 'Общий свод ', '5 лист', 'свод - студенты'}\n",
      "Данные_для_отчета_Кабардино_Балкария (2)\n",
      "Ингушетия Приложение_№_1 (2)\n",
      "Приложение_№_1_СКФО_Ставрополь (2)\n",
      "Проверка на правильность листов 2\n",
      "set()\n",
      "*****\n",
      "ЯКраткое наименование колледжа\n",
      "53\n",
      "(19, 55)\n",
      "*****\n",
      "*****\n",
      "комментарии Горюновой М.Ю. \n",
      "55\n",
      "(19, 55)\n",
      "*****\n",
      "*****\n",
      "Бвод- студенты \n",
      "22\n",
      "(18, 23)\n",
      "*****\n",
      "*****\n",
      "свод- кадры \n",
      "18\n",
      "(19, 18)\n",
      "*****\n",
      "*****\n",
      "свод - финансы и МТБ \n",
      "11\n",
      "(18, 14)\n",
      "*****\n",
      "3\n",
      "Проверка на правильность листов\n",
      "set()\n",
      "*****\n",
      "ЯКраткое наименование колледжа\n",
      "53\n",
      "(19, 55)\n",
      "*****\n",
      "*****\n",
      "комментарии Горюновой М.Ю. \n",
      "55\n",
      "(19, 55)\n",
      "*****\n",
      "*****\n",
      "Бвод- студенты \n",
      "22\n",
      "(18, 23)\n",
      "*****\n",
      "*****\n",
      "свод- кадры \n",
      "18\n",
      "(19, 18)\n",
      "*****\n",
      "*****\n",
      "свод - финансы и МТБ \n",
      "14\n",
      "(18, 14)\n",
      "*****\n",
      "2\n",
      "Проверка Чечня\n",
      "set()\n",
      "*****\n",
      "ЯКраткое наименование колледжа\n",
      "55\n",
      "(19, 55)\n",
      "*****\n",
      "*****\n",
      "комментарии Горюновой М.Ю. \n",
      "55\n",
      "(19, 55)\n",
      "*****\n",
      "*****\n",
      "Бвод- студенты \n",
      "23\n",
      "(18, 23)\n",
      "*****\n",
      "*****\n",
      "свод- кадры \n",
      "18\n",
      "(19, 18)\n",
      "*****\n",
      "*****\n",
      "свод - финансы и МТБ \n",
      "14\n",
      "(18, 14)\n",
      "*****\n",
      "0\n"
     ]
    }
   ],
   "source": [
    "for dirpath, dirnames, filenames in os.walk(dir_name):\n",
    "    for filename in filenames:\n",
    "        if filename.endswith('.xlsx') and filename != name_file_standard_merger:# не обрабатываем эталонный файл\n",
    "            # Получаем название файла без расширения\n",
    "            name_file = filename.split('.xlsx')[0]\n",
    "            print(name_file)\n",
    "            temb_wb = load_workbook(filename=f'{dirpath}/{filename}')  # загружаем файл\n",
    "            if len(temb_wb.sheetnames) == standard_size_sheets: # сравниваем количество листов в файле\n",
    "                diff_name_sheets =  set(temb_wb.sheetnames).difference(set(standard_sheets))# проверяем разницу в названиях листов\n",
    "                print(diff_name_sheets)\n",
    "                if len(diff_name_sheets) !=0: # если разница в названиях есть то записываем в ошибки и обрабатываем следующий файл\n",
    "                    temp_error_df = pd.DataFrame(columns=['Название файла','Наименование листа','Тип ошибки'],data=[[name_file,diff_name_sheets,'Названия листов отличаются от эталонных']]) # создаем временный датафрейм. потом надо подумать над словарем\n",
    "\n",
    "                    err_df = pd.concat([err_df,temp_error_df],ignore_index=True) # добавляем в датафрейм ошибок\n",
    "                    \n",
    "                    continue\n",
    "                        \n",
    "                if standard_sheets == sorted(temb_wb.sheetnames):# если названия листов одинаковые то обрабатываем\n",
    "                    count_errors = 0\n",
    "\n",
    "\n",
    "                    for name_sheet,df in dct_df.items(): # Проводим проверку на совпадение\n",
    "                        print('*****')\n",
    "                        print(name_sheet)\n",
    "                        print(len(temb_wb[name_sheet][1]))                    \n",
    "                        print(df.shape)\n",
    "                        print('*****')\n",
    "                        if len(temb_wb[name_sheet][1]) !=df.shape[1]:\n",
    "                            # если количество колонок не совпадает то записываем как ошибку                           \n",
    "                            temp_error_df = pd.DataFrame(columns=['Название файла','Наименование листа','Тип ошибки'],data=[[name_file,name_sheet,'Количество колонок отличается от эталонного']]) # создаем временный датафрейм. потом надо подумать над словарем\n",
    "\n",
    "                            err_df = pd.concat([err_df,temp_error_df],ignore_index=True) # добавляем в датафрейм ошибок\n",
    "                            count_errors +=1\n",
    "                    print(count_errors)\n",
    "                     # если хоть одна ошибка то проверяем следующий файл\n",
    "                    if count_errors !=0:\n",
    "                        continue\n",
    "                    # если нет то начинаем обрабатывать листы\n",
    "                    for name_sheet,df in dct_df.items():\n",
    "                        temp_df = pd.read_excel(f'{dirpath}/{filename}',sheet_name=name_sheet,dtype=str) # загружаем датафрейм                    \n",
    "                        for row in dataframe_to_rows(temp_df,index=False,header=False):\n",
    "                            standard_wb[name_sheet].append(row) # добавляем данные\n",
    "            else:\n",
    "                continue # если не совпадает то проверяем следующий файл\n",
    "\n",
    "                \n",
    "# Получаем текущую дату\n",
    "current_time = time.strftime('%H_%M_%S %d.%m.%Y')\n",
    "standard_wb.save(f'{path_to_end_folder_merger}/Общая таблица от {current_time}.xlsx') # сохраняем"
   ]
  },
  {
   "cell_type": "code",
   "execution_count": null,
   "id": "fa181184",
   "metadata": {},
   "outputs": [],
   "source": []
  },
  {
   "cell_type": "code",
   "execution_count": null,
   "id": "d568d626",
   "metadata": {},
   "outputs": [],
   "source": []
  },
  {
   "cell_type": "code",
   "execution_count": null,
   "id": "cb0bb6d5",
   "metadata": {},
   "outputs": [],
   "source": []
  },
  {
   "cell_type": "code",
   "execution_count": null,
   "id": "3d99cf9a",
   "metadata": {},
   "outputs": [],
   "source": []
  },
  {
   "cell_type": "code",
   "execution_count": null,
   "id": "8f3397c4",
   "metadata": {},
   "outputs": [],
   "source": []
  },
  {
   "cell_type": "code",
   "execution_count": null,
   "id": "71b45984",
   "metadata": {},
   "outputs": [],
   "source": []
  },
  {
   "cell_type": "code",
   "execution_count": null,
   "id": "b5e1b535",
   "metadata": {},
   "outputs": [],
   "source": []
  },
  {
   "cell_type": "code",
   "execution_count": null,
   "id": "07387d66",
   "metadata": {},
   "outputs": [],
   "source": []
  },
  {
   "cell_type": "code",
   "execution_count": null,
   "id": "4dd8ca5f",
   "metadata": {},
   "outputs": [],
   "source": []
  },
  {
   "cell_type": "code",
   "execution_count": 249,
   "id": "32313c37",
   "metadata": {},
   "outputs": [],
   "source": [
    "#Бэкап"
   ]
  },
  {
   "cell_type": "raw",
   "id": "07f47b6f",
   "metadata": {},
   "source": [
    "for dirpath, dirnames, filenames in os.walk(dir_name):\n",
    "    for filename in filenames:\n",
    "        if filename.endswith('.xlsx') and filename != name_file_standard_merger:# не обрабатываем эталонный файл\n",
    "            # Получаем название файла без расширения\n",
    "            name_file = filename.split('.xlsx')[0]\n",
    "            print(name_file)\n",
    "            temb_wb = load_workbook(filename=f'{dirpath}/{filename}')  # загружаем файл\n",
    "            if standard_sheets == sorted(temb_wb.sheetnames):# если названия листов одинаковые то обрабатываем\n",
    "                count_errors = 0\n",
    "\n",
    "                \n",
    "                for name_sheet,df in dct_df.items(): # Проводим проверку на совпадение\n",
    "                    print('*****')\n",
    "                    print(name_sheet)\n",
    "                    print(len(temb_wb[name_sheet][1]))                    \n",
    "                    print(df.shape)\n",
    "                    print('*****')\n",
    "                    if len(temb_wb[name_sheet][1]) !=df.shape[1]:\n",
    "                        # если количество колонок не совпадает то записываем как ошибку                           \n",
    "                        temp_error_df = pd.DataFrame(columns=['Название файла','Наименование листа'],data=[[name_file,name_sheet]]) # создаем временный датафрейм. потом надо подумать над словарем\n",
    "\n",
    "                        err_df = pd.concat([err_df,temp_error_df],ignore_index=True) # добавляем в датафрейм ошибок\n",
    "                        count_errors +=1\n",
    "                print(count_errors)\n",
    "                 # если хоть одна ошибка то проверяем следующий файл\n",
    "                if count_errors !=0:\n",
    "                    continue\n",
    "                # если нет то начинаем обрабатывать листы\n",
    "                for name_sheet,df in dct_df.items():\n",
    "                    temp_df = pd.read_excel(f'{dirpath}/{filename}',sheet_name=name_sheet,dtype=str) # загружаем датафрейм                    \n",
    "                    for row in dataframe_to_rows(temp_df,index=False,header=False):\n",
    "                        standard_wb[name_sheet].append(row) # добавляем данные\n",
    "\n",
    "                \n",
    "# Получаем текущую дату\n",
    "current_time = time.strftime('%H_%M_%S %d.%m.%Y')\n",
    "standard_wb.save(f'{path_to_end_folder_merger}/Общая таблица от {current_time}.xlsx') # сохраняем"
   ]
  },
  {
   "cell_type": "markdown",
   "id": "ed8fe14c",
   "metadata": {},
   "source": [
    "# Сбор данных вне зависимости от названий листов"
   ]
  },
  {
   "cell_type": "markdown",
   "id": "7223341c",
   "metadata": {},
   "source": [
    "threshold_sheet =len(standard_wb.sheetnames) # считаем сколько листов в файле\n"
   ]
  },
  {
   "cell_type": "raw",
   "id": "d39d71bb",
   "metadata": {},
   "source": [
    "for dirpath, dirnames, filenames in os.walk(dir_name):\n",
    "    for filename in filenames:\n",
    "        if filename.endswith('.xlsx') and filename != name_file_standard_merger:# не обрабатываем эталонный файл\n",
    "            # Получаем название файла без расширения\n",
    "            name_file = filename.split('.xlsx')[0]\n",
    "            print(name_file)\n",
    "            temb_wb = load_workbook(filename=f'{dirpath}/{filename}')  # загружаем файл\n",
    "            print(temb_wb[temb_wb.sheetnames[0]].max_row)\n",
    "            print(temb_wb[temb_wb.sheetnames[0]].max_column)\n",
    "            if threshold_sheet == len(temb_wb.sheetnames):# если названия листов одинаковые то обрабатываем\n",
    "                count_errors = 0\n",
    "#                 print('Lindy Booth')\n",
    "#                 print(name_file)"
   ]
  },
  {
   "cell_type": "code",
   "execution_count": null,
   "id": "88082e9c",
   "metadata": {},
   "outputs": [],
   "source": []
  },
  {
   "cell_type": "code",
   "execution_count": null,
   "id": "3a41bc36",
   "metadata": {},
   "outputs": [],
   "source": []
  },
  {
   "cell_type": "code",
   "execution_count": null,
   "id": "04392b83",
   "metadata": {},
   "outputs": [],
   "source": []
  },
  {
   "cell_type": "code",
   "execution_count": null,
   "id": "a922e3b7",
   "metadata": {},
   "outputs": [],
   "source": []
  },
  {
   "cell_type": "code",
   "execution_count": null,
   "id": "080f30a5",
   "metadata": {},
   "outputs": [],
   "source": []
  },
  {
   "cell_type": "code",
   "execution_count": 250,
   "id": "e848a145",
   "metadata": {},
   "outputs": [],
   "source": [
    "err_df.to_excel(f'{path_to_end_folder_merger}/Файлы с неправильными листами от {current_time}.xlsx',index=False)"
   ]
  },
  {
   "cell_type": "code",
   "execution_count": null,
   "id": "ce3d9224",
   "metadata": {},
   "outputs": [],
   "source": []
  },
  {
   "cell_type": "code",
   "execution_count": null,
   "id": "49b8d1ea",
   "metadata": {},
   "outputs": [],
   "source": []
  }
 ],
 "metadata": {
  "kernelspec": {
   "display_name": "Python 3 (ipykernel)",
   "language": "python",
   "name": "python3"
  },
  "language_info": {
   "codemirror_mode": {
    "name": "ipython",
    "version": 3
   },
   "file_extension": ".py",
   "mimetype": "text/x-python",
   "name": "python",
   "nbconvert_exporter": "python",
   "pygments_lexer": "ipython3",
   "version": "3.9.13"
  }
 },
 "nbformat": 4,
 "nbformat_minor": 5
}
