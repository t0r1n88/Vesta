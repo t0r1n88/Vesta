{
 "cells": [
  {
   "cell_type": "code",
   "execution_count": 312,
   "id": "ee7d126b",
   "metadata": {},
   "outputs": [],
   "source": [
    "\"\"\"\n",
    "Скрипт для обработки данных  с многостраничных листов Excel\n",
    "\"\"\"\n",
    "import pandas as pd\n",
    "import os\n",
    "from dateutil.parser import ParserError\n",
    "from tkinter import *\n",
    "from tkinter import filedialog\n",
    "from tkinter import messagebox\n",
    "from tkinter import ttk\n",
    "import openpyxl\n",
    "from openpyxl.utils.dataframe import dataframe_to_rows\n",
    "from openpyxl.styles import Font\n",
    "from openpyxl.styles import Alignment\n",
    "from openpyxl import load_workbook\n",
    "import time\n",
    "import datetime\n",
    "import warnings\n",
    "\n",
    "warnings.filterwarnings('ignore', category=UserWarning, module='openpyxl')\n",
    "pd.options.mode.chained_assignment = None\n"
   ]
  },
  {
   "cell_type": "code",
   "execution_count": 313,
   "id": "c652001f",
   "metadata": {},
   "outputs": [],
   "source": [
    "skip_rows = 0\n",
    "file_standard_merger = 'data/harvest/Приложение_№_1_Чеченская_Республика_01_12 (2).xlsx'\n",
    "dir_name = 'data/harvest'\n",
    "path_to_end_folder_merger = 'data/temp'\n",
    "checkbox_harvest = 0"
   ]
  },
  {
   "cell_type": "code",
   "execution_count": 314,
   "id": "9b5830ad",
   "metadata": {},
   "outputs": [],
   "source": [
    "# Создаем датафрейм куда будем сохранять ошибочные файлы\n",
    "err_df = pd.DataFrame(columns=['Название файла','Наименование листа','Тип ошибки','Описание ошибки'])\n"
   ]
  },
  {
   "cell_type": "code",
   "execution_count": 315,
   "id": "1f0c7ea6",
   "metadata": {},
   "outputs": [],
   "source": [
    "name_file_standard_merger = file_standard_merger.split('/')[-1] # получаем имя файла"
   ]
  },
  {
   "cell_type": "code",
   "execution_count": 316,
   "id": "b0c9db5e",
   "metadata": {},
   "outputs": [],
   "source": [
    "standard_wb = load_workbook(filename=file_standard_merger) # Загружаем эталонный файл\n"
   ]
  },
  {
   "cell_type": "code",
   "execution_count": 317,
   "id": "04759f07",
   "metadata": {},
   "outputs": [
    {
     "data": {
      "text/plain": [
       "['ЯКраткое наименование колледжа',\n",
       " 'комментарии Горюновой М.Ю. ',\n",
       " 'Бвод- студенты ',\n",
       " 'свод- кадры ',\n",
       " 'свод - финансы и МТБ ']"
      ]
     },
     "execution_count": 317,
     "metadata": {},
     "output_type": "execute_result"
    }
   ],
   "source": [
    "standard_wb.sheetnames"
   ]
  },
  {
   "cell_type": "code",
   "execution_count": 318,
   "id": "a48543b8",
   "metadata": {},
   "outputs": [],
   "source": [
    "standard_sheets = sorted(standard_wb.sheetnames) # отсортрованный список листов по которому будет вестись сравнение\n",
    "standard_size_sheets = len(standard_sheets)"
   ]
  },
  {
   "cell_type": "code",
   "execution_count": 319,
   "id": "5f781950",
   "metadata": {},
   "outputs": [],
   "source": [
    "dct_df = dict() # создаем словарь в котором будем хранить да"
   ]
  },
  {
   "cell_type": "code",
   "execution_count": 320,
   "id": "10e0907e",
   "metadata": {},
   "outputs": [],
   "source": [
    "for sheet in standard_wb.sheetnames: # Добавляем в словарь датафреймы\n",
    "    temp_df = pd.read_excel(file_standard_merger,sheet_name=sheet,dtype=str)\n",
    "    dct_df[sheet] = temp_df  \n",
    "    \n",
    "\n",
    "\n"
   ]
  },
  {
   "cell_type": "code",
   "execution_count": null,
   "id": "5701e74b",
   "metadata": {},
   "outputs": [],
   "source": [
    "for dirpath, dirnames, filenames in os.walk(dir_name):\n",
    "    for filename in filenames:\n",
    "        if filename.endswith('.xlsx') and filename != name_file_standard_merger:# не обрабатываем эталонный файл\n",
    "            # Получаем название файла без расширения\n",
    "            name_file = filename.split('.xlsx')[0]\n",
    "            print(name_file)\n",
    "            temb_wb = load_workbook(filename=f'{dirpath}/{filename}')  # загружаем файл\n",
    "            if len(temb_wb.sheetnames) == standard_size_sheets: # сравниваем количество листов в файле\n",
    "                diff_name_sheets =  set(temb_wb.sheetnames).difference(set(standard_sheets))# проверяем разницу в названиях листов\n",
    "                print(diff_name_sheets)\n",
    "                if len(diff_name_sheets) !=0: # если разница в названиях есть то записываем в ошибки и обрабатываем следующий файл\n",
    "                    temp_error_df = pd.DataFrame(columns=['Название файла','Наименование листа','Тип ошибки','Описание ошибки'],data=[[name_file,'','Названия листов отличаются от эталонных',f'Отличаются следующие названия листов {diff_name_sheets}']]) # создаем временный датафрейм. потом надо подумать над словарем\n",
    "\n",
    "                    err_df = pd.concat([err_df,temp_error_df],ignore_index=True) # добавляем в датафрейм ошибок\n",
    "                    \n",
    "                    continue\n",
    "                        \n",
    "                if standard_sheets == sorted(temb_wb.sheetnames):# если названия листов одинаковые то обрабатываем\n",
    "                    count_errors = 0\n",
    "\n",
    "\n",
    "                    for name_sheet,df in dct_df.items(): # Проводим проверку на совпадение\n",
    "                        print('*****')\n",
    "                        print(name_sheet)\n",
    "                        print(len(temb_wb[name_sheet][1]))                    \n",
    "                        print(df.shape)\n",
    "                        print('*****')\n",
    "                        if len(temb_wb[name_sheet][1]) !=df.shape[1]:\n",
    "                            # если количество колонок не совпадает то записываем как ошибку                           \n",
    "                            temp_error_df = pd.DataFrame(columns=['Название файла','Наименование листа','Тип ошибки','Описание ошибки'],data=[[name_file,name_sheet,'Количество колонок отличается от эталонного',f'Ожидалось {df.shape[1]} колонок, а в листе {len(temb_wb[name_sheet][1])}']]) # создаем временный датафрейм. потом надо подумать над словарем\n",
    "\n",
    "                            err_df = pd.concat([err_df,temp_error_df],ignore_index=True) # добавляем в датафрейм ошибок\n",
    "                            count_errors +=1\n",
    "\n",
    "                     # если хоть одна ошибка то проверяем следующий файл\n",
    "                    if count_errors !=0:\n",
    "                        continue\n",
    "                    # если нет то начинаем обрабатывать листы\n",
    "                    for name_sheet,df in dct_df.items():\n",
    "                        temp_df = pd.read_excel(f'{dirpath}/{filename}',sheet_name=name_sheet,dtype=str) # загружаем датафрейм                    \n",
    "                        temp_df['Откуда взяты данные'] = name_file\n",
    "                        for row in dataframe_to_rows(temp_df,index=False,header=False):\n",
    "                            standard_wb[name_sheet].append(row) # добавляем данные\n",
    "            else:\n",
    "                continue # если не совпадает то проверяем следующий файл\n",
    "\n",
    "                \n",
    "# Получаем текущую дату\n",
    "current_time = time.strftime('%H_%M_%S %d.%m.%Y')\n",
    "standard_wb.save(f'{path_to_end_folder_merger}/Общая таблица от {current_time}.xlsx') # сохраняем\n",
    "err_df.to_excel(f'{path_to_end_folder_merger}/Файлы с неправильными листами от {current_time}.xlsx',index=False) # сохраняем ошибки\n"
   ]
  },
  {
   "cell_type": "code",
   "execution_count": null,
   "id": "c5337bfd",
   "metadata": {},
   "outputs": [],
   "source": []
  },
  {
   "cell_type": "code",
   "execution_count": null,
   "id": "ef35cbb9",
   "metadata": {},
   "outputs": [],
   "source": []
  },
  {
   "cell_type": "markdown",
   "id": "2ff8a3d7",
   "metadata": {},
   "source": [
    "# Сбор данных вне зависимости от названий листов"
   ]
  },
  {
   "cell_type": "code",
   "execution_count": 322,
   "id": "2f5e104b",
   "metadata": {},
   "outputs": [
    {
     "data": {
      "text/plain": [
       "dict_keys(['ЯКраткое наименование колледжа', 'комментарии Горюновой М.Ю. ', 'Бвод- студенты ', 'свод- кадры ', 'свод - финансы и МТБ '])"
      ]
     },
     "execution_count": 322,
     "metadata": {},
     "output_type": "execute_result"
    }
   ],
   "source": [
    "dct_df.keys()"
   ]
  },
  {
   "cell_type": "raw",
   "id": "cc7063a3",
   "metadata": {},
   "source": [
    "for dirpath, dirnames, filenames in os.walk(dir_name):\n",
    "    for filename in filenames:\n",
    "        if filename.endswith('.xlsx') and filename != name_file_standard_merger:# не обрабатываем эталонный файл\n",
    "            # Получаем название файла без расширения\n",
    "            name_file = filename.split('.xlsx')[0]\n",
    "            print(name_file)\n",
    "            temb_wb = load_workbook(filename=f'{dirpath}/{filename}')  # загружаем файл\n",
    "\n",
    "            if standard_size_sheets == len(temb_wb.sheetnames):# если количество листов одинаково то обрабатываем\n",
    "                count_errors = 0\n",
    "                for idx,data in enumerate(dct_df.items()): # Проводим проверку на совпадение\n",
    "                        print('*****')\n",
    "                        print(idx)\n",
    "                        name_sheet = data[0] # получаем название листа\n",
    "                        df = data[1] # получаем датафрейм\n",
    "                        print(name_sheet)\n",
    "                        temp_name_sheet = temb_wb.sheetnames[idx]\n",
    "                        print(len(temb_wb[temp_name_sheet][1]))\n",
    "                    \n",
    "                        print(df.shape)\n",
    "                        print('*****')\n",
    "                        if len(temb_wb[temp_name_sheet][1]) !=df.shape[1]:\n",
    "                            # если количество колонок не совпадает то записываем как ошибку                           \n",
    "                            temp_error_df = pd.DataFrame(columns=['Название файла','Наименование листа','Тип ошибки','Описание ошибки'],data=[[name_file,name_sheet,'Количество колонок отличается от эталонного',f'Ожидалось {df.shape[1]} колонок, а в листе {len(temb_wb[temp_name_sheet][1])}']]) # создаем временный датафрейм. потом надо подумать над словарем\n",
    "\n",
    "                            err_df = pd.concat([err_df,temp_error_df],ignore_index=True) # добавляем в датафрейм ошибок\n",
    "                            count_errors +=1\n",
    "                                     # если хоть одна ошибка то проверяем следующий файл\n",
    "                        if count_errors !=0:\n",
    "                            continue\n",
    "                        # если нет то начинаем обрабатывать листы\n",
    "                for name_sheet,df in dct_df.items():\n",
    "                    temp_df = pd.read_excel(f'{dirpath}/{filename}',sheet_name=temp_name_sheet,dtype=str) # загружаем датафрейм                    \n",
    "                    for row in dataframe_to_rows(temp_df,index=False,header=False):\n",
    "                        standard_wb[name_sheet].append(row) # добавляем данные\n",
    "            else:\n",
    "                continue # если не совпадает то проверяем следующий файл\n",
    "\n",
    "                \n",
    "# Получаем текущую дату\n",
    "current_time = time.strftime('%H_%M_%S %d.%m.%Y')\n",
    "standard_wb.save(f'{path_to_end_folder_merger}/Общая таблица от {current_time}.xlsx') # сохраняем\n",
    "                        \n"
   ]
  },
  {
   "cell_type": "code",
   "execution_count": null,
   "id": "610b722e",
   "metadata": {},
   "outputs": [],
   "source": []
  },
  {
   "cell_type": "code",
   "execution_count": null,
   "id": "b0eab5ac",
   "metadata": {},
   "outputs": [],
   "source": []
  },
  {
   "cell_type": "code",
   "execution_count": null,
   "id": "44ea0a25",
   "metadata": {},
   "outputs": [],
   "source": []
  },
  {
   "cell_type": "code",
   "execution_count": null,
   "id": "f7f9aa0d",
   "metadata": {},
   "outputs": [],
   "source": []
  },
  {
   "cell_type": "code",
   "execution_count": null,
   "id": "b19e8f00",
   "metadata": {},
   "outputs": [],
   "source": []
  },
  {
   "cell_type": "code",
   "execution_count": 323,
   "id": "e848a145",
   "metadata": {},
   "outputs": [],
   "source": []
  },
  {
   "cell_type": "code",
   "execution_count": null,
   "id": "ce3d9224",
   "metadata": {},
   "outputs": [],
   "source": []
  },
  {
   "cell_type": "code",
   "execution_count": null,
   "id": "49b8d1ea",
   "metadata": {},
   "outputs": [],
   "source": []
  }
 ],
 "metadata": {
  "kernelspec": {
   "display_name": "Python 3 (ipykernel)",
   "language": "python",
   "name": "python3"
  },
  "language_info": {
   "codemirror_mode": {
    "name": "ipython",
    "version": 3
   },
   "file_extension": ".py",
   "mimetype": "text/x-python",
   "name": "python",
   "nbconvert_exporter": "python",
   "pygments_lexer": "ipython3",
   "version": "3.9.13"
  }
 },
 "nbformat": 4,
 "nbformat_minor": 5
}
