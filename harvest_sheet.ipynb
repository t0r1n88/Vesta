{
 "cells": [
  {
   "cell_type": "code",
   "execution_count": 194,
   "id": "ee7d126b",
   "metadata": {},
   "outputs": [],
   "source": [
    "\"\"\"\n",
    "Скрипт для обработки данных  с многостраничных листов Excel\n",
    "\"\"\"\n",
    "import pandas as pd\n",
    "import os\n",
    "from dateutil.parser import ParserError\n",
    "from tkinter import *\n",
    "from tkinter import filedialog\n",
    "from tkinter import messagebox\n",
    "from tkinter import ttk\n",
    "import openpyxl\n",
    "from openpyxl.utils.dataframe import dataframe_to_rows\n",
    "from openpyxl.styles import Font\n",
    "from openpyxl.styles import Alignment\n",
    "from openpyxl import load_workbook\n",
    "import time\n",
    "import datetime\n",
    "import warnings\n",
    "\n",
    "warnings.filterwarnings('ignore', category=UserWarning, module='openpyxl')\n",
    "pd.options.mode.chained_assignment = None\n"
   ]
  },
  {
   "cell_type": "code",
   "execution_count": 195,
   "id": "c652001f",
   "metadata": {},
   "outputs": [],
   "source": [
    "skip_rows = 0\n",
    "file_standard_merger = 'data/harvest/Приложение_№_1_Чеченская_Республика_01_12 (2).xlsx'\n",
    "dir_name = 'data/harvest'\n",
    "path_to_end_folder_merger = 'data/temp'\n",
    "checkbox_harvest = 0"
   ]
  },
  {
   "cell_type": "code",
   "execution_count": 196,
   "id": "dc2c42be",
   "metadata": {},
   "outputs": [],
   "source": [
    "# Создаем датафрейм куда будем сохранять ошибочные файлы\n",
    "err_df = pd.DataFrame(columns=['Название файла','Наименование листа'])\n",
    "errors_dct = dict() # создаем словарь для файлов и листов с ошибками"
   ]
  },
  {
   "cell_type": "code",
   "execution_count": 197,
   "id": "1f0c7ea6",
   "metadata": {},
   "outputs": [],
   "source": [
    "name_file_standard_merger = file_standard_merger.split('/')[-1] # получаем имя файла"
   ]
  },
  {
   "cell_type": "code",
   "execution_count": 198,
   "id": "b0c9db5e",
   "metadata": {},
   "outputs": [],
   "source": [
    "standard_wb = load_workbook(filename=file_standard_merger) # Загружаем эталонный файл\n"
   ]
  },
  {
   "cell_type": "code",
   "execution_count": 199,
   "id": "04759f07",
   "metadata": {},
   "outputs": [
    {
     "data": {
      "text/plain": [
       "['ЯКраткое наименование колледжа',\n",
       " 'комментарии Горюновой М.Ю. ',\n",
       " 'Бвод- студенты ',\n",
       " 'свод- кадры ',\n",
       " 'свод - финансы и МТБ ']"
      ]
     },
     "execution_count": 199,
     "metadata": {},
     "output_type": "execute_result"
    }
   ],
   "source": [
    "standard_wb.sheetnames"
   ]
  },
  {
   "cell_type": "code",
   "execution_count": 200,
   "id": "a48543b8",
   "metadata": {},
   "outputs": [],
   "source": [
    "standard_sheets = sorted(standard_wb.sheetnames)"
   ]
  },
  {
   "cell_type": "code",
   "execution_count": 201,
   "id": "5f781950",
   "metadata": {},
   "outputs": [],
   "source": [
    "dct_df = dict() # создаем словарь в котором будем хранить да"
   ]
  },
  {
   "cell_type": "code",
   "execution_count": 202,
   "id": "10e0907e",
   "metadata": {},
   "outputs": [],
   "source": [
    "for idx,sheet in enumerate(standard_wb.sheetnames): # Добавляем в словарь датафреймы\n",
    "    temp_df = pd.read_excel(file_standard_merger,sheet_name=sheet,dtype=str)\n",
    "    dct_df[sheet] = temp_df  \n",
    "    \n",
    "\n",
    "\n"
   ]
  },
  {
   "cell_type": "code",
   "execution_count": 203,
   "id": "3adb906c",
   "metadata": {},
   "outputs": [
    {
     "name": "stdout",
     "output_type": "stream",
     "text": [
      "1 форма Алания (2)\n",
      "Данные_для_отчета_Кабардино_Балкария (2)\n",
      "Ингушетия Приложение_№_1 (2)\n",
      "Приложение_№_1_СКФО_Ставрополь (2)\n",
      "Проверка на правильность листов 2\n",
      "*****\n",
      "ЯКраткое наименование колледжа\n",
      "53\n",
      "(19, 55)\n",
      "*****\n",
      "*****\n",
      "комментарии Горюновой М.Ю. \n",
      "55\n",
      "(19, 55)\n",
      "*****\n",
      "*****\n",
      "Бвод- студенты \n",
      "22\n",
      "(18, 23)\n",
      "*****\n",
      "*****\n",
      "свод- кадры \n",
      "18\n",
      "(19, 18)\n",
      "*****\n",
      "*****\n",
      "свод - финансы и МТБ \n",
      "11\n",
      "(18, 14)\n",
      "*****\n",
      "3\n",
      "Проверка на правильность листов\n",
      "*****\n",
      "ЯКраткое наименование колледжа\n",
      "53\n",
      "(19, 55)\n",
      "*****\n",
      "*****\n",
      "комментарии Горюновой М.Ю. \n",
      "55\n",
      "(19, 55)\n",
      "*****\n",
      "*****\n",
      "Бвод- студенты \n",
      "22\n",
      "(18, 23)\n",
      "*****\n",
      "*****\n",
      "свод- кадры \n",
      "18\n",
      "(19, 18)\n",
      "*****\n",
      "*****\n",
      "свод - финансы и МТБ \n",
      "14\n",
      "(18, 14)\n",
      "*****\n",
      "2\n",
      "Проверка Чечня\n",
      "*****\n",
      "ЯКраткое наименование колледжа\n",
      "55\n",
      "(19, 55)\n",
      "*****\n",
      "*****\n",
      "комментарии Горюновой М.Ю. \n",
      "55\n",
      "(19, 55)\n",
      "*****\n",
      "*****\n",
      "Бвод- студенты \n",
      "23\n",
      "(18, 23)\n",
      "*****\n",
      "*****\n",
      "свод- кадры \n",
      "18\n",
      "(19, 18)\n",
      "*****\n",
      "*****\n",
      "свод - финансы и МТБ \n",
      "14\n",
      "(18, 14)\n",
      "*****\n",
      "0\n"
     ]
    }
   ],
   "source": [
    "for dirpath, dirnames, filenames in os.walk(dir_name):\n",
    "    for filename in filenames:\n",
    "        if filename.endswith('.xlsx') and filename != name_file_standard_merger:# не обрабатываем эталонный файл\n",
    "            # Получаем название файла без расширения\n",
    "            name_file = filename.split('.xlsx')[0]\n",
    "            print(name_file)\n",
    "            temb_wb = load_workbook(filename=f'{dirpath}/{filename}')  # загружаем файл\n",
    "            if standard_sheets == sorted(temb_wb.sheetnames):# если названия листов одинаковые то обрабатываем\n",
    "                count_errors = 0\n",
    "#                 print('Lindy Booth')\n",
    "#                 print(name_file)\n",
    "\n",
    "                \n",
    "                for name_sheet,df in dct_df.items(): # Проводим проверку на совпадение\n",
    "                    print('*****')\n",
    "                    print(name_sheet)\n",
    "                    print(len(temb_wb[name_sheet][1]))                    \n",
    "                    print(df.shape)\n",
    "                    print('*****')\n",
    "                    if len(temb_wb[name_sheet][1]) !=df.shape[1]:\n",
    "                        # если количество колонок не совпадает то записываем как ошибку                           \n",
    "                        temp_error_df = pd.DataFrame(columns=['Название файла','Наименование листа'],data=[[name_file,name_sheet]]) # создаем временный датафрейм. потом надо подумать над словарем\n",
    "\n",
    "                        err_df = pd.concat([err_df,temp_error_df],ignore_index=True) # добавляем в датафрейм ошибок\n",
    "                        count_errors +=1\n",
    "                print(count_errors)\n",
    "                 # если хоть одна ошибка то проверяем следующий файл\n",
    "                if count_errors !=0:\n",
    "                    continue\n",
    "                # если нет то начинаем обрабатывать листы\n",
    "                for name_sheet,df in dct_df.items():\n",
    "                    temp_df = pd.read_excel(f'{dirpath}/{filename}',sheet_name=name_sheet,dtype=str) # загружаем датафрейм                    \n",
    "                    for row in dataframe_to_rows(temp_df,index=False,header=False):\n",
    "                        standard_wb[name_sheet].append(row) # добавляем данные\n",
    "\n",
    "                \n",
    "# Получаем текущую дату\n",
    "current_time = time.strftime('%H_%M_%S %d.%m.%Y')\n",
    "standard_wb.save(f'{path_to_end_folder_merger}/Общая таблица от {current_time}.xlsx') # сохраняем\n",
    "                    \n",
    "                    \n",
    "                    \n",
    "                \n",
    "                \n",
    "                \n",
    "                \n",
    "\n",
    "                    "
   ]
  },
  {
   "cell_type": "code",
   "execution_count": 204,
   "id": "e848a145",
   "metadata": {},
   "outputs": [
    {
     "data": {
      "text/html": [
       "<div>\n",
       "<style scoped>\n",
       "    .dataframe tbody tr th:only-of-type {\n",
       "        vertical-align: middle;\n",
       "    }\n",
       "\n",
       "    .dataframe tbody tr th {\n",
       "        vertical-align: top;\n",
       "    }\n",
       "\n",
       "    .dataframe thead th {\n",
       "        text-align: right;\n",
       "    }\n",
       "</style>\n",
       "<table border=\"1\" class=\"dataframe\">\n",
       "  <thead>\n",
       "    <tr style=\"text-align: right;\">\n",
       "      <th></th>\n",
       "      <th>Название файла</th>\n",
       "      <th>Наименование листа</th>\n",
       "    </tr>\n",
       "  </thead>\n",
       "  <tbody>\n",
       "    <tr>\n",
       "      <th>0</th>\n",
       "      <td>Проверка на правильность листов 2</td>\n",
       "      <td>ЯКраткое наименование колледжа</td>\n",
       "    </tr>\n",
       "    <tr>\n",
       "      <th>1</th>\n",
       "      <td>Проверка на правильность листов 2</td>\n",
       "      <td>Бвод- студенты</td>\n",
       "    </tr>\n",
       "    <tr>\n",
       "      <th>2</th>\n",
       "      <td>Проверка на правильность листов 2</td>\n",
       "      <td>свод - финансы и МТБ</td>\n",
       "    </tr>\n",
       "    <tr>\n",
       "      <th>3</th>\n",
       "      <td>Проверка на правильность листов</td>\n",
       "      <td>ЯКраткое наименование колледжа</td>\n",
       "    </tr>\n",
       "    <tr>\n",
       "      <th>4</th>\n",
       "      <td>Проверка на правильность листов</td>\n",
       "      <td>Бвод- студенты</td>\n",
       "    </tr>\n",
       "  </tbody>\n",
       "</table>\n",
       "</div>"
      ],
      "text/plain": [
       "                      Название файла              Наименование листа\n",
       "0  Проверка на правильность листов 2  ЯКраткое наименование колледжа\n",
       "1  Проверка на правильность листов 2                 Бвод- студенты \n",
       "2  Проверка на правильность листов 2           свод - финансы и МТБ \n",
       "3    Проверка на правильность листов  ЯКраткое наименование колледжа\n",
       "4    Проверка на правильность листов                 Бвод- студенты "
      ]
     },
     "execution_count": 204,
     "metadata": {},
     "output_type": "execute_result"
    }
   ],
   "source": [
    "err_df.to"
   ]
  },
  {
   "cell_type": "code",
   "execution_count": null,
   "id": "ce3d9224",
   "metadata": {},
   "outputs": [],
   "source": []
  },
  {
   "cell_type": "code",
   "execution_count": null,
   "id": "49b8d1ea",
   "metadata": {},
   "outputs": [],
   "source": []
  }
 ],
 "metadata": {
  "kernelspec": {
   "display_name": "Python 3 (ipykernel)",
   "language": "python",
   "name": "python3"
  },
  "language_info": {
   "codemirror_mode": {
    "name": "ipython",
    "version": 3
   },
   "file_extension": ".py",
   "mimetype": "text/x-python",
   "name": "python",
   "nbconvert_exporter": "python",
   "pygments_lexer": "ipython3",
   "version": "3.9.13"
  }
 },
 "nbformat": 4,
 "nbformat_minor": 5
}
