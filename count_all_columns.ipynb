{
 "cells": [
  {
   "cell_type": "code",
   "execution_count": 78,
   "id": "58eefc1b",
   "metadata": {},
   "outputs": [
    {
     "data": {
      "text/plain": [
       "'\\nСоздание частотных таблиц для каждой из колонок таблицы\\n\\n'"
      ]
     },
     "execution_count": 78,
     "metadata": {},
     "output_type": "execute_result"
    }
   ],
   "source": [
    "\"\"\"\n",
    "Создание частотных таблиц для каждой из колонок таблицы\n",
    "\n",
    "\"\"\""
   ]
  },
  {
   "cell_type": "code",
   "execution_count": 79,
   "id": "fc41ff8a",
   "metadata": {},
   "outputs": [],
   "source": [
    "import pandas as pd\n",
    "import openpyxl\n",
    "from openpyxl.utils.dataframe import dataframe_to_rows\n",
    "from openpyxl.styles import Font\n",
    "from openpyxl.styles import Alignment\n",
    "import time"
   ]
  },
  {
   "cell_type": "code",
   "execution_count": 80,
   "id": "b75bb25a",
   "metadata": {},
   "outputs": [
    {
     "name": "stdout",
     "output_type": "stream",
     "text": [
      "Колонки в таблице Index(['ФИО', '5', 'Организация, город   Отметка о пролонгации свидетельства',\n",
      "       'Регион', '№ свидетельства', 'Компетенция', 'Дата выдачи',\n",
      "       'Срок действия (лет)', 'Телефон', 'Имейл'],\n",
      "      dtype='object')\n"
     ]
    }
   ],
   "source": [
    "name_file_data_groupby = 'data/Эксперты ВСР.xlsx'\n",
    "path_to_end_folder_groupby = 'data'\n",
    "\n",
    "df = pd.read_excel(name_file_data_groupby)\n",
    "\n",
    "print(f'Колонки в таблице {df.columns}')\n",
    "# Добавляем столбец для облегчения подсчета по категориям\n",
    "df['Для подсчета'] = 1\n",
    "# Создаем шрифт которым будем выделять названия таблиц\n",
    "font_name_table = Font(name='Arial Black', size=15, italic=True)\n",
    "# Создаем файл excel\n",
    "wb = openpyxl.Workbook()\n",
    "\n",
    "# Делаем названия колонок строковыми\n",
    "df.columns = list(map(str,list(df.columns)))\n",
    "\n",
    "# Создаем листы\n",
    "for idx,name_column in enumerate(df.columns):\n",
    "    # Делаем короткое название не более 15 символов\n",
    "    wb.create_sheet(title=name_column[:15],index=idx)"
   ]
  },
  {
   "cell_type": "code",
   "execution_count": 81,
   "id": "9527b531",
   "metadata": {},
   "outputs": [],
   "source": [
    "\n",
    "for idx,name_column in enumerate(df.columns):\n",
    "    group_df = df.groupby([name_column]).agg({'Для подсчета': 'sum'})\n",
    "    group_df.columns = ['Количество']\n",
    "    \n",
    "\n",
    "        \n",
    "    # Сортируем по убыванию\n",
    "    group_df.sort_values(by=['Количество'],inplace=True,ascending=False)\n",
    "    \n",
    "\n",
    "    for r in dataframe_to_rows(group_df, index=True, header=True):\n",
    "        if len(r) != 1:\n",
    "            wb[name_column[:15]].append(r)\n",
    "    wb[name_column[:15]].column_dimensions['A'].width = 50\n",
    "    \n"
   ]
  },
  {
   "cell_type": "code",
   "execution_count": 82,
   "id": "a12b219c",
   "metadata": {},
   "outputs": [],
   "source": [
    "\n",
    "# генерируем текущее время\n",
    "t = time.localtime()\n",
    "current_time = time.strftime('%H_%M_%S', t)\n",
    "# Удаляем листы \n",
    "del wb['Sheet']\n",
    "del wb['Для подсчета']\n",
    "# Сохраняем итоговый файл\n",
    "wb.save(f'{path_to_end_folder_groupby}/Подсчет частоты значений для всех колонок таблицы от {current_time}.xlsx')"
   ]
  },
  {
   "cell_type": "code",
   "execution_count": null,
   "id": "392bdabb",
   "metadata": {},
   "outputs": [],
   "source": []
  }
 ],
 "metadata": {
  "kernelspec": {
   "display_name": "Python 3 (ipykernel)",
   "language": "python",
   "name": "python3"
  },
  "language_info": {
   "codemirror_mode": {
    "name": "ipython",
    "version": 3
   },
   "file_extension": ".py",
   "mimetype": "text/x-python",
   "name": "python",
   "nbconvert_exporter": "python",
   "pygments_lexer": "ipython3",
   "version": "3.9.13"
  }
 },
 "nbformat": 4,
 "nbformat_minor": 5
}
