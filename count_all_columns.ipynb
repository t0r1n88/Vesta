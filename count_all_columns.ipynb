{
 "cells": [
  {
   "cell_type": "code",
   "execution_count": 214,
   "id": "3039a630",
   "metadata": {},
   "outputs": [
    {
     "data": {
      "text/plain": [
       "'\\nСоздание частотных таблиц для каждой из колонок таблицы\\n\\n'"
      ]
     },
     "execution_count": 214,
     "metadata": {},
     "output_type": "execute_result"
    }
   ],
   "source": [
    "\"\"\"\n",
    "Создание частотных таблиц для каждой из колонок таблицы\n",
    "\n",
    "\"\"\""
   ]
  },
  {
   "cell_type": "code",
   "execution_count": 215,
   "id": "bc404113",
   "metadata": {},
   "outputs": [],
   "source": [
    "import pandas as pd\n",
    "import openpyxl\n",
    "from openpyxl.utils.dataframe import dataframe_to_rows\n",
    "from openpyxl.styles import Font\n",
    "from openpyxl.styles import Alignment\n",
    "import time\n",
    "from collections import Counter"
   ]
  },
  {
   "cell_type": "code",
   "execution_count": 216,
   "id": "eadae50d",
   "metadata": {},
   "outputs": [],
   "source": [
    "name_file_data_groupby = 'data/Эксперты ВСР.xlsx'\n",
    "path_to_end_folder_groupby = 'data'\n"
   ]
  },
  {
   "cell_type": "code",
   "execution_count": 217,
   "id": "e4ae8b85",
   "metadata": {},
   "outputs": [
    {
     "name": "stdout",
     "output_type": "stream",
     "text": [
      "Колонки в таблице Index(['ФИО', 'Пробелы',\n",
      "       'Организация, город   Отметка о пролонгации свидетельства', 'Регион',\n",
      "       '№ свидетельства', 'Компетенция', 'Дата выдачи', 'Срок действия (лет)',\n",
      "       'Телефон', 'Имейл'],\n",
      "      dtype='object')\n"
     ]
    }
   ],
   "source": [
    "df = pd.read_excel(name_file_data_groupby)\n",
    "\n",
    "print(f'Колонки в таблице {df.columns}')\n",
    "\n",
    "# Создаем шрифт которым будем выделять названия таблиц\n",
    "font_name_table = Font(name='Arial Black', size=15, italic=True)\n",
    "# Создаем файл excel\n",
    "wb = openpyxl.Workbook()"
   ]
  },
  {
   "cell_type": "code",
   "execution_count": 218,
   "id": "df44d759",
   "metadata": {},
   "outputs": [],
   "source": [
    "# Проверяем наличие возможных дубликатов ,котороые могут получиться если обрезать по 30 символов\n",
    "lst_length_column = [column[:30] for column in df.columns]\n",
    "\n",
    "check_dupl_length = [k for k,v in Counter(lst_length_column).items() if v>1]\n"
   ]
  },
  {
   "cell_type": "code",
   "execution_count": 219,
   "id": "4caf01f2",
   "metadata": {},
   "outputs": [
    {
     "data": {
      "text/plain": [
       "[]"
      ]
     },
     "execution_count": 219,
     "metadata": {},
     "output_type": "execute_result"
    }
   ],
   "source": [
    "check_dupl_length"
   ]
  },
  {
   "cell_type": "code",
   "execution_count": 220,
   "id": "55034b64",
   "metadata": {},
   "outputs": [],
   "source": [
    "# проверяем наличие объединенных ячеек\n",
    "check_merge = [ column for column in df.columns if 'Unnamed' in column]\n",
    "# если есть хоть один Unnamed то просто заменяем названия колонок на Колонка №цифра\n",
    "if check_merge or check_dupl_length:\n",
    "    df.columns = [f'Колонка №{i}' for i in range(1,df.shape[1]+1)]"
   ]
  },
  {
   "cell_type": "code",
   "execution_count": 221,
   "id": "a2bc2888",
   "metadata": {},
   "outputs": [],
   "source": [
    "# Делаем названия колонок строковыми\n",
    "df.columns = list(map(str,list(df.columns)))\n",
    "# Добавляем столбец для облегчения подсчета по категориям\n",
    "df['Для подсчета'] = 1"
   ]
  },
  {
   "cell_type": "code",
   "execution_count": 222,
   "id": "0a1079c2",
   "metadata": {},
   "outputs": [],
   "source": [
    "# Создаем листы\n",
    "for idx,name_column in enumerate(df.columns):\n",
    "    # Делаем короткое название не более 30 символов\n",
    "    wb.create_sheet(title=name_column[:30],index=idx)"
   ]
  },
  {
   "cell_type": "code",
   "execution_count": null,
   "id": "d66979cc",
   "metadata": {},
   "outputs": [],
   "source": []
  },
  {
   "cell_type": "code",
   "execution_count": 223,
   "id": "9ec69e01",
   "metadata": {},
   "outputs": [],
   "source": [
    "\n",
    "for idx,name_column in enumerate(df.columns):\n",
    "    group_df = df.groupby([name_column]).agg({'Для подсчета': 'sum'})\n",
    "    group_df.columns = ['Количество']\n",
    "    \n",
    "\n",
    "        \n",
    "    # Сортируем по убыванию\n",
    "    group_df.sort_values(by=['Количество'],inplace=True,ascending=False)\n",
    "    \n",
    "\n",
    "    for r in dataframe_to_rows(group_df, index=True, header=True):\n",
    "        if len(r) != 1:\n",
    "            wb[name_column[:30]].append(r)\n",
    "    wb[name_column[:30]].column_dimensions['A'].width = 50\n",
    "    \n"
   ]
  },
  {
   "cell_type": "code",
   "execution_count": 224,
   "id": "d61114b8",
   "metadata": {},
   "outputs": [],
   "source": [
    "\n",
    "# генерируем текущее время\n",
    "t = time.localtime()\n",
    "current_time = time.strftime('%H_%M_%S', t)\n",
    "# Удаляем листы \n",
    "del wb['Sheet']\n",
    "del wb['Для подсчета']\n",
    "# Сохраняем итоговый файл\n",
    "wb.save(f'{path_to_end_folder_groupby}/Подсчет частоты значений для всех колонок таблицы от {current_time}.xlsx')"
   ]
  },
  {
   "cell_type": "code",
   "execution_count": null,
   "id": "df3ac728",
   "metadata": {},
   "outputs": [],
   "source": []
  }
 ],
 "metadata": {
  "kernelspec": {
   "display_name": "Python 3 (ipykernel)",
   "language": "python",
   "name": "python3"
  },
  "language_info": {
   "codemirror_mode": {
    "name": "ipython",
    "version": 3
   },
   "file_extension": ".py",
   "mimetype": "text/x-python",
   "name": "python",
   "nbconvert_exporter": "python",
   "pygments_lexer": "ipython3",
   "version": "3.9.13"
  }
 },
 "nbformat": 4,
 "nbformat_minor": 5
}
